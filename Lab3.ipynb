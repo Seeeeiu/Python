{
  "nbformat": 4,
  "nbformat_minor": 0,
  "metadata": {
    "colab": {
      "name": "Lab3.ipynb",
      "version": "0.3.2",
      "provenance": [],
      "collapsed_sections": [],
      "include_colab_link": true
    },
    "kernelspec": {
      "name": "python3",
      "display_name": "Python 3"
    },
    "accelerator": "GPU"
  },
  "cells": [
    {
      "cell_type": "markdown",
      "metadata": {
        "id": "view-in-github",
        "colab_type": "text"
      },
      "source": [
        "<a href=\"https://colab.research.google.com/github/Seeeeiu/Python/blob/master/Lab3.ipynb\" target=\"_parent\"><img src=\"https://colab.research.google.com/assets/colab-badge.svg\" alt=\"Open In Colab\"/></a>"
      ]
    },
    {
      "metadata": {
        "id": "zmCEhBTMx1Kd",
        "colab_type": "text"
      },
      "cell_type": "markdown",
      "source": [
        "# Lab 3"
      ]
    },
    {
      "metadata": {
        "id": "7H2OZ3w_x1KU",
        "colab_type": "code",
        "outputId": "f79896f1-a6d6-47f1-c9c6-97261f002c23",
        "colab": {
          "base_uri": "https://localhost:8080/",
          "height": 35
        }
      },
      "cell_type": "code",
      "source": [
        "import keras\n",
        "keras.__version__"
      ],
      "execution_count": 20,
      "outputs": [
        {
          "output_type": "execute_result",
          "data": {
            "text/plain": [
              "'2.2.4'"
            ]
          },
          "metadata": {
            "tags": []
          },
          "execution_count": 20
        }
      ]
    },
    {
      "metadata": {
        "id": "7bT-sr6Zx1Kf",
        "colab_type": "code",
        "colab": {}
      },
      "cell_type": "code",
      "source": [
        "from keras.datasets import mnist\n",
        "\n",
        "(train_images, train_labels), (test_images, test_labels) = mnist.load_data()"
      ],
      "execution_count": 0,
      "outputs": []
    },
    {
      "metadata": {
        "id": "BuqVWEBvJKts",
        "colab_type": "text"
      },
      "cell_type": "markdown",
      "source": [
        "#### Reshape and Scale Features\n"
      ]
    },
    {
      "metadata": {
        "id": "gxPxYuj5x1K9",
        "colab_type": "code",
        "colab": {}
      },
      "cell_type": "code",
      "source": [
        "train_images = train_images.reshape((60000, 28 * 28))\n",
        "train_images = train_images.astype('float32') / 255\n",
        "\n",
        "test_images = test_images.reshape((10000, 28 * 28))\n",
        "test_images = test_images.astype('float32') / 255"
      ],
      "execution_count": 0,
      "outputs": []
    },
    {
      "metadata": {
        "id": "4CMFjViuJkv6",
        "colab_type": "text"
      },
      "cell_type": "markdown",
      "source": [
        "#### Convert Labels to Dummy Variables"
      ]
    },
    {
      "metadata": {
        "id": "6p2_hFR2x1LB",
        "colab_type": "code",
        "colab": {}
      },
      "cell_type": "code",
      "source": [
        "from keras.utils import to_categorical\n",
        "\n",
        "train_labels = to_categorical(train_labels)\n",
        "test_labels = to_categorical(test_labels)"
      ],
      "execution_count": 0,
      "outputs": []
    },
    {
      "metadata": {
        "id": "AE5AnSonMtOW",
        "colab_type": "text"
      },
      "cell_type": "markdown",
      "source": [
        "## Example Problem:"
      ]
    },
    {
      "metadata": {
        "id": "FMH-o_BaI_y4",
        "colab_type": "text"
      },
      "cell_type": "markdown",
      "source": [
        "#### Specify Model Architecture"
      ]
    },
    {
      "metadata": {
        "id": "58cB7tDKx1K4",
        "colab_type": "code",
        "colab": {
          "base_uri": "https://localhost:8080/",
          "height": 208
        },
        "outputId": "2a15c98b-8029-45c6-f0fa-0233c787da49"
      },
      "cell_type": "code",
      "source": [
        "from keras import models\n",
        "from keras import layers\n",
        "\n",
        "network = models.Sequential()\n",
        "network.add(layers.Dense(512, activation='relu', input_shape=(28 * 28,)))\n",
        "network.add(layers.Dense(10, activation='softmax'))\n",
        "network.summary()"
      ],
      "execution_count": 24,
      "outputs": [
        {
          "output_type": "stream",
          "text": [
            "_________________________________________________________________\n",
            "Layer (type)                 Output Shape              Param #   \n",
            "=================================================================\n",
            "dense_11 (Dense)             (None, 512)               401920    \n",
            "_________________________________________________________________\n",
            "dense_12 (Dense)             (None, 10)                5130      \n",
            "=================================================================\n",
            "Total params: 407,050\n",
            "Trainable params: 407,050\n",
            "Non-trainable params: 0\n",
            "_________________________________________________________________\n"
          ],
          "name": "stdout"
        }
      ]
    },
    {
      "metadata": {
        "id": "nRDc3WZPJLgp",
        "colab_type": "text"
      },
      "cell_type": "markdown",
      "source": [
        "#### Compile Model "
      ]
    },
    {
      "metadata": {
        "id": "aQaHb3U1x1K6",
        "colab_type": "code",
        "colab": {}
      },
      "cell_type": "code",
      "source": [
        "network.compile(optimizer='rmsprop',\n",
        "                loss='categorical_crossentropy',\n",
        "                metrics=['accuracy'])"
      ],
      "execution_count": 0,
      "outputs": []
    },
    {
      "metadata": {
        "id": "Dp0HE_MUx1LE",
        "colab_type": "text"
      },
      "cell_type": "markdown",
      "source": [
        "#### Train the Network"
      ]
    },
    {
      "metadata": {
        "id": "4klsWEQ2x1LF",
        "colab_type": "code",
        "outputId": "c37b0bf4-7c9a-4496-e01d-a993fb2cdaa3",
        "colab": {
          "base_uri": "https://localhost:8080/",
          "height": 208
        }
      },
      "cell_type": "code",
      "source": [
        "import time as t\n",
        "now=t.time()\n",
        "network.fit(train_images, train_labels, epochs=5, batch_size=128)\n",
        "elapsed = t.time()-now\n",
        "print(elapsed)"
      ],
      "execution_count": 26,
      "outputs": [
        {
          "output_type": "stream",
          "text": [
            "Epoch 1/5\n",
            "60000/60000 [==============================] - 2s 34us/step - loss: 0.2565 - acc: 0.9261\n",
            "Epoch 2/5\n",
            "60000/60000 [==============================] - 2s 33us/step - loss: 0.1033 - acc: 0.9693\n",
            "Epoch 3/5\n",
            "60000/60000 [==============================] - 2s 33us/step - loss: 0.0682 - acc: 0.9797\n",
            "Epoch 4/5\n",
            "60000/60000 [==============================] - 2s 33us/step - loss: 0.0489 - acc: 0.9853\n",
            "Epoch 5/5\n",
            "60000/60000 [==============================] - 2s 33us/step - loss: 0.0365 - acc: 0.9889\n",
            "10.1860511302948\n"
          ],
          "name": "stdout"
        }
      ]
    },
    {
      "metadata": {
        "id": "Z6gS5TOtx1LI",
        "colab_type": "text"
      },
      "cell_type": "markdown",
      "source": [
        "#### Evaluate the Test Data"
      ]
    },
    {
      "metadata": {
        "id": "jLJrj-ewx1LJ",
        "colab_type": "code",
        "outputId": "e60cba96-7129-4543-b188-36197fac1a63",
        "colab": {
          "base_uri": "https://localhost:8080/",
          "height": 52
        }
      },
      "cell_type": "code",
      "source": [
        "test_loss, test_acc = network.evaluate(test_images, test_labels)\n",
        "print('test_acc:', test_acc)"
      ],
      "execution_count": 27,
      "outputs": [
        {
          "output_type": "stream",
          "text": [
            "10000/10000 [==============================] - 0s 48us/step\n",
            "test_acc: 0.9762\n"
          ],
          "name": "stdout"
        }
      ]
    },
    {
      "metadata": {
        "id": "7Q5U_O8lx1LR",
        "colab_type": "text"
      },
      "cell_type": "markdown",
      "source": [
        "## Problem 1:\n",
        "\n",
        "a. Modify the example model above to contain 3 hidden layers of 512 neurons each.  \n"
      ]
    },
    {
      "metadata": {
        "id": "pvmdb5siMLNH",
        "colab_type": "code",
        "colab": {}
      },
      "cell_type": "code",
      "source": [
        "network = models.Sequential()\n",
        "network.add(layers.Dense(512, activation='relu', input_shape=(28 * 28,)))\n",
        "network.add(layers.Dense(512, activation='relu'))\n",
        "network.add(layers.Dense(512, activation='relu'))\n",
        "network.add(layers.Dense(10, activation='softmax'))\n",
        "\n",
        "network.compile(optimizer='rmsprop',\n",
        "                loss='categorical_crossentropy',\n",
        "                metrics=['accuracy'])\n",
        "\n"
      ],
      "execution_count": 0,
      "outputs": []
    },
    {
      "metadata": {
        "id": "33QBnfl6L2T1",
        "colab_type": "text"
      },
      "cell_type": "markdown",
      "source": [
        "b. Specify the time elapsed to train the new model with 5 epochs."
      ]
    },
    {
      "metadata": {
        "id": "dFBc5ssGML6v",
        "colab_type": "code",
        "outputId": "4b3e969f-35c0-4eb5-9eab-097c73a03090",
        "colab": {
          "base_uri": "https://localhost:8080/",
          "height": 208
        }
      },
      "cell_type": "code",
      "source": [
        "import time as t\n",
        "now=t.time()\n",
        "network.fit(train_images, train_labels, epochs=5, batch_size=128)\n",
        "elapsed = t.time()-now\n",
        "elapsed"
      ],
      "execution_count": 29,
      "outputs": [
        {
          "output_type": "stream",
          "text": [
            "Epoch 1/5\n",
            "60000/60000 [==============================] - 3s 51us/step - loss: 0.2369 - acc: 0.9261\n",
            "Epoch 2/5\n",
            "60000/60000 [==============================] - 3s 47us/step - loss: 0.0902 - acc: 0.9732\n",
            "Epoch 3/5\n",
            "60000/60000 [==============================] - 3s 47us/step - loss: 0.0624 - acc: 0.9821\n",
            "Epoch 4/5\n",
            "60000/60000 [==============================] - 3s 47us/step - loss: 0.0471 - acc: 0.9863\n",
            "Epoch 5/5\n",
            "60000/60000 [==============================] - 3s 47us/step - loss: 0.0392 - acc: 0.9890\n"
          ],
          "name": "stdout"
        },
        {
          "output_type": "execute_result",
          "data": {
            "text/plain": [
              "14.694356441497803"
            ]
          },
          "metadata": {
            "tags": []
          },
          "execution_count": 29
        }
      ]
    },
    {
      "metadata": {
        "id": "R8efl-gXL5Ms",
        "colab_type": "text"
      },
      "cell_type": "markdown",
      "source": [
        "c. Specify the accuracy on the test data."
      ]
    },
    {
      "metadata": {
        "id": "VVYD_lCjMMwz",
        "colab_type": "code",
        "outputId": "a5e96f1c-bbfd-4979-c646-de0668e986fa",
        "colab": {
          "base_uri": "https://localhost:8080/",
          "height": 52
        }
      },
      "cell_type": "code",
      "source": [
        "\n",
        "test_loss, test_acc = network.evaluate(test_images, test_labels)\n",
        "print('test_acc:', test_acc)"
      ],
      "execution_count": 30,
      "outputs": [
        {
          "output_type": "stream",
          "text": [
            "10000/10000 [==============================] - 1s 55us/step\n",
            "test_acc: 0.9778\n"
          ],
          "name": "stdout"
        }
      ]
    },
    {
      "metadata": {
        "id": "XKo6FjLZOfXp",
        "colab_type": "text"
      },
      "cell_type": "markdown",
      "source": [
        "d. Specify the number of parameters in the new model."
      ]
    },
    {
      "metadata": {
        "id": "4w2Z6rTUOn4Q",
        "colab_type": "code",
        "outputId": "64d5237b-485c-4121-8eee-7557fda9b29b",
        "colab": {
          "base_uri": "https://localhost:8080/",
          "height": 277
        }
      },
      "cell_type": "code",
      "source": [
        "network.summary()"
      ],
      "execution_count": 31,
      "outputs": [
        {
          "output_type": "stream",
          "text": [
            "_________________________________________________________________\n",
            "Layer (type)                 Output Shape              Param #   \n",
            "=================================================================\n",
            "dense_13 (Dense)             (None, 512)               401920    \n",
            "_________________________________________________________________\n",
            "dense_14 (Dense)             (None, 512)               262656    \n",
            "_________________________________________________________________\n",
            "dense_15 (Dense)             (None, 512)               262656    \n",
            "_________________________________________________________________\n",
            "dense_16 (Dense)             (None, 10)                5130      \n",
            "=================================================================\n",
            "Total params: 932,362\n",
            "Trainable params: 932,362\n",
            "Non-trainable params: 0\n",
            "_________________________________________________________________\n"
          ],
          "name": "stdout"
        }
      ]
    },
    {
      "metadata": {
        "id": "OCxSH24YO-ie",
        "colab_type": "text"
      },
      "cell_type": "markdown",
      "source": [
        "e. If you rerun the fit command, you will begin from the weights you left off with.  Fit the network further by running 5 more epochs.  Then specify the new test accuracy."
      ]
    },
    {
      "metadata": {
        "id": "35P26-LWO9Zx",
        "colab_type": "code",
        "outputId": "4651d6e4-0e64-42c2-c33b-04f1b4ea1c87",
        "colab": {
          "base_uri": "https://localhost:8080/",
          "height": 208
        }
      },
      "cell_type": "code",
      "source": [
        "network.fit(train_images, train_labels, epochs=5, batch_size=128)"
      ],
      "execution_count": 32,
      "outputs": [
        {
          "output_type": "stream",
          "text": [
            "Epoch 1/5\n",
            "60000/60000 [==============================] - 3s 46us/step - loss: 0.0333 - acc: 0.9910\n",
            "Epoch 2/5\n",
            "60000/60000 [==============================] - 3s 47us/step - loss: 0.0297 - acc: 0.9915\n",
            "Epoch 3/5\n",
            "60000/60000 [==============================] - 3s 47us/step - loss: 0.0274 - acc: 0.9930\n",
            "Epoch 4/5\n",
            "60000/60000 [==============================] - 3s 47us/step - loss: 0.0263 - acc: 0.9935\n",
            "Epoch 5/5\n",
            "60000/60000 [==============================] - 3s 47us/step - loss: 0.0246 - acc: 0.9940\n"
          ],
          "name": "stdout"
        },
        {
          "output_type": "execute_result",
          "data": {
            "text/plain": [
              "<keras.callbacks.History at 0x7fcebbcc2ef0>"
            ]
          },
          "metadata": {
            "tags": []
          },
          "execution_count": 32
        }
      ]
    },
    {
      "metadata": {
        "id": "yp3k8z99EJEp",
        "colab_type": "code",
        "outputId": "7afde709-cf78-4f9c-89d0-188ffbaa1339",
        "colab": {
          "base_uri": "https://localhost:8080/",
          "height": 52
        }
      },
      "cell_type": "code",
      "source": [
        "test_loss, test_acc = network.evaluate(test_images, test_labels)\n",
        "print('test_acc:', test_acc)"
      ],
      "execution_count": 33,
      "outputs": [
        {
          "output_type": "stream",
          "text": [
            "10000/10000 [==============================] - 0s 50us/step\n",
            "test_acc: 0.976\n"
          ],
          "name": "stdout"
        }
      ]
    },
    {
      "metadata": {
        "id": "kWBmJ2uIRuSJ",
        "colab_type": "text"
      },
      "cell_type": "markdown",
      "source": [
        "f. How does the training accuracy compare with the test set accuracy?"
      ]
    },
    {
      "metadata": {
        "id": "kVqCmRCCIZu3",
        "colab_type": "code",
        "outputId": "5cf05c2a-b197-479a-b6b8-d09a76f183b2",
        "colab": {
          "base_uri": "https://localhost:8080/",
          "height": 52
        }
      },
      "cell_type": "code",
      "source": [
        "train_loss, train_acc = network.evaluate(train_images, train_labels)\n",
        "print('train_acc:', train_acc)"
      ],
      "execution_count": 34,
      "outputs": [
        {
          "output_type": "stream",
          "text": [
            "60000/60000 [==============================] - 3s 49us/step\n",
            "train_acc: 0.9939666666666667\n"
          ],
          "name": "stdout"
        }
      ]
    },
    {
      "metadata": {
        "id": "TSEBWb0aEMpY",
        "colab_type": "text"
      },
      "cell_type": "markdown",
      "source": [
        "We can see that the training accuracy is 0.99397, which is higher than the test set accuracy 0.976."
      ]
    },
    {
      "metadata": {
        "id": "ez3HdUOzQ9Mb",
        "colab_type": "text"
      },
      "cell_type": "markdown",
      "source": [
        "## Problem 2:\n",
        "\n",
        "a. Modify the original example problem to use sigmoid nurons in the hidden layer.  How does the accuracy and the (model train) time elapsed compare to the original example?  How do the number of parameters compare?"
      ]
    },
    {
      "metadata": {
        "id": "sFGG4M_0Rs-k",
        "colab_type": "code",
        "outputId": "73823504-af86-48d2-f4df-7cef9deb7df0",
        "colab": {
          "base_uri": "https://localhost:8080/",
          "height": 433
        }
      },
      "cell_type": "code",
      "source": [
        "network = models.Sequential()\n",
        "network.add(layers.Dense(512, activation='sigmoid', input_shape=(28 * 28,)))\n",
        "network.add(layers.Dense(10, activation='softmax'))\n",
        "\n",
        "network.compile(optimizer='rmsprop',\n",
        "                loss='categorical_crossentropy',\n",
        "                metrics=['accuracy'])\n",
        "\n",
        "import time as t\n",
        "now=t.time()\n",
        "network.fit(train_images, train_labels, epochs=5, batch_size=128)\n",
        "elapsed = t.time()-now\n",
        "print(elapsed)\n",
        "\n",
        "test_loss, test_acc = network.evaluate(test_images, test_labels)\n",
        "print('test_acc:', test_acc)\n",
        "network.summary()"
      ],
      "execution_count": 35,
      "outputs": [
        {
          "output_type": "stream",
          "text": [
            "Epoch 1/5\n",
            "60000/60000 [==============================] - 2s 35us/step - loss: 0.4318 - acc: 0.8820\n",
            "Epoch 2/5\n",
            "60000/60000 [==============================] - 2s 33us/step - loss: 0.2348 - acc: 0.9314\n",
            "Epoch 3/5\n",
            "60000/60000 [==============================] - 2s 33us/step - loss: 0.1778 - acc: 0.9481\n",
            "Epoch 4/5\n",
            "60000/60000 [==============================] - 2s 34us/step - loss: 0.1394 - acc: 0.9589\n",
            "Epoch 5/5\n",
            "60000/60000 [==============================] - 2s 33us/step - loss: 0.1129 - acc: 0.9672\n",
            "10.259517669677734\n",
            "10000/10000 [==============================] - 1s 51us/step\n",
            "test_acc: 0.9634\n",
            "_________________________________________________________________\n",
            "Layer (type)                 Output Shape              Param #   \n",
            "=================================================================\n",
            "dense_17 (Dense)             (None, 512)               401920    \n",
            "_________________________________________________________________\n",
            "dense_18 (Dense)             (None, 10)                5130      \n",
            "=================================================================\n",
            "Total params: 407,050\n",
            "Trainable params: 407,050\n",
            "Non-trainable params: 0\n",
            "_________________________________________________________________\n"
          ],
          "name": "stdout"
        }
      ]
    },
    {
      "metadata": {
        "id": "GGq9td6ghlZh",
        "colab_type": "text"
      },
      "cell_type": "markdown",
      "source": [
        "The accuracy using sigmoid activation function is 0.9634, which is lower than the original example accuracy 0.9762. Also the (model train) time elapsed is 10.25, which is higher than original example time elapsed 10.18. The number of parameters of two models are all 407050."
      ]
    },
    {
      "metadata": {
        "id": "gAbVeJKhVhSp",
        "colab_type": "text"
      },
      "cell_type": "markdown",
      "source": [
        "b. Modify the original example problem to use elu nurons in the hidden layer.  How does the accuracy and the (model train) time elapsed compare to the original example?  How do the number of parameters compare?"
      ]
    },
    {
      "metadata": {
        "id": "-htXcWVlXKUl",
        "colab_type": "code",
        "outputId": "81485262-89ef-480c-c97d-17772d30acc5",
        "colab": {
          "base_uri": "https://localhost:8080/",
          "height": 433
        }
      },
      "cell_type": "code",
      "source": [
        "network = models.Sequential()\n",
        "network.add(layers.Dense(512, activation='elu', input_shape=(28 * 28,)))\n",
        "network.add(layers.Dense(10, activation='softmax'))\n",
        "\n",
        "network.compile(optimizer='rmsprop',\n",
        "                loss='categorical_crossentropy',\n",
        "                metrics=['accuracy'])\n",
        "\n",
        "import time as t\n",
        "now=t.time()\n",
        "network.fit(train_images, train_labels, epochs=5, batch_size=128)\n",
        "elapsed = t.time()-now\n",
        "print(elapsed)\n",
        "\n",
        "test_loss, test_acc = network.evaluate(test_images, test_labels)\n",
        "print('test_acc:', test_acc)\n",
        "network.summary()\n"
      ],
      "execution_count": 36,
      "outputs": [
        {
          "output_type": "stream",
          "text": [
            "Epoch 1/5\n",
            "60000/60000 [==============================] - 2s 37us/step - loss: 0.3413 - acc: 0.9006\n",
            "Epoch 2/5\n",
            "60000/60000 [==============================] - 2s 34us/step - loss: 0.1773 - acc: 0.9479\n",
            "Epoch 3/5\n",
            "60000/60000 [==============================] - 2s 34us/step - loss: 0.1196 - acc: 0.9647\n",
            "Epoch 4/5\n",
            "60000/60000 [==============================] - 2s 37us/step - loss: 0.0886 - acc: 0.9728\n",
            "Epoch 5/5\n",
            "60000/60000 [==============================] - 2s 37us/step - loss: 0.0714 - acc: 0.9779\n",
            "10.97841477394104\n",
            "10000/10000 [==============================] - 1s 59us/step\n",
            "test_acc: 0.975\n",
            "_________________________________________________________________\n",
            "Layer (type)                 Output Shape              Param #   \n",
            "=================================================================\n",
            "dense_19 (Dense)             (None, 512)               401920    \n",
            "_________________________________________________________________\n",
            "dense_20 (Dense)             (None, 10)                5130      \n",
            "=================================================================\n",
            "Total params: 407,050\n",
            "Trainable params: 407,050\n",
            "Non-trainable params: 0\n",
            "_________________________________________________________________\n"
          ],
          "name": "stdout"
        }
      ]
    },
    {
      "metadata": {
        "id": "25qfYmZzlm6f",
        "colab_type": "text"
      },
      "cell_type": "markdown",
      "source": [
        "The accuracy using elu nurons in the hidden layer is 0.975, which is lower than the original example accuracy 0.9762. Also the (model train) time elapsed is 10.978, which is higher than original example time elapsed 10.18. The number of parameters of two models are all 407050."
      ]
    },
    {
      "metadata": {
        "id": "lG9YwZy5X-Pz",
        "colab_type": "text"
      },
      "cell_type": "markdown",
      "source": [
        "c. Modify the original example problem to use the adam optimizer.  How does the accuracy and the (model train) time elapsed compare to the original example?  How do the number of parameters compare?"
      ]
    },
    {
      "metadata": {
        "id": "EnKcWA5fQ6dm",
        "colab_type": "code",
        "outputId": "cc639533-8c42-4188-e4dc-974fc0434cd8",
        "colab": {
          "base_uri": "https://localhost:8080/",
          "height": 433
        }
      },
      "cell_type": "code",
      "source": [
        "network = models.Sequential()\n",
        "network.add(layers.Dense(512, activation='elu', input_shape=(28 * 28,)))\n",
        "network.add(layers.Dense(10, activation='softmax'))\n",
        "\n",
        "network.compile(optimizer='adam',\n",
        "                loss='categorical_crossentropy',\n",
        "                metrics=['accuracy'])\n",
        "\n",
        "import time as t\n",
        "now=t.time()\n",
        "network.fit(train_images, train_labels, epochs=5, batch_size=128)\n",
        "elapsed = t.time()-now\n",
        "print(elapsed)\n",
        "\n",
        "test_loss, test_acc = network.evaluate(test_images, test_labels)\n",
        "print('test_acc:', test_acc)\n",
        "network.summary()"
      ],
      "execution_count": 37,
      "outputs": [
        {
          "output_type": "stream",
          "text": [
            "Epoch 1/5\n",
            "60000/60000 [==============================] - 2s 41us/step - loss: 0.3280 - acc: 0.9052\n",
            "Epoch 2/5\n",
            "60000/60000 [==============================] - 2s 37us/step - loss: 0.1760 - acc: 0.9486\n",
            "Epoch 3/5\n",
            "60000/60000 [==============================] - 2s 37us/step - loss: 0.1198 - acc: 0.9647\n",
            "Epoch 4/5\n",
            "60000/60000 [==============================] - 2s 37us/step - loss: 0.0873 - acc: 0.9737\n",
            "Epoch 5/5\n",
            "60000/60000 [==============================] - 2s 36us/step - loss: 0.0696 - acc: 0.9791\n",
            "11.514878034591675\n",
            "10000/10000 [==============================] - 1s 54us/step\n",
            "test_acc: 0.971\n",
            "_________________________________________________________________\n",
            "Layer (type)                 Output Shape              Param #   \n",
            "=================================================================\n",
            "dense_21 (Dense)             (None, 512)               401920    \n",
            "_________________________________________________________________\n",
            "dense_22 (Dense)             (None, 10)                5130      \n",
            "=================================================================\n",
            "Total params: 407,050\n",
            "Trainable params: 407,050\n",
            "Non-trainable params: 0\n",
            "_________________________________________________________________\n"
          ],
          "name": "stdout"
        }
      ]
    },
    {
      "metadata": {
        "id": "8ZNNeGKfo2XR",
        "colab_type": "text"
      },
      "cell_type": "markdown",
      "source": [
        "The accuracy using elu nurons in the hidden layer is 0.971, which is lower than the original example accuracy 0.9762. Also the (model train) time elapsed is 11.51, which is higher than original example time elapsed 10.18. The number of parameters of two models are all 407050."
      ]
    },
    {
      "metadata": {
        "id": "OoTyboDEaXEj",
        "colab_type": "text"
      },
      "cell_type": "markdown",
      "source": [
        "d. Modify the original example problem to include a second hidden layer with 300 relu neurons, a third hidden layer with 200 neurons and a fourth hidden layer with 100 neurons.  How does the accuracy and the (model train) time elapsed compare to the original example?  How do the number of parameters compare?"
      ]
    },
    {
      "metadata": {
        "id": "zA5jbM_oaVkb",
        "colab_type": "code",
        "outputId": "ede9d7b9-0f69-4710-ea22-e00a247745eb",
        "colab": {
          "base_uri": "https://localhost:8080/",
          "height": 537
        }
      },
      "cell_type": "code",
      "source": [
        "network = models.Sequential()\n",
        "network.add(layers.Dense(512, activation='elu', input_shape=(28 * 28,)))\n",
        "network.add(layers.Dense(300, activation='relu'))\n",
        "network.add(layers.Dense(200, activation='relu'))\n",
        "network.add(layers.Dense(100, activation='relu'))\n",
        "network.add(layers.Dense(10, activation='softmax'))\n",
        "\n",
        "network.compile(optimizer='rmsprop',\n",
        "                loss='categorical_crossentropy',\n",
        "                metrics=['accuracy'])\n",
        "\n",
        "import time as t\n",
        "now=t.time()\n",
        "network.fit(train_images, train_labels, epochs=5, batch_size=128)\n",
        "elapsed = t.time()-now\n",
        "print(elapsed)\n",
        "\n",
        "test_loss, test_acc = network.evaluate(test_images, test_labels)\n",
        "print('test_acc:', test_acc)\n",
        "network.summary()"
      ],
      "execution_count": 66,
      "outputs": [
        {
          "output_type": "stream",
          "text": [
            "Epoch 1/5\n",
            "60000/60000 [==============================] - 3s 51us/step - loss: 0.2595 - acc: 0.9191\n",
            "Epoch 2/5\n",
            "60000/60000 [==============================] - 3s 46us/step - loss: 0.1071 - acc: 0.9678\n",
            "Epoch 3/5\n",
            "60000/60000 [==============================] - 3s 46us/step - loss: 0.0809 - acc: 0.9757\n",
            "Epoch 4/5\n",
            "60000/60000 [==============================] - 3s 46us/step - loss: 0.0641 - acc: 0.9804\n",
            "Epoch 5/5\n",
            "60000/60000 [==============================] - 3s 46us/step - loss: 0.0533 - acc: 0.9834\n",
            "14.518765211105347\n",
            "10000/10000 [==============================] - 1s 63us/step\n",
            "test_acc: 0.9774\n",
            "_________________________________________________________________\n",
            "Layer (type)                 Output Shape              Param #   \n",
            "=================================================================\n",
            "dense_27 (Dense)             (None, 512)               401920    \n",
            "_________________________________________________________________\n",
            "dense_28 (Dense)             (None, 300)               153900    \n",
            "_________________________________________________________________\n",
            "dense_29 (Dense)             (None, 200)               60200     \n",
            "_________________________________________________________________\n",
            "dense_30 (Dense)             (None, 100)               20100     \n",
            "_________________________________________________________________\n",
            "dense_31 (Dense)             (None, 10)                1010      \n",
            "=================================================================\n",
            "Total params: 637,130\n",
            "Trainable params: 637,130\n",
            "Non-trainable params: 0\n",
            "_________________________________________________________________\n"
          ],
          "name": "stdout"
        }
      ]
    },
    {
      "metadata": {
        "id": "p2rfO7C6pSIL",
        "colab_type": "text"
      },
      "cell_type": "markdown",
      "source": [
        "The accuracy including those hidden layers is 0.9774, which is higher than the original example accuracy 0.9762. Also the (model train) time elapsed is 14.518, which is higher than original example time elapsed 10.18. The number of parameters of this model is 637130, and the original example model is 407050."
      ]
    },
    {
      "metadata": {
        "id": "M0s13ozzEjws",
        "colab_type": "text"
      },
      "cell_type": "markdown",
      "source": [
        "## Problem 3:\n",
        "\n",
        "Now create your own neural network based upon the concepts you learned.  Achieve a higher accuracy than 98% on the test set."
      ]
    },
    {
      "metadata": {
        "id": "vsEjtvKJFDIf",
        "colab_type": "code",
        "colab": {}
      },
      "cell_type": "code",
      "source": [
        "network = models.Sequential()\n",
        "network.add(layers.Dense(512, activation='elu', input_shape=(28 * 28,)))\n",
        "network.add(layers.Dense(500, activation='relu'))\n",
        "network.add(layers.Dense(500, activation='relu'))\n",
        "network.add(layers.Dense(10, activation='softmax'))\n",
        "\n",
        "network.compile(keras.optimizers.Adam(lr=0.001, beta_1=0.9, beta_2=0.999, epsilon=None, decay=0.0, amsgrad=False)\n",
        "\n",
        ",\n",
        "                loss='binary_crossentropy',\n",
        "                metrics=['accuracy'])\n",
        "\n",
        "network.fit(train_images, train_labels, epochs=5, batch_size=128)\n",
        "\n",
        "test_loss, test_acc = network.evaluate(test_images, test_labels)\n",
        "print('test_acc:', test_acc)"
      ],
      "execution_count": 0,
      "outputs": []
    },
    {
      "metadata": {
        "id": "dFr3WGh_FBdn",
        "colab_type": "text"
      },
      "cell_type": "markdown",
      "source": [
        "## Problem 4:\n",
        "\n",
        "Last year as part of the final exam in Machine Learning I hosted a Kaggle competition on the Plankton challenge: https://www.kaggle.com/t/830c8dd97ae748f8bd3fd52e8ccca849\n",
        "\n",
        "a. **Using only the first 1600 features**, use the keras methods and models that have been used thus far make a submission to the competition.  Report your accuracy (your score will not show on the leaderboard since this competition is closed)."
      ]
    },
    {
      "metadata": {
        "id": "3IxHmKURG_Kf",
        "colab_type": "code",
        "outputId": "c4df9dfc-f866-4f9a-d8b0-b186bb2f2a77",
        "colab": {
          "base_uri": "https://localhost:8080/",
          "height": 35
        }
      },
      "cell_type": "code",
      "source": [
        "import pandas as pd\n",
        "import io\n",
        "\n",
        "from google.colab import drive\n",
        "drive.mount('/content/gdrive')\n",
        "\n",
        "train = pd.read_csv('/content/gdrive/My Drive/lab3/train.csv', sep=',', decimal='.')\n",
        "test = pd.read_csv('/content/gdrive/My Drive/lab3/test.csv', sep=',', decimal='.')\n",
        "train_class = pd.get_dummies(train.iloc[:,0])\n",
        "\n",
        "\n",
        "train = train.iloc[:,1:1601]\n",
        "test = test.iloc[:,1:1601]\n",
        "\n"
      ],
      "execution_count": 73,
      "outputs": [
        {
          "output_type": "stream",
          "text": [
            "Drive already mounted at /content/gdrive; to attempt to forcibly remount, call drive.mount(\"/content/gdrive\", force_remount=True).\n"
          ],
          "name": "stdout"
        }
      ]
    },
    {
      "metadata": {
        "id": "kClMWCdD5y-8",
        "colab_type": "code",
        "outputId": "acc4ac9a-256f-4f8e-c413-48dc4dc8ccd1",
        "colab": {
          "base_uri": "https://localhost:8080/",
          "height": 364
        }
      },
      "cell_type": "code",
      "source": [
        "from keras import models\n",
        "from keras import layers\n",
        "\n",
        "network = models.Sequential()\n",
        "network.add(layers.Dense(512, activation='relu', input_shape=(1600,)))\n",
        "network.add(layers.Dense(512, activation='relu'))\n",
        "network.add(layers.Dense(512, activation='relu'))\n",
        "network.add(layers.Dense(121, activation='softmax'))\n",
        "\n",
        "network.compile(optimizer='adam',\n",
        "                loss='categorical_crossentropy',\n",
        "                metrics=['accuracy'])\n",
        "\n",
        "network.fit(train, train_class, epochs=10, batch_size=128)\n",
        "test_class = network.predict(test)\n"
      ],
      "execution_count": 68,
      "outputs": [
        {
          "output_type": "stream",
          "text": [
            "Epoch 1/10\n",
            "16789/16789 [==============================] - 2s 145us/step - loss: 3.7016 - acc: 0.1534\n",
            "Epoch 2/10\n",
            "16789/16789 [==============================] - 2s 111us/step - loss: 2.7299 - acc: 0.2956\n",
            "Epoch 3/10\n",
            "16789/16789 [==============================] - 2s 112us/step - loss: 2.3151 - acc: 0.3686\n",
            "Epoch 4/10\n",
            "16789/16789 [==============================] - 2s 111us/step - loss: 2.0152 - acc: 0.4310\n",
            "Epoch 5/10\n",
            "16789/16789 [==============================] - 2s 111us/step - loss: 1.7479 - acc: 0.4949\n",
            "Epoch 6/10\n",
            "16789/16789 [==============================] - 2s 112us/step - loss: 1.5064 - acc: 0.5566\n",
            "Epoch 7/10\n",
            "16789/16789 [==============================] - 2s 110us/step - loss: 1.2890 - acc: 0.6157\n",
            "Epoch 8/10\n",
            "16789/16789 [==============================] - 2s 111us/step - loss: 1.0813 - acc: 0.6740\n",
            "Epoch 9/10\n",
            "16789/16789 [==============================] - 2s 111us/step - loss: 0.8794 - acc: 0.7313\n",
            "Epoch 10/10\n",
            "16789/16789 [==============================] - 2s 110us/step - loss: 0.7006 - acc: 0.7866\n"
          ],
          "name": "stdout"
        }
      ]
    },
    {
      "metadata": {
        "id": "sjSB1pXlaOWO",
        "colab_type": "code",
        "colab": {}
      },
      "cell_type": "code",
      "source": [
        "import numpy as np\n",
        "pred = np.argmax(test_class,axis=1)"
      ],
      "execution_count": 0,
      "outputs": []
    },
    {
      "metadata": {
        "id": "19LNZlVJfQwt",
        "colab_type": "code",
        "colab": {}
      },
      "cell_type": "code",
      "source": [
        "submission = pd.read_csv('/content/gdrive/My Drive/lab3/sample_submission.csv', sep=',', decimal='.')\n",
        "submission['Class']=pred+1\n",
        "df = pd.DataFrame(data=submission)\n",
        "df.to_csv('/content/gdrive/My Drive/lab3/out.csv',index = False)"
      ],
      "execution_count": 0,
      "outputs": []
    },
    {
      "metadata": {
        "id": "T5Qo74Fwr_Yt",
        "colab_type": "text"
      },
      "cell_type": "markdown",
      "source": [
        "My accuray: 0.37172"
      ]
    },
    {
      "metadata": {
        "id": "yHTgCRv8G_ov",
        "colab_type": "text"
      },
      "cell_type": "markdown",
      "source": [
        "b. Try another method that you think would be interesting (you can do whatever model/features you want for this problem but it must be different than the previous problem).  "
      ]
    },
    {
      "metadata": {
        "id": "6Wa4XvJfTjzz",
        "colab_type": "code",
        "colab": {
          "base_uri": "https://localhost:8080/",
          "height": 537
        },
        "outputId": "811da737-2776-4d7f-bb56-58a30dea65e6"
      },
      "cell_type": "code",
      "source": [
        "# another neuron network\n",
        "train = pd.read_csv('/content/gdrive/My Drive/lab3/train.csv', sep=',', decimal='.')\n",
        "test = pd.read_csv('/content/gdrive/My Drive/lab3/test.csv', sep=',', decimal='.')\n",
        "train_class = pd.get_dummies(train.iloc[:,0])\n",
        "\n",
        "\n",
        "train = train.iloc[:,1:1601]\n",
        "test = test.iloc[:,1:1601]\n",
        "\n",
        "from keras import models\n",
        "from keras import layers\n",
        "\n",
        "network = models.Sequential()\n",
        "network.add(layers.Dense(1024, activation='relu', input_shape=(1600,)))\n",
        "network.add(layers.Dense(1024, activation='relu'))\n",
        "network.add(layers.Dense(121, activation='softmax'))\n",
        "\n",
        "network.compile(optimizer='nadam',\n",
        "                loss='categorical_crossentropy',\n",
        "                metrics=['accuracy'])\n",
        "\n",
        "network.fit(train, train_class, epochs=15, batch_size=128)\n",
        "test_class = network.predict(test)\n"
      ],
      "execution_count": 74,
      "outputs": [
        {
          "output_type": "stream",
          "text": [
            "Epoch 1/15\n",
            "16789/16789 [==============================] - 3s 172us/step - loss: 3.4152 - acc: 0.1972\n",
            "Epoch 2/15\n",
            "16789/16789 [==============================] - 2s 141us/step - loss: 2.4616 - acc: 0.3501\n",
            "Epoch 3/15\n",
            "16789/16789 [==============================] - 2s 141us/step - loss: 1.9717 - acc: 0.4493\n",
            "Epoch 4/15\n",
            "16789/16789 [==============================] - 2s 141us/step - loss: 1.5544 - acc: 0.5484\n",
            "Epoch 5/15\n",
            "16789/16789 [==============================] - 2s 141us/step - loss: 1.1691 - acc: 0.6471\n",
            "Epoch 6/15\n",
            "16789/16789 [==============================] - 2s 140us/step - loss: 0.8279 - acc: 0.7470\n",
            "Epoch 7/15\n",
            "16789/16789 [==============================] - 2s 145us/step - loss: 0.5783 - acc: 0.8242\n",
            "Epoch 8/15\n",
            "16789/16789 [==============================] - 3s 154us/step - loss: 0.4103 - acc: 0.8759\n",
            "Epoch 9/15\n",
            "16789/16789 [==============================] - 3s 152us/step - loss: 0.3038 - acc: 0.9100\n",
            "Epoch 10/15\n",
            "16789/16789 [==============================] - 3s 150us/step - loss: 0.2137 - acc: 0.9375\n",
            "Epoch 11/15\n",
            "16789/16789 [==============================] - 2s 145us/step - loss: 0.1853 - acc: 0.9441\n",
            "Epoch 12/15\n",
            "16789/16789 [==============================] - 2s 140us/step - loss: 0.1743 - acc: 0.9518\n",
            "Epoch 13/15\n",
            "16789/16789 [==============================] - 2s 141us/step - loss: 0.1741 - acc: 0.9481\n",
            "Epoch 14/15\n",
            "16789/16789 [==============================] - 2s 141us/step - loss: 0.1515 - acc: 0.9549\n",
            "Epoch 15/15\n",
            "16789/16789 [==============================] - 2s 141us/step - loss: 0.1498 - acc: 0.9569\n"
          ],
          "name": "stdout"
        }
      ]
    },
    {
      "metadata": {
        "id": "ymJWS3j0qZ0M",
        "colab_type": "code",
        "colab": {}
      },
      "cell_type": "code",
      "source": [
        "df = pd.DataFrame(test_class)\n",
        "test_class = df.idxmax(axis=1)"
      ],
      "execution_count": 0,
      "outputs": []
    },
    {
      "metadata": {
        "id": "9LdgI-PEiXd-",
        "colab_type": "code",
        "colab": {}
      },
      "cell_type": "code",
      "source": [
        "import numpy as np\n",
        "submission = pd.read_csv('/content/gdrive/My Drive/lab3/sample_submission.csv', sep=',', decimal='.')\n",
        "submission['Class']=test_class+1\n",
        "df = pd.DataFrame(data=submission)\n",
        "df.to_csv('/content/gdrive/My Drive/lab3/out2.csv',index = False)"
      ],
      "execution_count": 0,
      "outputs": []
    },
    {
      "metadata": {
        "id": "tTr-pEhpuZC2",
        "colab_type": "code",
        "colab": {}
      },
      "cell_type": "code",
      "source": [
        "Accuray: 0.35345"
      ],
      "execution_count": 0,
      "outputs": []
    },
    {
      "metadata": {
        "id": "eCtVogc1HqLr",
        "colab_type": "text"
      },
      "cell_type": "markdown",
      "source": [
        "## Problem 5:\n",
        "\n",
        "For this problem we will be working with model churn data. Import the libraries and load in the model churn data by running the next 2 following code chunks."
      ]
    },
    {
      "metadata": {
        "id": "rKDZBiAsJLuu",
        "colab_type": "code",
        "colab": {}
      },
      "cell_type": "code",
      "source": [
        "# Importing the libraries\n",
        "import numpy as np\n",
        "import matplotlib.pyplot as plt\n",
        "import pandas as pd"
      ],
      "execution_count": 0,
      "outputs": []
    },
    {
      "metadata": {
        "id": "8TaZhjLaJNL4",
        "colab_type": "code",
        "outputId": "eaa36086-2fec-4bf1-e75e-4bb19a8c1d61",
        "colab": {
          "base_uri": "https://localhost:8080/",
          "height": 35
        }
      },
      "cell_type": "code",
      "source": [
        "import pandas as pd\n",
        "import io\n",
        "\n",
        "from google.colab import drive\n",
        "drive.mount('/content/gdrive')\n",
        "\n",
        "dataset = pd.read_csv('/content/gdrive/My Drive/Colab Notebooks/Churn_Modelling.csv', sep=',', decimal='.')"
      ],
      "execution_count": 110,
      "outputs": [
        {
          "output_type": "stream",
          "text": [
            "Drive already mounted at /content/gdrive; to attempt to forcibly remount, call drive.mount(\"/content/gdrive\", force_remount=True).\n"
          ],
          "name": "stdout"
        }
      ]
    },
    {
      "metadata": {
        "id": "fTinD7N_JZdH",
        "colab_type": "text"
      },
      "cell_type": "markdown",
      "source": [
        "a. Show the first 10 observations of the original data set (dataset)."
      ]
    },
    {
      "metadata": {
        "id": "PKlVqTmpJaIL",
        "colab_type": "code",
        "outputId": "6a645052-b44a-47a3-bfaf-54ae3326a1d7",
        "colab": {
          "base_uri": "https://localhost:8080/",
          "height": 375
        }
      },
      "cell_type": "code",
      "source": [
        "dataset.iloc[0:10,:]"
      ],
      "execution_count": 111,
      "outputs": [
        {
          "output_type": "execute_result",
          "data": {
            "text/html": [
              "<div>\n",
              "<style scoped>\n",
              "    .dataframe tbody tr th:only-of-type {\n",
              "        vertical-align: middle;\n",
              "    }\n",
              "\n",
              "    .dataframe tbody tr th {\n",
              "        vertical-align: top;\n",
              "    }\n",
              "\n",
              "    .dataframe thead th {\n",
              "        text-align: right;\n",
              "    }\n",
              "</style>\n",
              "<table border=\"1\" class=\"dataframe\">\n",
              "  <thead>\n",
              "    <tr style=\"text-align: right;\">\n",
              "      <th></th>\n",
              "      <th>RowNumber</th>\n",
              "      <th>CustomerId</th>\n",
              "      <th>Surname</th>\n",
              "      <th>CreditScore</th>\n",
              "      <th>Geography</th>\n",
              "      <th>Gender</th>\n",
              "      <th>Age</th>\n",
              "      <th>Tenure</th>\n",
              "      <th>Balance</th>\n",
              "      <th>NumOfProducts</th>\n",
              "      <th>HasCrCard</th>\n",
              "      <th>IsActiveMember</th>\n",
              "      <th>EstimatedSalary</th>\n",
              "      <th>Exited</th>\n",
              "    </tr>\n",
              "  </thead>\n",
              "  <tbody>\n",
              "    <tr>\n",
              "      <th>0</th>\n",
              "      <td>1</td>\n",
              "      <td>15634602</td>\n",
              "      <td>Hargrave</td>\n",
              "      <td>619</td>\n",
              "      <td>France</td>\n",
              "      <td>Female</td>\n",
              "      <td>42</td>\n",
              "      <td>2</td>\n",
              "      <td>0.00</td>\n",
              "      <td>1</td>\n",
              "      <td>1</td>\n",
              "      <td>1</td>\n",
              "      <td>101348.88</td>\n",
              "      <td>1</td>\n",
              "    </tr>\n",
              "    <tr>\n",
              "      <th>1</th>\n",
              "      <td>2</td>\n",
              "      <td>15647311</td>\n",
              "      <td>Hill</td>\n",
              "      <td>608</td>\n",
              "      <td>Spain</td>\n",
              "      <td>Female</td>\n",
              "      <td>41</td>\n",
              "      <td>1</td>\n",
              "      <td>83807.86</td>\n",
              "      <td>1</td>\n",
              "      <td>0</td>\n",
              "      <td>1</td>\n",
              "      <td>112542.58</td>\n",
              "      <td>0</td>\n",
              "    </tr>\n",
              "    <tr>\n",
              "      <th>2</th>\n",
              "      <td>3</td>\n",
              "      <td>15619304</td>\n",
              "      <td>Onio</td>\n",
              "      <td>502</td>\n",
              "      <td>France</td>\n",
              "      <td>Female</td>\n",
              "      <td>42</td>\n",
              "      <td>8</td>\n",
              "      <td>159660.80</td>\n",
              "      <td>3</td>\n",
              "      <td>1</td>\n",
              "      <td>0</td>\n",
              "      <td>113931.57</td>\n",
              "      <td>1</td>\n",
              "    </tr>\n",
              "    <tr>\n",
              "      <th>3</th>\n",
              "      <td>4</td>\n",
              "      <td>15701354</td>\n",
              "      <td>Boni</td>\n",
              "      <td>699</td>\n",
              "      <td>France</td>\n",
              "      <td>Female</td>\n",
              "      <td>39</td>\n",
              "      <td>1</td>\n",
              "      <td>0.00</td>\n",
              "      <td>2</td>\n",
              "      <td>0</td>\n",
              "      <td>0</td>\n",
              "      <td>93826.63</td>\n",
              "      <td>0</td>\n",
              "    </tr>\n",
              "    <tr>\n",
              "      <th>4</th>\n",
              "      <td>5</td>\n",
              "      <td>15737888</td>\n",
              "      <td>Mitchell</td>\n",
              "      <td>850</td>\n",
              "      <td>Spain</td>\n",
              "      <td>Female</td>\n",
              "      <td>43</td>\n",
              "      <td>2</td>\n",
              "      <td>125510.82</td>\n",
              "      <td>1</td>\n",
              "      <td>1</td>\n",
              "      <td>1</td>\n",
              "      <td>79084.10</td>\n",
              "      <td>0</td>\n",
              "    </tr>\n",
              "    <tr>\n",
              "      <th>5</th>\n",
              "      <td>6</td>\n",
              "      <td>15574012</td>\n",
              "      <td>Chu</td>\n",
              "      <td>645</td>\n",
              "      <td>Spain</td>\n",
              "      <td>Male</td>\n",
              "      <td>44</td>\n",
              "      <td>8</td>\n",
              "      <td>113755.78</td>\n",
              "      <td>2</td>\n",
              "      <td>1</td>\n",
              "      <td>0</td>\n",
              "      <td>149756.71</td>\n",
              "      <td>1</td>\n",
              "    </tr>\n",
              "    <tr>\n",
              "      <th>6</th>\n",
              "      <td>7</td>\n",
              "      <td>15592531</td>\n",
              "      <td>Bartlett</td>\n",
              "      <td>822</td>\n",
              "      <td>France</td>\n",
              "      <td>Male</td>\n",
              "      <td>50</td>\n",
              "      <td>7</td>\n",
              "      <td>0.00</td>\n",
              "      <td>2</td>\n",
              "      <td>1</td>\n",
              "      <td>1</td>\n",
              "      <td>10062.80</td>\n",
              "      <td>0</td>\n",
              "    </tr>\n",
              "    <tr>\n",
              "      <th>7</th>\n",
              "      <td>8</td>\n",
              "      <td>15656148</td>\n",
              "      <td>Obinna</td>\n",
              "      <td>376</td>\n",
              "      <td>Germany</td>\n",
              "      <td>Female</td>\n",
              "      <td>29</td>\n",
              "      <td>4</td>\n",
              "      <td>115046.74</td>\n",
              "      <td>4</td>\n",
              "      <td>1</td>\n",
              "      <td>0</td>\n",
              "      <td>119346.88</td>\n",
              "      <td>1</td>\n",
              "    </tr>\n",
              "    <tr>\n",
              "      <th>8</th>\n",
              "      <td>9</td>\n",
              "      <td>15792365</td>\n",
              "      <td>He</td>\n",
              "      <td>501</td>\n",
              "      <td>France</td>\n",
              "      <td>Male</td>\n",
              "      <td>44</td>\n",
              "      <td>4</td>\n",
              "      <td>142051.07</td>\n",
              "      <td>2</td>\n",
              "      <td>0</td>\n",
              "      <td>1</td>\n",
              "      <td>74940.50</td>\n",
              "      <td>0</td>\n",
              "    </tr>\n",
              "    <tr>\n",
              "      <th>9</th>\n",
              "      <td>10</td>\n",
              "      <td>15592389</td>\n",
              "      <td>H?</td>\n",
              "      <td>684</td>\n",
              "      <td>France</td>\n",
              "      <td>Male</td>\n",
              "      <td>27</td>\n",
              "      <td>2</td>\n",
              "      <td>134603.88</td>\n",
              "      <td>1</td>\n",
              "      <td>1</td>\n",
              "      <td>1</td>\n",
              "      <td>71725.73</td>\n",
              "      <td>0</td>\n",
              "    </tr>\n",
              "  </tbody>\n",
              "</table>\n",
              "</div>"
            ],
            "text/plain": [
              "   RowNumber  CustomerId   Surname  CreditScore Geography  Gender  Age  \\\n",
              "0          1    15634602  Hargrave          619    France  Female   42   \n",
              "1          2    15647311      Hill          608     Spain  Female   41   \n",
              "2          3    15619304      Onio          502    France  Female   42   \n",
              "3          4    15701354      Boni          699    France  Female   39   \n",
              "4          5    15737888  Mitchell          850     Spain  Female   43   \n",
              "5          6    15574012       Chu          645     Spain    Male   44   \n",
              "6          7    15592531  Bartlett          822    France    Male   50   \n",
              "7          8    15656148    Obinna          376   Germany  Female   29   \n",
              "8          9    15792365        He          501    France    Male   44   \n",
              "9         10    15592389        H?          684    France    Male   27   \n",
              "\n",
              "   Tenure    Balance  NumOfProducts  HasCrCard  IsActiveMember  \\\n",
              "0       2       0.00              1          1               1   \n",
              "1       1   83807.86              1          0               1   \n",
              "2       8  159660.80              3          1               0   \n",
              "3       1       0.00              2          0               0   \n",
              "4       2  125510.82              1          1               1   \n",
              "5       8  113755.78              2          1               0   \n",
              "6       7       0.00              2          1               1   \n",
              "7       4  115046.74              4          1               0   \n",
              "8       4  142051.07              2          0               1   \n",
              "9       2  134603.88              1          1               1   \n",
              "\n",
              "   EstimatedSalary  Exited  \n",
              "0        101348.88       1  \n",
              "1        112542.58       0  \n",
              "2        113931.57       1  \n",
              "3         93826.63       0  \n",
              "4         79084.10       0  \n",
              "5        149756.71       1  \n",
              "6         10062.80       0  \n",
              "7        119346.88       1  \n",
              "8         74940.50       0  \n",
              "9         71725.73       0  "
            ]
          },
          "metadata": {
            "tags": []
          },
          "execution_count": 111
        }
      ]
    },
    {
      "metadata": {
        "id": "-RWcitDMJpj7",
        "colab_type": "text"
      },
      "cell_type": "markdown",
      "source": [
        "b. Which 3 columns should not be used as features? Create the appropriate X matrix (including categorical variables) and the y vector as the last column."
      ]
    },
    {
      "metadata": {
        "id": "D3XCnTl5Jv36",
        "colab_type": "code",
        "colab": {}
      },
      "cell_type": "code",
      "source": [
        "#RowNumber CustomerId Surname\n",
        "X = dataset.iloc[:,3:13].values\n",
        "y = dataset.iloc[:,13].values"
      ],
      "execution_count": 0,
      "outputs": []
    },
    {
      "metadata": {
        "id": "46RhZ1LrJ6zW",
        "colab_type": "text"
      },
      "cell_type": "markdown",
      "source": [
        "c. Print out the first 10 observations (and the first 6 columns) of the X matrix and comment on the number of observations and number of columns."
      ]
    },
    {
      "metadata": {
        "id": "zxdY35P2KAu4",
        "colab_type": "code",
        "outputId": "bf7c5b8d-2775-4b36-862f-d7c21d36e7f9",
        "colab": {
          "base_uri": "https://localhost:8080/",
          "height": 208
        }
      },
      "cell_type": "code",
      "source": [
        "print(X[:10,0:6])\n",
        "print(X.shape)"
      ],
      "execution_count": 113,
      "outputs": [
        {
          "output_type": "stream",
          "text": [
            "[[619 'France' 'Female' 42 2 0.0]\n",
            " [608 'Spain' 'Female' 41 1 83807.86]\n",
            " [502 'France' 'Female' 42 8 159660.8]\n",
            " [699 'France' 'Female' 39 1 0.0]\n",
            " [850 'Spain' 'Female' 43 2 125510.82]\n",
            " [645 'Spain' 'Male' 44 8 113755.78]\n",
            " [822 'France' 'Male' 50 7 0.0]\n",
            " [376 'Germany' 'Female' 29 4 115046.74]\n",
            " [501 'France' 'Male' 44 4 142051.07]\n",
            " [684 'France' 'Male' 27 2 134603.88]]\n",
            "(10000, 10)\n"
          ],
          "name": "stdout"
        }
      ]
    },
    {
      "metadata": {
        "id": "o2ym-QH1KJe5",
        "colab_type": "text"
      },
      "cell_type": "markdown",
      "source": [
        "d. After running the following code in the next code chunk, print out the first 10 observations (and the first 6 columns).  Also, print out the shape of the X matrix."
      ]
    },
    {
      "metadata": {
        "id": "44CGJ5HkKISx",
        "colab_type": "code",
        "colab": {}
      },
      "cell_type": "code",
      "source": [
        "from sklearn.preprocessing import LabelEncoder, OneHotEncoder\n",
        "labelEncoderX1=LabelEncoder()\n",
        "X[:,1]=labelEncoderX1.fit_transform(X[:,1])\n",
        "\n",
        "labelEncoderX1=LabelEncoder()\n",
        "X[:,2]=labelEncoderX1.fit_transform(X[:,2])"
      ],
      "execution_count": 0,
      "outputs": []
    },
    {
      "metadata": {
        "id": "G5Mvj4RoKWoi",
        "colab_type": "code",
        "outputId": "828d05ab-9ff5-4108-eae7-cee04d0b0d82",
        "colab": {
          "base_uri": "https://localhost:8080/",
          "height": 208
        }
      },
      "cell_type": "code",
      "source": [
        "print(X[:10,0:6])\n",
        "print(X.shape)"
      ],
      "execution_count": 115,
      "outputs": [
        {
          "output_type": "stream",
          "text": [
            "[[619 0 0 42 2 0.0]\n",
            " [608 2 0 41 1 83807.86]\n",
            " [502 0 0 42 8 159660.8]\n",
            " [699 0 0 39 1 0.0]\n",
            " [850 2 0 43 2 125510.82]\n",
            " [645 2 1 44 8 113755.78]\n",
            " [822 0 1 50 7 0.0]\n",
            " [376 1 0 29 4 115046.74]\n",
            " [501 0 1 44 4 142051.07]\n",
            " [684 0 1 27 2 134603.88]]\n",
            "(10000, 10)\n"
          ],
          "name": "stdout"
        }
      ]
    },
    {
      "metadata": {
        "id": "DS_UNcDcKbTk",
        "colab_type": "text"
      },
      "cell_type": "markdown",
      "source": [
        "e. How do the X matrices from c and d compare? What does the one in column 2 denote?"
      ]
    },
    {
      "metadata": {
        "id": "DGDsF37YKg7b",
        "colab_type": "text"
      },
      "cell_type": "markdown",
      "source": [
        ""
      ]
    },
    {
      "metadata": {
        "id": "CU1zmX3cKmwP",
        "colab_type": "text"
      },
      "cell_type": "markdown",
      "source": [
        "f. Run the following code and again print out the first 10 observations and 6 columns. Also print the shape of the X matrix."
      ]
    },
    {
      "metadata": {
        "id": "Nm-bETVZKfEa",
        "colab_type": "code",
        "outputId": "de89164a-345b-4f6c-bce4-4f37fa8156ba",
        "colab": {
          "base_uri": "https://localhost:8080/",
          "height": 141
        }
      },
      "cell_type": "code",
      "source": [
        "onehotencoder = OneHotEncoder(categorical_features = [1])\n",
        "X = onehotencoder.fit_transform(X).toarray()"
      ],
      "execution_count": 116,
      "outputs": [
        {
          "output_type": "stream",
          "text": [
            "/usr/local/lib/python3.6/dist-packages/sklearn/preprocessing/_encoders.py:368: FutureWarning: The handling of integer data will change in version 0.22. Currently, the categories are determined based on the range [0, max(values)], while in the future they will be determined based on the unique values.\n",
            "If you want the future behaviour and silence this warning, you can specify \"categories='auto'\".\n",
            "In case you used a LabelEncoder before this OneHotEncoder to convert the categories to integers, then you can now use the OneHotEncoder directly.\n",
            "  warnings.warn(msg, FutureWarning)\n",
            "/usr/local/lib/python3.6/dist-packages/sklearn/preprocessing/_encoders.py:390: DeprecationWarning: The 'categorical_features' keyword is deprecated in version 0.20 and will be removed in 0.22. You can use the ColumnTransformer instead.\n",
            "  \"use the ColumnTransformer instead.\", DeprecationWarning)\n"
          ],
          "name": "stderr"
        }
      ]
    },
    {
      "metadata": {
        "id": "t-OBJyZrKw01",
        "colab_type": "code",
        "outputId": "6854a78a-7734-450e-8c04-d06252a8f2ce",
        "colab": {
          "base_uri": "https://localhost:8080/",
          "height": 208
        }
      },
      "cell_type": "code",
      "source": [
        "print(X[:10,0:6])\n",
        "print(X.shape)"
      ],
      "execution_count": 117,
      "outputs": [
        {
          "output_type": "stream",
          "text": [
            "[[  1.   0.   0. 619.   0.  42.]\n",
            " [  0.   0.   1. 608.   0.  41.]\n",
            " [  1.   0.   0. 502.   0.  42.]\n",
            " [  1.   0.   0. 699.   0.  39.]\n",
            " [  0.   0.   1. 850.   0.  43.]\n",
            " [  0.   0.   1. 645.   1.  44.]\n",
            " [  1.   0.   0. 822.   1.  50.]\n",
            " [  0.   1.   0. 376.   0.  29.]\n",
            " [  1.   0.   0. 501.   1.  44.]\n",
            " [  1.   0.   0. 684.   1.  27.]]\n",
            "(10000, 12)\n"
          ],
          "name": "stdout"
        }
      ]
    },
    {
      "metadata": {
        "id": "PxKU-IJ6K1Xx",
        "colab_type": "text"
      },
      "cell_type": "markdown",
      "source": [
        "g. Explain why we should get rid of the first column.  Get rid of the first column in the X matrix.  Print out the first 6 observations after getting rid of the first column."
      ]
    },
    {
      "metadata": {
        "id": "WKdsvkikLWFM",
        "colab_type": "code",
        "outputId": "447cf966-df33-4779-b1b0-d59efc035c32",
        "colab": {
          "base_uri": "https://localhost:8080/",
          "height": 329
        }
      },
      "cell_type": "code",
      "source": [
        "X = X[:,1:]\n",
        "print(X[:6,:])"
      ],
      "execution_count": 118,
      "outputs": [
        {
          "output_type": "stream",
          "text": [
            "[[0.0000000e+00 0.0000000e+00 6.1900000e+02 0.0000000e+00 4.2000000e+01\n",
            "  2.0000000e+00 0.0000000e+00 1.0000000e+00 1.0000000e+00 1.0000000e+00\n",
            "  1.0134888e+05]\n",
            " [0.0000000e+00 1.0000000e+00 6.0800000e+02 0.0000000e+00 4.1000000e+01\n",
            "  1.0000000e+00 8.3807860e+04 1.0000000e+00 0.0000000e+00 1.0000000e+00\n",
            "  1.1254258e+05]\n",
            " [0.0000000e+00 0.0000000e+00 5.0200000e+02 0.0000000e+00 4.2000000e+01\n",
            "  8.0000000e+00 1.5966080e+05 3.0000000e+00 1.0000000e+00 0.0000000e+00\n",
            "  1.1393157e+05]\n",
            " [0.0000000e+00 0.0000000e+00 6.9900000e+02 0.0000000e+00 3.9000000e+01\n",
            "  1.0000000e+00 0.0000000e+00 2.0000000e+00 0.0000000e+00 0.0000000e+00\n",
            "  9.3826630e+04]\n",
            " [0.0000000e+00 1.0000000e+00 8.5000000e+02 0.0000000e+00 4.3000000e+01\n",
            "  2.0000000e+00 1.2551082e+05 1.0000000e+00 1.0000000e+00 1.0000000e+00\n",
            "  7.9084100e+04]\n",
            " [0.0000000e+00 1.0000000e+00 6.4500000e+02 1.0000000e+00 4.4000000e+01\n",
            "  8.0000000e+00 1.1375578e+05 2.0000000e+00 1.0000000e+00 0.0000000e+00\n",
            "  1.4975671e+05]]\n"
          ],
          "name": "stdout"
        }
      ]
    },
    {
      "metadata": {
        "id": "ORlqV_ApLebO",
        "colab_type": "text"
      },
      "cell_type": "markdown",
      "source": [
        ""
      ]
    },
    {
      "metadata": {
        "id": "gtjDIYX-L1Mj",
        "colab_type": "text"
      },
      "cell_type": "markdown",
      "source": [
        "h. Perform a train_test_split with test set of 20% of the data."
      ]
    },
    {
      "metadata": {
        "id": "dtZb2ZL1L4zI",
        "colab_type": "code",
        "colab": {}
      },
      "cell_type": "code",
      "source": [
        "from sklearn.model_selection import train_test_split\n",
        "X_train, X_test, y_train, y_test = train_test_split(X, y, test_size = .2, random_state = 0 ) # random_state:setting the seed "
      ],
      "execution_count": 0,
      "outputs": []
    },
    {
      "metadata": {
        "id": "ucEEl_g1MD0C",
        "colab_type": "text"
      },
      "cell_type": "markdown",
      "source": [
        "i. Below is code to scale the features in both the training and testing set using the StandardScaler. What is the difference between fitting the transform (fit_transform) and applying the transform (transform)?"
      ]
    },
    {
      "metadata": {
        "id": "X0m1HxHhMITn",
        "colab_type": "code",
        "colab": {}
      },
      "cell_type": "code",
      "source": [
        "from sklearn.preprocessing import StandardScaler\n",
        "sc = StandardScaler()\n",
        "X_train_sc = sc.fit_transform(X_train)\n",
        "X_test_sc = sc.transform(X_test)"
      ],
      "execution_count": 0,
      "outputs": []
    },
    {
      "metadata": {
        "id": "c5ZtZ9NIMPuP",
        "colab_type": "text"
      },
      "cell_type": "markdown",
      "source": [
        "j. Use keras to train a model and report the test set accuracy."
      ]
    },
    {
      "metadata": {
        "id": "hr4sxOsGMXG7",
        "colab_type": "code",
        "colab": {
          "base_uri": "https://localhost:8080/",
          "height": 295
        },
        "outputId": "e518793a-a515-4877-afda-8d95168443cc"
      },
      "cell_type": "code",
      "source": [
        "from keras import models\n",
        "from keras import layers\n",
        "y_train=pd.get_dummies(y_train)\n",
        "y_test =pd.get_dummies(y_test)\n",
        "network = models.Sequential()\n",
        "network.add(layers.Dense(8000, activation='relu',input_shape = (11,)))\n",
        "network.add(layers.Dense(512, activation='relu'))\n",
        "network.add(layers.Dense(2, activation='sigmoid'))\n",
        "network.compile(optimizer='adam',\n",
        "                loss='binary_crossentropy',\n",
        "                metrics=['accuracy'])\n",
        "network.fit(X_train_sc, y_train, epochs=7,batch_size = 10)\n",
        "\n",
        "test_loss, test_acc = network.evaluate(X_test_sc, y_test)\n",
        "print('test_acc:', test_acc)"
      ],
      "execution_count": 126,
      "outputs": [
        {
          "output_type": "stream",
          "text": [
            "Epoch 1/7\n",
            "8000/8000 [==============================] - 8s 1ms/step - loss: 0.3976 - acc: 0.8339\n",
            "Epoch 2/7\n",
            "8000/8000 [==============================] - 7s 916us/step - loss: 0.3583 - acc: 0.8540\n",
            "Epoch 3/7\n",
            "8000/8000 [==============================] - 7s 916us/step - loss: 0.3521 - acc: 0.8574\n",
            "Epoch 4/7\n",
            "8000/8000 [==============================] - 7s 918us/step - loss: 0.3456 - acc: 0.8581\n",
            "Epoch 5/7\n",
            "8000/8000 [==============================] - 7s 919us/step - loss: 0.3427 - acc: 0.8632\n",
            "Epoch 6/7\n",
            "8000/8000 [==============================] - 7s 915us/step - loss: 0.3386 - acc: 0.8632\n",
            "Epoch 7/7\n",
            "8000/8000 [==============================] - 7s 919us/step - loss: 0.3358 - acc: 0.8662\n",
            "2000/2000 [==============================] - 0s 180us/step\n",
            "test_acc: 0.8615\n"
          ],
          "name": "stdout"
        }
      ]
    },
    {
      "metadata": {
        "id": "jGQKLtGyRIn2",
        "colab_type": "text"
      },
      "cell_type": "markdown",
      "source": [
        "## Problem 6:\n",
        "\n",
        "For the breast cancer dataset (available at https://archive.ics.uci.edu/ml/datasets/Breast+Cancer+Wisconsin+%28Diagnostic%29) do the following:\n",
        "* Use column 1 as the response variable and all other values (except column 0) as features\n",
        "* Scale the feature variables\n",
        "* Split the data with 75% of the training data in the training set and 25% in the test set\n",
        "* Apply PCA to the training set so that 90% of the variance is retained\n",
        "* Apply neural networks to the training PCA dataset to predict the response variable\n",
        "* Predict the test data set and print out the accuracy"
      ]
    },
    {
      "metadata": {
        "id": "BT4qCgN6RPuw",
        "colab_type": "code",
        "outputId": "ff6dca78-9a62-44dc-d052-d94a6bcb7657",
        "colab": {
          "base_uri": "https://localhost:8080/",
          "height": 35
        }
      },
      "cell_type": "code",
      "source": [
        "import pandas as pd\n",
        "import io\n",
        "\n",
        "from google.colab import drive\n",
        "drive.mount('/content/gdrive')\n",
        "\n",
        "data = pd.read_csv('/content/gdrive/My Drive/lab3/breastcancer.csv', sep=',', decimal='.', header=None)\n",
        "\n",
        "data.replace(('M', 'B'), (1, 0), inplace=True)"
      ],
      "execution_count": 84,
      "outputs": [
        {
          "output_type": "stream",
          "text": [
            "Drive already mounted at /content/gdrive; to attempt to forcibly remount, call drive.mount(\"/content/gdrive\", force_remount=True).\n"
          ],
          "name": "stdout"
        }
      ]
    },
    {
      "metadata": {
        "id": "tUgcnrkQN3wD",
        "colab_type": "code",
        "outputId": "3e775d1e-b345-4e3b-d0d8-306cbad13079",
        "colab": {
          "base_uri": "https://localhost:8080/",
          "height": 107
        }
      },
      "cell_type": "code",
      "source": [
        "from sklearn.preprocessing import StandardScaler\n",
        "scaler = StandardScaler() \n",
        "df = scaler.fit_transform(data) "
      ],
      "execution_count": 85,
      "outputs": [
        {
          "output_type": "stream",
          "text": [
            "/usr/local/lib/python3.6/dist-packages/sklearn/preprocessing/data.py:625: DataConversionWarning: Data with input dtype int64, float64 were all converted to float64 by StandardScaler.\n",
            "  return self.partial_fit(X, y)\n",
            "/usr/local/lib/python3.6/dist-packages/sklearn/base.py:462: DataConversionWarning: Data with input dtype int64, float64 were all converted to float64 by StandardScaler.\n",
            "  return self.fit(X, **fit_params).transform(X)\n"
          ],
          "name": "stderr"
        }
      ]
    },
    {
      "metadata": {
        "id": "UlaXkjnKzN5e",
        "colab_type": "code",
        "colab": {}
      },
      "cell_type": "code",
      "source": [
        "y = data.values[:,1]\n",
        "data = data.values[:,2:32]\n"
      ],
      "execution_count": 0,
      "outputs": []
    },
    {
      "metadata": {
        "id": "KMfQIyy2Llrc",
        "colab_type": "code",
        "colab": {}
      },
      "cell_type": "code",
      "source": [
        "import pandas as pd\n",
        "from sklearn.model_selection import train_test_split\n",
        "\n",
        "X_train, X_test, y_train, y_test = train_test_split(data, y, test_size=0.25)"
      ],
      "execution_count": 0,
      "outputs": []
    },
    {
      "metadata": {
        "id": "k9kq_5o5Yeok",
        "colab_type": "code",
        "colab": {}
      },
      "cell_type": "code",
      "source": [
        "from sklearn.decomposition import PCA\n",
        "pca = PCA(0.90)\n",
        "\n",
        "X_train_pca = pca.fit_transform(X_train)\n",
        "X_test_pca = pca.transform(X_test)\n"
      ],
      "execution_count": 0,
      "outputs": []
    },
    {
      "metadata": {
        "id": "jEKntFS7yved",
        "colab_type": "code",
        "colab": {
          "base_uri": "https://localhost:8080/",
          "height": 277
        },
        "outputId": "58cf0823-0a01-4dfb-c680-650ed26192be"
      },
      "cell_type": "code",
      "source": [
        "from keras import models\n",
        "from keras import layers\n",
        "y_train=pd.get_dummies(y_train)\n",
        "y_test =pd.get_dummies(y_test)\n",
        "network = models.Sequential()\n",
        "network.add(layers.Dense(700, activation='relu',input_shape = (1,)))\n",
        "network.add(layers.Dense(512, activation='relu'))\n",
        "network.add(layers.Dense(2, activation='sigmoid'))\n",
        "network.compile(optimizer='adam',\n",
        "                loss='binary_crossentropy',\n",
        "                metrics=['accuracy'])\n",
        "network.fit(X_train_pca, y_train, epochs=7,batch_size = 10)"
      ],
      "execution_count": 104,
      "outputs": [
        {
          "output_type": "stream",
          "text": [
            "Epoch 1/7\n",
            "426/426 [==============================] - 1s 2ms/step - loss: 1.3949 - acc: 0.8768\n",
            "Epoch 2/7\n",
            "426/426 [==============================] - 0s 479us/step - loss: 1.3487 - acc: 0.9061\n",
            "Epoch 3/7\n",
            "426/426 [==============================] - 0s 482us/step - loss: 1.2338 - acc: 0.8991\n",
            "Epoch 4/7\n",
            "426/426 [==============================] - 0s 456us/step - loss: 1.2672 - acc: 0.8991\n",
            "Epoch 5/7\n",
            "426/426 [==============================] - 0s 554us/step - loss: 1.3391 - acc: 0.9026\n",
            "Epoch 6/7\n",
            "426/426 [==============================] - 0s 461us/step - loss: 1.1926 - acc: 0.9038\n",
            "Epoch 7/7\n",
            "426/426 [==============================] - 0s 451us/step - loss: 1.1292 - acc: 0.8979\n"
          ],
          "name": "stdout"
        },
        {
          "output_type": "execute_result",
          "data": {
            "text/plain": [
              "<keras.callbacks.History at 0x7fceb1f0a978>"
            ]
          },
          "metadata": {
            "tags": []
          },
          "execution_count": 104
        }
      ]
    },
    {
      "metadata": {
        "id": "c5SZeBWqzY5r",
        "colab_type": "code",
        "colab": {
          "base_uri": "https://localhost:8080/",
          "height": 52
        },
        "outputId": "7c067f40-a5b6-4fb3-f10a-f6369f8df2dd"
      },
      "cell_type": "code",
      "source": [
        "test_loss, test_acc = network.evaluate(X_test_pca, y_test)\n",
        "print('test_acc:', test_acc)"
      ],
      "execution_count": 106,
      "outputs": [
        {
          "output_type": "stream",
          "text": [
            "143/143 [==============================] - 0s 1ms/step\n",
            "test_acc: 0.9090909090909091\n"
          ],
          "name": "stdout"
        }
      ]
    }
  ]
}