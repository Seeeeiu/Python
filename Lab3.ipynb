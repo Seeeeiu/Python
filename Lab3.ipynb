{
  "nbformat": 4,
  "nbformat_minor": 0,
  "metadata": {
    "colab": {
      "name": "Lab3.ipynb",
      "version": "0.3.2",
      "provenance": [],
      "collapsed_sections": [],
      "include_colab_link": true
    },
    "kernelspec": {
      "name": "python3",
      "display_name": "Python 3"
    },
    "accelerator": "GPU"
  },
  "cells": [
    {
      "cell_type": "markdown",
      "metadata": {
        "id": "view-in-github",
        "colab_type": "text"
      },
      "source": [
        "<a href=\"https://colab.research.google.com/github/Seeeeiu/Python/blob/master/Lab3.ipynb\" target=\"_parent\"><img src=\"https://colab.research.google.com/assets/colab-badge.svg\" alt=\"Open In Colab\"/></a>"
      ]
    },
    {
      "metadata": {
        "id": "zmCEhBTMx1Kd",
        "colab_type": "text"
      },
      "cell_type": "markdown",
      "source": [
        "# Lab 3"
      ]
    },
    {
      "metadata": {
        "id": "7H2OZ3w_x1KU",
        "colab_type": "code",
        "outputId": "0d3487cc-1f54-4020-f83e-da3f0b787c70",
        "colab": {
          "base_uri": "https://localhost:8080/",
          "height": 52
        }
      },
      "cell_type": "code",
      "source": [
        "import keras\n",
        "keras.__version__"
      ],
      "execution_count": 1,
      "outputs": [
        {
          "output_type": "stream",
          "text": [
            "Using TensorFlow backend.\n"
          ],
          "name": "stderr"
        },
        {
          "output_type": "execute_result",
          "data": {
            "text/plain": [
              "'2.2.4'"
            ]
          },
          "metadata": {
            "tags": []
          },
          "execution_count": 1
        }
      ]
    },
    {
      "metadata": {
        "id": "7bT-sr6Zx1Kf",
        "colab_type": "code",
        "outputId": "8a12428b-7284-45f2-e14a-ff60e0e55a62",
        "colab": {
          "base_uri": "https://localhost:8080/",
          "height": 52
        }
      },
      "cell_type": "code",
      "source": [
        "from keras.datasets import mnist\n",
        "\n",
        "(train_images, train_labels), (test_images, test_labels) = mnist.load_data()"
      ],
      "execution_count": 2,
      "outputs": [
        {
          "output_type": "stream",
          "text": [
            "Downloading data from https://s3.amazonaws.com/img-datasets/mnist.npz\n",
            "11493376/11490434 [==============================] - 3s 0us/step\n"
          ],
          "name": "stdout"
        }
      ]
    },
    {
      "metadata": {
        "id": "AE5AnSonMtOW",
        "colab_type": "text"
      },
      "cell_type": "markdown",
      "source": [
        "## Example Problem:"
      ]
    },
    {
      "metadata": {
        "id": "FMH-o_BaI_y4",
        "colab_type": "text"
      },
      "cell_type": "markdown",
      "source": [
        "#### Specify Model Architecture"
      ]
    },
    {
      "metadata": {
        "id": "58cB7tDKx1K4",
        "colab_type": "code",
        "colab": {}
      },
      "cell_type": "code",
      "source": [
        "from keras import models\n",
        "from keras import layers\n",
        "\n",
        "network = models.Sequential()\n",
        "network.add(layers.Dense(512, activation='relu', input_shape=(28 * 28,)))\n",
        "network.add(layers.Dense(10, activation='softmax'))"
      ],
      "execution_count": 0,
      "outputs": []
    },
    {
      "metadata": {
        "id": "nRDc3WZPJLgp",
        "colab_type": "text"
      },
      "cell_type": "markdown",
      "source": [
        "#### Compile Model "
      ]
    },
    {
      "metadata": {
        "id": "aQaHb3U1x1K6",
        "colab_type": "code",
        "colab": {}
      },
      "cell_type": "code",
      "source": [
        "network.compile(optimizer='rmsprop',\n",
        "                loss='categorical_crossentropy',\n",
        "                metrics=['accuracy'])"
      ],
      "execution_count": 0,
      "outputs": []
    },
    {
      "metadata": {
        "id": "BuqVWEBvJKts",
        "colab_type": "text"
      },
      "cell_type": "markdown",
      "source": [
        "#### Reshape and Scale Features"
      ]
    },
    {
      "metadata": {
        "id": "gxPxYuj5x1K9",
        "colab_type": "code",
        "colab": {}
      },
      "cell_type": "code",
      "source": [
        "train_images = train_images.reshape((60000, 28 * 28))\n",
        "train_images = train_images.astype('float32') / 255\n",
        "\n",
        "test_images = test_images.reshape((10000, 28 * 28))\n",
        "test_images = test_images.astype('float32') / 255"
      ],
      "execution_count": 0,
      "outputs": []
    },
    {
      "metadata": {
        "id": "4CMFjViuJkv6",
        "colab_type": "text"
      },
      "cell_type": "markdown",
      "source": [
        "#### Convert Labels to Dummy Variables"
      ]
    },
    {
      "metadata": {
        "id": "6p2_hFR2x1LB",
        "colab_type": "code",
        "colab": {}
      },
      "cell_type": "code",
      "source": [
        "from keras.utils import to_categorical\n",
        "\n",
        "train_labels = to_categorical(train_labels)\n",
        "test_labels = to_categorical(test_labels)"
      ],
      "execution_count": 0,
      "outputs": []
    },
    {
      "metadata": {
        "id": "Dp0HE_MUx1LE",
        "colab_type": "text"
      },
      "cell_type": "markdown",
      "source": [
        "#### Train the Network"
      ]
    },
    {
      "metadata": {
        "id": "4klsWEQ2x1LF",
        "colab_type": "code",
        "outputId": "6cea3de7-0a24-47f6-e7d5-b810ab132282",
        "colab": {
          "base_uri": "https://localhost:8080/",
          "height": 208
        }
      },
      "cell_type": "code",
      "source": [
        "network.fit(train_images, train_labels, epochs=5, batch_size=128)"
      ],
      "execution_count": 7,
      "outputs": [
        {
          "output_type": "stream",
          "text": [
            "Epoch 1/5\n",
            "60000/60000 [==============================] - 3s 48us/step - loss: 0.2604 - acc: 0.9229\n",
            "Epoch 2/5\n",
            "60000/60000 [==============================] - 2s 35us/step - loss: 0.1063 - acc: 0.9686\n",
            "Epoch 3/5\n",
            "60000/60000 [==============================] - 2s 34us/step - loss: 0.0704 - acc: 0.9790\n",
            "Epoch 4/5\n",
            "60000/60000 [==============================] - 2s 34us/step - loss: 0.0518 - acc: 0.9839\n",
            "Epoch 5/5\n",
            "60000/60000 [==============================] - 2s 34us/step - loss: 0.0384 - acc: 0.9886\n"
          ],
          "name": "stdout"
        },
        {
          "output_type": "execute_result",
          "data": {
            "text/plain": [
              "<keras.callbacks.History at 0x7eff3cbd8c18>"
            ]
          },
          "metadata": {
            "tags": []
          },
          "execution_count": 7
        }
      ]
    },
    {
      "metadata": {
        "id": "Z6gS5TOtx1LI",
        "colab_type": "text"
      },
      "cell_type": "markdown",
      "source": [
        "#### Evaluate the Test Data"
      ]
    },
    {
      "metadata": {
        "id": "jLJrj-ewx1LJ",
        "colab_type": "code",
        "outputId": "fc4ed419-ea2e-4cf9-ff9f-66ff62d99b89",
        "colab": {
          "base_uri": "https://localhost:8080/",
          "height": 51
        }
      },
      "cell_type": "code",
      "source": [
        "test_loss, test_acc = network.evaluate(test_images, test_labels)\n",
        "print('test_acc:', test_acc)"
      ],
      "execution_count": 0,
      "outputs": [
        {
          "output_type": "stream",
          "text": [
            "10000/10000 [==============================] - 0s 42us/step\n",
            "test_acc: 0.9798\n"
          ],
          "name": "stdout"
        }
      ]
    },
    {
      "metadata": {
        "id": "7Q5U_O8lx1LR",
        "colab_type": "text"
      },
      "cell_type": "markdown",
      "source": [
        "## Problem 1:\n",
        "\n",
        "a. Modify the example model above to contain 3 hidden layers of 512 neurons each.  \n"
      ]
    },
    {
      "metadata": {
        "id": "pvmdb5siMLNH",
        "colab_type": "code",
        "colab": {}
      },
      "cell_type": "code",
      "source": [
        ""
      ],
      "execution_count": 0,
      "outputs": []
    },
    {
      "metadata": {
        "id": "33QBnfl6L2T1",
        "colab_type": "text"
      },
      "cell_type": "markdown",
      "source": [
        "b. Specify the time elapsed to train the new model with 5 epochs."
      ]
    },
    {
      "metadata": {
        "id": "dFBc5ssGML6v",
        "colab_type": "code",
        "colab": {}
      },
      "cell_type": "code",
      "source": [
        ""
      ],
      "execution_count": 0,
      "outputs": []
    },
    {
      "metadata": {
        "id": "R8efl-gXL5Ms",
        "colab_type": "text"
      },
      "cell_type": "markdown",
      "source": [
        "c. Specify the accuracy on the test data."
      ]
    },
    {
      "metadata": {
        "id": "VVYD_lCjMMwz",
        "colab_type": "code",
        "colab": {}
      },
      "cell_type": "code",
      "source": [
        ""
      ],
      "execution_count": 0,
      "outputs": []
    },
    {
      "metadata": {
        "id": "XKo6FjLZOfXp",
        "colab_type": "text"
      },
      "cell_type": "markdown",
      "source": [
        "d. Specify the number of parameters in the new model."
      ]
    },
    {
      "metadata": {
        "id": "4w2Z6rTUOn4Q",
        "colab_type": "code",
        "colab": {}
      },
      "cell_type": "code",
      "source": [
        "model.summary"
      ],
      "execution_count": 0,
      "outputs": []
    },
    {
      "metadata": {
        "id": "OCxSH24YO-ie",
        "colab_type": "text"
      },
      "cell_type": "markdown",
      "source": [
        "e. If you rerun the fit command, you will begin from the weights you left off with.  Fit the network further by running 5 more epochs.  Then specify the new test accuracy."
      ]
    },
    {
      "metadata": {
        "id": "35P26-LWO9Zx",
        "colab_type": "code",
        "colab": {}
      },
      "cell_type": "code",
      "source": [
        ""
      ],
      "execution_count": 0,
      "outputs": []
    },
    {
      "metadata": {
        "id": "kWBmJ2uIRuSJ",
        "colab_type": "text"
      },
      "cell_type": "markdown",
      "source": [
        "f. How does the training accuracy compare with the test set accuracy?"
      ]
    },
    {
      "metadata": {
        "id": "UGiqaJBXR9Qf",
        "colab_type": "text"
      },
      "cell_type": "markdown",
      "source": [
        ""
      ]
    },
    {
      "metadata": {
        "id": "ez3HdUOzQ9Mb",
        "colab_type": "text"
      },
      "cell_type": "markdown",
      "source": [
        "## Problem 2:\n",
        "\n",
        "a. Modify the original example problem to use sigmoid nurons in the hidden layer.  How does the accuracy and the (model train) time elapsed compare to the original example?  How do the number of parameters compare?"
      ]
    },
    {
      "metadata": {
        "id": "sFGG4M_0Rs-k",
        "colab_type": "code",
        "colab": {}
      },
      "cell_type": "code",
      "source": [
        ""
      ],
      "execution_count": 0,
      "outputs": []
    },
    {
      "metadata": {
        "id": "gAbVeJKhVhSp",
        "colab_type": "text"
      },
      "cell_type": "markdown",
      "source": [
        "b. Modify the original example problem to use elu nurons in the hidden layer.  How does the accuracy and the (model train) time elapsed compare to the original example?  How do the number of parameters compare?"
      ]
    },
    {
      "metadata": {
        "id": "-htXcWVlXKUl",
        "colab_type": "code",
        "colab": {}
      },
      "cell_type": "code",
      "source": [
        ""
      ],
      "execution_count": 0,
      "outputs": []
    },
    {
      "metadata": {
        "id": "lG9YwZy5X-Pz",
        "colab_type": "text"
      },
      "cell_type": "markdown",
      "source": [
        "c. Modify the original example problem to use the adam optimizer.  How does the accuracy and the (model train) time elapsed compare to the original example?  How do the number of parameters compare?"
      ]
    },
    {
      "metadata": {
        "id": "EnKcWA5fQ6dm",
        "colab_type": "code",
        "colab": {}
      },
      "cell_type": "code",
      "source": [
        ""
      ],
      "execution_count": 0,
      "outputs": []
    },
    {
      "metadata": {
        "id": "OoTyboDEaXEj",
        "colab_type": "text"
      },
      "cell_type": "markdown",
      "source": [
        "d. Modify the original example problem to include a second hidden layer with 300 relu neurons, a third hidden layer with 200 neurons and a fourth hidden layer with 100 neurons.  How does the accuracy and the (model train) time elapsed compare to the original example?  How do the number of parameters compare?"
      ]
    },
    {
      "metadata": {
        "id": "zA5jbM_oaVkb",
        "colab_type": "code",
        "colab": {}
      },
      "cell_type": "code",
      "source": [
        ""
      ],
      "execution_count": 0,
      "outputs": []
    },
    {
      "metadata": {
        "id": "M0s13ozzEjws",
        "colab_type": "text"
      },
      "cell_type": "markdown",
      "source": [
        "## Problem 3:\n",
        "\n",
        "Now create your own neural network based upon the concepts you learned.  Achieve a higher accuracy than 98% on the test set."
      ]
    },
    {
      "metadata": {
        "id": "vsEjtvKJFDIf",
        "colab_type": "code",
        "colab": {}
      },
      "cell_type": "code",
      "source": [
        ""
      ],
      "execution_count": 0,
      "outputs": []
    },
    {
      "metadata": {
        "id": "dFr3WGh_FBdn",
        "colab_type": "text"
      },
      "cell_type": "markdown",
      "source": [
        "## Problem 4:\n",
        "\n",
        "Last year as part of the final exam in Machine Learning I hosted a Kaggle competition on the Plankton challenge: https://www.kaggle.com/t/830c8dd97ae748f8bd3fd52e8ccca849\n",
        "\n",
        "a. **Using only the first 1600 features**, use the keras methods and models that have been used thus far make a submission to the competition.  Report your accuracy (your score will not show on the leaderboard since this competition is closed)."
      ]
    },
    {
      "metadata": {
        "id": "3IxHmKURG_Kf",
        "colab_type": "code",
        "colab": {}
      },
      "cell_type": "code",
      "source": [
        ""
      ],
      "execution_count": 0,
      "outputs": []
    },
    {
      "metadata": {
        "id": "yHTgCRv8G_ov",
        "colab_type": "text"
      },
      "cell_type": "markdown",
      "source": [
        "b. Try another method that you think would be interesting (you can do whatever model/features you want for this problem but it must be different than the previous problem).  "
      ]
    },
    {
      "metadata": {
        "id": "mqyYHqc5G_9G",
        "colab_type": "code",
        "colab": {}
      },
      "cell_type": "code",
      "source": [
        ""
      ],
      "execution_count": 0,
      "outputs": []
    },
    {
      "metadata": {
        "id": "eCtVogc1HqLr",
        "colab_type": "text"
      },
      "cell_type": "markdown",
      "source": [
        "## Problem 5:\n",
        "\n",
        "For this problem we will be working with model churn data. Import the libraries and load in the model churn data by running the next 2 following code chunks."
      ]
    },
    {
      "metadata": {
        "id": "rKDZBiAsJLuu",
        "colab_type": "code",
        "colab": {}
      },
      "cell_type": "code",
      "source": [
        "# Importing the libraries\n",
        "import numpy as np\n",
        "import matplotlib.pyplot as plt\n",
        "import pandas as pd"
      ],
      "execution_count": 0,
      "outputs": []
    },
    {
      "metadata": {
        "id": "8TaZhjLaJNL4",
        "colab_type": "code",
        "outputId": "9676566b-a52c-49dd-c5c1-32d7910bdabb",
        "colab": {
          "base_uri": "https://localhost:8080/",
          "height": 124
        }
      },
      "cell_type": "code",
      "source": [
        "import pandas as pd\n",
        "import io\n",
        "\n",
        "from google.colab import drive\n",
        "drive.mount('/content/gdrive')\n",
        "\n",
        "dataset = pd.read_csv('/content/gdrive/My Drive/Colab Notebooks/Churn_Modelling.csv', sep=',', decimal='.')"
      ],
      "execution_count": 9,
      "outputs": [
        {
          "output_type": "stream",
          "text": [
            "Go to this URL in a browser: https://accounts.google.com/o/oauth2/auth?client_id=947318989803-6bn6qk8qdgf4n4g3pfee6491hc0brc4i.apps.googleusercontent.com&redirect_uri=urn%3Aietf%3Awg%3Aoauth%3A2.0%3Aoob&scope=email%20https%3A%2F%2Fwww.googleapis.com%2Fauth%2Fdocs.test%20https%3A%2F%2Fwww.googleapis.com%2Fauth%2Fdrive%20https%3A%2F%2Fwww.googleapis.com%2Fauth%2Fdrive.photos.readonly%20https%3A%2F%2Fwww.googleapis.com%2Fauth%2Fpeopleapi.readonly&response_type=code\n",
            "\n",
            "Enter your authorization code:\n",
            "··········\n",
            "Mounted at /content/gdrive\n"
          ],
          "name": "stdout"
        }
      ]
    },
    {
      "metadata": {
        "id": "fTinD7N_JZdH",
        "colab_type": "text"
      },
      "cell_type": "markdown",
      "source": [
        "a. Show the first 10 observations of the original data set (dataset)."
      ]
    },
    {
      "metadata": {
        "id": "PKlVqTmpJaIL",
        "colab_type": "code",
        "colab": {
          "base_uri": "https://localhost:8080/",
          "height": 375
        },
        "outputId": "6d894988-991c-4700-9fe0-f942a9d3266c"
      },
      "cell_type": "code",
      "source": [
        "dataset.iloc[0:10,:]"
      ],
      "execution_count": 10,
      "outputs": [
        {
          "output_type": "execute_result",
          "data": {
            "text/html": [
              "<div>\n",
              "<style scoped>\n",
              "    .dataframe tbody tr th:only-of-type {\n",
              "        vertical-align: middle;\n",
              "    }\n",
              "\n",
              "    .dataframe tbody tr th {\n",
              "        vertical-align: top;\n",
              "    }\n",
              "\n",
              "    .dataframe thead th {\n",
              "        text-align: right;\n",
              "    }\n",
              "</style>\n",
              "<table border=\"1\" class=\"dataframe\">\n",
              "  <thead>\n",
              "    <tr style=\"text-align: right;\">\n",
              "      <th></th>\n",
              "      <th>RowNumber</th>\n",
              "      <th>CustomerId</th>\n",
              "      <th>Surname</th>\n",
              "      <th>CreditScore</th>\n",
              "      <th>Geography</th>\n",
              "      <th>Gender</th>\n",
              "      <th>Age</th>\n",
              "      <th>Tenure</th>\n",
              "      <th>Balance</th>\n",
              "      <th>NumOfProducts</th>\n",
              "      <th>HasCrCard</th>\n",
              "      <th>IsActiveMember</th>\n",
              "      <th>EstimatedSalary</th>\n",
              "      <th>Exited</th>\n",
              "    </tr>\n",
              "  </thead>\n",
              "  <tbody>\n",
              "    <tr>\n",
              "      <th>0</th>\n",
              "      <td>1</td>\n",
              "      <td>15634602</td>\n",
              "      <td>Hargrave</td>\n",
              "      <td>619</td>\n",
              "      <td>France</td>\n",
              "      <td>Female</td>\n",
              "      <td>42</td>\n",
              "      <td>2</td>\n",
              "      <td>0.00</td>\n",
              "      <td>1</td>\n",
              "      <td>1</td>\n",
              "      <td>1</td>\n",
              "      <td>101348.88</td>\n",
              "      <td>1</td>\n",
              "    </tr>\n",
              "    <tr>\n",
              "      <th>1</th>\n",
              "      <td>2</td>\n",
              "      <td>15647311</td>\n",
              "      <td>Hill</td>\n",
              "      <td>608</td>\n",
              "      <td>Spain</td>\n",
              "      <td>Female</td>\n",
              "      <td>41</td>\n",
              "      <td>1</td>\n",
              "      <td>83807.86</td>\n",
              "      <td>1</td>\n",
              "      <td>0</td>\n",
              "      <td>1</td>\n",
              "      <td>112542.58</td>\n",
              "      <td>0</td>\n",
              "    </tr>\n",
              "    <tr>\n",
              "      <th>2</th>\n",
              "      <td>3</td>\n",
              "      <td>15619304</td>\n",
              "      <td>Onio</td>\n",
              "      <td>502</td>\n",
              "      <td>France</td>\n",
              "      <td>Female</td>\n",
              "      <td>42</td>\n",
              "      <td>8</td>\n",
              "      <td>159660.80</td>\n",
              "      <td>3</td>\n",
              "      <td>1</td>\n",
              "      <td>0</td>\n",
              "      <td>113931.57</td>\n",
              "      <td>1</td>\n",
              "    </tr>\n",
              "    <tr>\n",
              "      <th>3</th>\n",
              "      <td>4</td>\n",
              "      <td>15701354</td>\n",
              "      <td>Boni</td>\n",
              "      <td>699</td>\n",
              "      <td>France</td>\n",
              "      <td>Female</td>\n",
              "      <td>39</td>\n",
              "      <td>1</td>\n",
              "      <td>0.00</td>\n",
              "      <td>2</td>\n",
              "      <td>0</td>\n",
              "      <td>0</td>\n",
              "      <td>93826.63</td>\n",
              "      <td>0</td>\n",
              "    </tr>\n",
              "    <tr>\n",
              "      <th>4</th>\n",
              "      <td>5</td>\n",
              "      <td>15737888</td>\n",
              "      <td>Mitchell</td>\n",
              "      <td>850</td>\n",
              "      <td>Spain</td>\n",
              "      <td>Female</td>\n",
              "      <td>43</td>\n",
              "      <td>2</td>\n",
              "      <td>125510.82</td>\n",
              "      <td>1</td>\n",
              "      <td>1</td>\n",
              "      <td>1</td>\n",
              "      <td>79084.10</td>\n",
              "      <td>0</td>\n",
              "    </tr>\n",
              "    <tr>\n",
              "      <th>5</th>\n",
              "      <td>6</td>\n",
              "      <td>15574012</td>\n",
              "      <td>Chu</td>\n",
              "      <td>645</td>\n",
              "      <td>Spain</td>\n",
              "      <td>Male</td>\n",
              "      <td>44</td>\n",
              "      <td>8</td>\n",
              "      <td>113755.78</td>\n",
              "      <td>2</td>\n",
              "      <td>1</td>\n",
              "      <td>0</td>\n",
              "      <td>149756.71</td>\n",
              "      <td>1</td>\n",
              "    </tr>\n",
              "    <tr>\n",
              "      <th>6</th>\n",
              "      <td>7</td>\n",
              "      <td>15592531</td>\n",
              "      <td>Bartlett</td>\n",
              "      <td>822</td>\n",
              "      <td>France</td>\n",
              "      <td>Male</td>\n",
              "      <td>50</td>\n",
              "      <td>7</td>\n",
              "      <td>0.00</td>\n",
              "      <td>2</td>\n",
              "      <td>1</td>\n",
              "      <td>1</td>\n",
              "      <td>10062.80</td>\n",
              "      <td>0</td>\n",
              "    </tr>\n",
              "    <tr>\n",
              "      <th>7</th>\n",
              "      <td>8</td>\n",
              "      <td>15656148</td>\n",
              "      <td>Obinna</td>\n",
              "      <td>376</td>\n",
              "      <td>Germany</td>\n",
              "      <td>Female</td>\n",
              "      <td>29</td>\n",
              "      <td>4</td>\n",
              "      <td>115046.74</td>\n",
              "      <td>4</td>\n",
              "      <td>1</td>\n",
              "      <td>0</td>\n",
              "      <td>119346.88</td>\n",
              "      <td>1</td>\n",
              "    </tr>\n",
              "    <tr>\n",
              "      <th>8</th>\n",
              "      <td>9</td>\n",
              "      <td>15792365</td>\n",
              "      <td>He</td>\n",
              "      <td>501</td>\n",
              "      <td>France</td>\n",
              "      <td>Male</td>\n",
              "      <td>44</td>\n",
              "      <td>4</td>\n",
              "      <td>142051.07</td>\n",
              "      <td>2</td>\n",
              "      <td>0</td>\n",
              "      <td>1</td>\n",
              "      <td>74940.50</td>\n",
              "      <td>0</td>\n",
              "    </tr>\n",
              "    <tr>\n",
              "      <th>9</th>\n",
              "      <td>10</td>\n",
              "      <td>15592389</td>\n",
              "      <td>H?</td>\n",
              "      <td>684</td>\n",
              "      <td>France</td>\n",
              "      <td>Male</td>\n",
              "      <td>27</td>\n",
              "      <td>2</td>\n",
              "      <td>134603.88</td>\n",
              "      <td>1</td>\n",
              "      <td>1</td>\n",
              "      <td>1</td>\n",
              "      <td>71725.73</td>\n",
              "      <td>0</td>\n",
              "    </tr>\n",
              "  </tbody>\n",
              "</table>\n",
              "</div>"
            ],
            "text/plain": [
              "   RowNumber  CustomerId   Surname  CreditScore Geography  Gender  Age  \\\n",
              "0          1    15634602  Hargrave          619    France  Female   42   \n",
              "1          2    15647311      Hill          608     Spain  Female   41   \n",
              "2          3    15619304      Onio          502    France  Female   42   \n",
              "3          4    15701354      Boni          699    France  Female   39   \n",
              "4          5    15737888  Mitchell          850     Spain  Female   43   \n",
              "5          6    15574012       Chu          645     Spain    Male   44   \n",
              "6          7    15592531  Bartlett          822    France    Male   50   \n",
              "7          8    15656148    Obinna          376   Germany  Female   29   \n",
              "8          9    15792365        He          501    France    Male   44   \n",
              "9         10    15592389        H?          684    France    Male   27   \n",
              "\n",
              "   Tenure    Balance  NumOfProducts  HasCrCard  IsActiveMember  \\\n",
              "0       2       0.00              1          1               1   \n",
              "1       1   83807.86              1          0               1   \n",
              "2       8  159660.80              3          1               0   \n",
              "3       1       0.00              2          0               0   \n",
              "4       2  125510.82              1          1               1   \n",
              "5       8  113755.78              2          1               0   \n",
              "6       7       0.00              2          1               1   \n",
              "7       4  115046.74              4          1               0   \n",
              "8       4  142051.07              2          0               1   \n",
              "9       2  134603.88              1          1               1   \n",
              "\n",
              "   EstimatedSalary  Exited  \n",
              "0        101348.88       1  \n",
              "1        112542.58       0  \n",
              "2        113931.57       1  \n",
              "3         93826.63       0  \n",
              "4         79084.10       0  \n",
              "5        149756.71       1  \n",
              "6         10062.80       0  \n",
              "7        119346.88       1  \n",
              "8         74940.50       0  \n",
              "9         71725.73       0  "
            ]
          },
          "metadata": {
            "tags": []
          },
          "execution_count": 10
        }
      ]
    },
    {
      "metadata": {
        "id": "-RWcitDMJpj7",
        "colab_type": "text"
      },
      "cell_type": "markdown",
      "source": [
        "b. Which 3 columns should not be used as features? Create the appropriate X matrix (including categorical variables) and the y vector as the last column."
      ]
    },
    {
      "metadata": {
        "id": "D3XCnTl5Jv36",
        "colab_type": "code",
        "colab": {
          "base_uri": "https://localhost:8080/",
          "height": 35
        },
        "outputId": "68063bf3-2398-4681-cef2-8799b04741e9"
      },
      "cell_type": "code",
      "source": [
        "#RowNumber CustomerId Surname\n",
        "X = dataset.iloc[:,3:13].values\n",
        "y = dataset.iloc[:,13].values"
      ],
      "execution_count": 31,
      "outputs": [
        {
          "output_type": "execute_result",
          "data": {
            "text/plain": [
              "(10000, 10)"
            ]
          },
          "metadata": {
            "tags": []
          },
          "execution_count": 31
        }
      ]
    },
    {
      "metadata": {
        "id": "46RhZ1LrJ6zW",
        "colab_type": "text"
      },
      "cell_type": "markdown",
      "source": [
        "c. Print out the first 10 observations (and the first 6 columns) of the X matrix and comment on the number of observations and number of columns."
      ]
    },
    {
      "metadata": {
        "id": "zxdY35P2KAu4",
        "colab_type": "code",
        "colab": {
          "base_uri": "https://localhost:8080/",
          "height": 208
        },
        "outputId": "44be4598-89ee-430a-f4ab-ee4a8be69364"
      },
      "cell_type": "code",
      "source": [
        "print(X[:10,0:6])\n",
        "print(X.shape)"
      ],
      "execution_count": 13,
      "outputs": [
        {
          "output_type": "stream",
          "text": [
            "[[619 'France' 'Female' 42 2 0.0]\n",
            " [608 'Spain' 'Female' 41 1 83807.86]\n",
            " [502 'France' 'Female' 42 8 159660.8]\n",
            " [699 'France' 'Female' 39 1 0.0]\n",
            " [850 'Spain' 'Female' 43 2 125510.82]\n",
            " [645 'Spain' 'Male' 44 8 113755.78]\n",
            " [822 'France' 'Male' 50 7 0.0]\n",
            " [376 'Germany' 'Female' 29 4 115046.74]\n",
            " [501 'France' 'Male' 44 4 142051.07]\n",
            " [684 'France' 'Male' 27 2 134603.88]]\n",
            "(10000, 10)\n"
          ],
          "name": "stdout"
        }
      ]
    },
    {
      "metadata": {
        "id": "o2ym-QH1KJe5",
        "colab_type": "text"
      },
      "cell_type": "markdown",
      "source": [
        "d. After running the following code in the next code chunk, print out the first 10 observations (and the first 6 columns).  Also, print out the shape of the X matrix."
      ]
    },
    {
      "metadata": {
        "id": "44CGJ5HkKISx",
        "colab_type": "code",
        "colab": {}
      },
      "cell_type": "code",
      "source": [
        "from sklearn.preprocessing import LabelEncoder, OneHotEncoder\n",
        "labelEncoderX1=LabelEncoder()\n",
        "X[:,1]=labelEncoderX1.fit_transform(X[:,1])\n",
        "\n",
        "labelEncoderX1=LabelEncoder()\n",
        "X[:,2]=labelEncoderX1.fit_transform(X[:,2])"
      ],
      "execution_count": 0,
      "outputs": []
    },
    {
      "metadata": {
        "id": "G5Mvj4RoKWoi",
        "colab_type": "code",
        "colab": {
          "base_uri": "https://localhost:8080/",
          "height": 208
        },
        "outputId": "7d6898db-cb00-4dc0-d1f4-d2887aed0eee"
      },
      "cell_type": "code",
      "source": [
        "print(X[:10,0:6])\n",
        "print(X.shape)"
      ],
      "execution_count": 24,
      "outputs": [
        {
          "output_type": "stream",
          "text": [
            "[[619 0 0 42 2 0.0]\n",
            " [608 2 0 41 1 83807.86]\n",
            " [502 0 0 42 8 159660.8]\n",
            " [699 0 0 39 1 0.0]\n",
            " [850 2 0 43 2 125510.82]\n",
            " [645 2 1 44 8 113755.78]\n",
            " [822 0 1 50 7 0.0]\n",
            " [376 1 0 29 4 115046.74]\n",
            " [501 0 1 44 4 142051.07]\n",
            " [684 0 1 27 2 134603.88]]\n",
            "(10000, 10)\n"
          ],
          "name": "stdout"
        }
      ]
    },
    {
      "metadata": {
        "id": "DS_UNcDcKbTk",
        "colab_type": "text"
      },
      "cell_type": "markdown",
      "source": [
        "e. How do the X matrices from c and d compare? What does the one in column 2 denote?"
      ]
    },
    {
      "metadata": {
        "id": "DGDsF37YKg7b",
        "colab_type": "text"
      },
      "cell_type": "markdown",
      "source": [
        ""
      ]
    },
    {
      "metadata": {
        "id": "CU1zmX3cKmwP",
        "colab_type": "text"
      },
      "cell_type": "markdown",
      "source": [
        "f. Run the following code and again print out the first 10 observations and 6 columns. Also print the shape of the X matrix."
      ]
    },
    {
      "metadata": {
        "id": "Nm-bETVZKfEa",
        "colab_type": "code",
        "colab": {
          "base_uri": "https://localhost:8080/",
          "height": 141
        },
        "outputId": "b1a50fa9-e883-408d-e4ee-7157047d6717"
      },
      "cell_type": "code",
      "source": [
        "onehotencoder = OneHotEncoder(categorical_features = [1])\n",
        "X = onehotencoder.fit_transform(X).toarray()"
      ],
      "execution_count": 33,
      "outputs": [
        {
          "output_type": "stream",
          "text": [
            "/usr/local/lib/python3.6/dist-packages/sklearn/preprocessing/_encoders.py:368: FutureWarning: The handling of integer data will change in version 0.22. Currently, the categories are determined based on the range [0, max(values)], while in the future they will be determined based on the unique values.\n",
            "If you want the future behaviour and silence this warning, you can specify \"categories='auto'\".\n",
            "In case you used a LabelEncoder before this OneHotEncoder to convert the categories to integers, then you can now use the OneHotEncoder directly.\n",
            "  warnings.warn(msg, FutureWarning)\n",
            "/usr/local/lib/python3.6/dist-packages/sklearn/preprocessing/_encoders.py:390: DeprecationWarning: The 'categorical_features' keyword is deprecated in version 0.20 and will be removed in 0.22. You can use the ColumnTransformer instead.\n",
            "  \"use the ColumnTransformer instead.\", DeprecationWarning)\n"
          ],
          "name": "stderr"
        }
      ]
    },
    {
      "metadata": {
        "id": "t-OBJyZrKw01",
        "colab_type": "code",
        "colab": {
          "base_uri": "https://localhost:8080/",
          "height": 208
        },
        "outputId": "b9c77895-fb79-40e2-b236-0ac697fb0250"
      },
      "cell_type": "code",
      "source": [
        "print(X[:10,0:6])\n",
        "print(X.shape)"
      ],
      "execution_count": 34,
      "outputs": [
        {
          "output_type": "stream",
          "text": [
            "[[  1.   0.   0. 619.   0.  42.]\n",
            " [  0.   0.   1. 608.   0.  41.]\n",
            " [  1.   0.   0. 502.   0.  42.]\n",
            " [  1.   0.   0. 699.   0.  39.]\n",
            " [  0.   0.   1. 850.   0.  43.]\n",
            " [  0.   0.   1. 645.   1.  44.]\n",
            " [  1.   0.   0. 822.   1.  50.]\n",
            " [  0.   1.   0. 376.   0.  29.]\n",
            " [  1.   0.   0. 501.   1.  44.]\n",
            " [  1.   0.   0. 684.   1.  27.]]\n",
            "(10000, 12)\n"
          ],
          "name": "stdout"
        }
      ]
    },
    {
      "metadata": {
        "id": "PxKU-IJ6K1Xx",
        "colab_type": "text"
      },
      "cell_type": "markdown",
      "source": [
        "g. Explain why we should get rid of the first column.  Get rid of the first column in the X matrix.  Print out the first 6 observations after getting rid of the first column."
      ]
    },
    {
      "metadata": {
        "id": "WKdsvkikLWFM",
        "colab_type": "code",
        "colab": {}
      },
      "cell_type": "code",
      "source": [
        ""
      ],
      "execution_count": 0,
      "outputs": []
    },
    {
      "metadata": {
        "id": "ORlqV_ApLebO",
        "colab_type": "text"
      },
      "cell_type": "markdown",
      "source": [
        ""
      ]
    },
    {
      "metadata": {
        "id": "gtjDIYX-L1Mj",
        "colab_type": "text"
      },
      "cell_type": "markdown",
      "source": [
        "h. Perform a train_test_split with test set of 20% of the data."
      ]
    },
    {
      "metadata": {
        "id": "dtZb2ZL1L4zI",
        "colab_type": "code",
        "colab": {}
      },
      "cell_type": "code",
      "source": [
        ""
      ],
      "execution_count": 0,
      "outputs": []
    },
    {
      "metadata": {
        "id": "ucEEl_g1MD0C",
        "colab_type": "text"
      },
      "cell_type": "markdown",
      "source": [
        "i. Below is code to scale the features in both the training and testing set using the StandardScaler. What is the difference between fitting the transform (fit_transform) and applying the transform (transform)?"
      ]
    },
    {
      "metadata": {
        "id": "X0m1HxHhMITn",
        "colab_type": "code",
        "colab": {}
      },
      "cell_type": "code",
      "source": [
        ""
      ],
      "execution_count": 0,
      "outputs": []
    },
    {
      "metadata": {
        "id": "c5ZtZ9NIMPuP",
        "colab_type": "text"
      },
      "cell_type": "markdown",
      "source": [
        "j. Use keras to train a model and report the test set accuracy."
      ]
    },
    {
      "metadata": {
        "id": "hr4sxOsGMXG7",
        "colab_type": "code",
        "colab": {}
      },
      "cell_type": "code",
      "source": [
        ""
      ],
      "execution_count": 0,
      "outputs": []
    },
    {
      "metadata": {
        "id": "jGQKLtGyRIn2",
        "colab_type": "text"
      },
      "cell_type": "markdown",
      "source": [
        "## Problem 6:\n",
        "\n",
        "For the breast cancer dataset (available at https://archive.ics.uci.edu/ml/datasets/Breast+Cancer+Wisconsin+%28Diagnostic%29) do the following:\n",
        "* Use column 1 as the response variable and all other values (except column 0) as features\n",
        "* Scale the feature variables\n",
        "* Split the data with 75% of the training data in the training set and 25% in the test set\n",
        "* Apply PCA to the training set so that 90% of the variance is retained\n",
        "* Apply neural networks to the training PCA dataset to predict the response variable\n",
        "* Predict the test data set and print out the accuracy"
      ]
    },
    {
      "metadata": {
        "id": "BT4qCgN6RPuw",
        "colab_type": "code",
        "colab": {}
      },
      "cell_type": "code",
      "source": [
        "dataset = pd.read_csv('/content/gdrive/My Drive/Colab Notebooks/breastcancer.csv', sep=',', decimal='.')"
      ],
      "execution_count": 0,
      "outputs": []
    }
  ]
}