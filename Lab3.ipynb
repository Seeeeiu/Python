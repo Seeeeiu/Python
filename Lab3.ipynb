{
  "nbformat": 4,
  "nbformat_minor": 0,
  "metadata": {
    "colab": {
      "name": "Lab3.ipynb",
      "version": "0.3.2",
      "provenance": [],
      "collapsed_sections": [],
      "include_colab_link": true
    },
    "kernelspec": {
      "name": "python3",
      "display_name": "Python 3"
    },
    "accelerator": "GPU"
  },
  "cells": [
    {
      "cell_type": "markdown",
      "metadata": {
        "id": "view-in-github",
        "colab_type": "text"
      },
      "source": [
        "<a href=\"https://colab.research.google.com/github/Seeeeiu/Python/blob/master/Lab3.ipynb\" target=\"_parent\"><img src=\"https://colab.research.google.com/assets/colab-badge.svg\" alt=\"Open In Colab\"/></a>"
      ]
    },
    {
      "metadata": {
        "id": "zmCEhBTMx1Kd",
        "colab_type": "text"
      },
      "cell_type": "markdown",
      "source": [
        "# Lab 3"
      ]
    },
    {
      "metadata": {
        "id": "7H2OZ3w_x1KU",
        "colab_type": "code",
        "outputId": "700dc81c-08a6-466c-f1b5-01059dede449",
        "colab": {
          "base_uri": "https://localhost:8080/",
          "height": 35
        }
      },
      "cell_type": "code",
      "source": [
        "import keras\n",
        "keras.__version__"
      ],
      "execution_count": 79,
      "outputs": [
        {
          "output_type": "execute_result",
          "data": {
            "text/plain": [
              "'2.2.4'"
            ]
          },
          "metadata": {
            "tags": []
          },
          "execution_count": 79
        }
      ]
    },
    {
      "metadata": {
        "id": "7bT-sr6Zx1Kf",
        "colab_type": "code",
        "colab": {}
      },
      "cell_type": "code",
      "source": [
        "from keras.datasets import mnist\n",
        "\n",
        "(train_images, train_labels), (test_images, test_labels) = mnist.load_data()"
      ],
      "execution_count": 0,
      "outputs": []
    },
    {
      "metadata": {
        "id": "AE5AnSonMtOW",
        "colab_type": "text"
      },
      "cell_type": "markdown",
      "source": [
        "## Example Problem:"
      ]
    },
    {
      "metadata": {
        "id": "FMH-o_BaI_y4",
        "colab_type": "text"
      },
      "cell_type": "markdown",
      "source": [
        "#### Specify Model Architecture"
      ]
    },
    {
      "metadata": {
        "id": "58cB7tDKx1K4",
        "colab_type": "code",
        "colab": {}
      },
      "cell_type": "code",
      "source": [
        "from keras import models\n",
        "from keras import layers\n",
        "\n",
        "network = models.Sequential()\n",
        "network.add(layers.Dense(512, activation='relu', input_shape=(28 * 28,)))\n",
        "network.add(layers.Dense(10, activation='softmax'))"
      ],
      "execution_count": 0,
      "outputs": []
    },
    {
      "metadata": {
        "id": "nRDc3WZPJLgp",
        "colab_type": "text"
      },
      "cell_type": "markdown",
      "source": [
        "#### Compile Model "
      ]
    },
    {
      "metadata": {
        "id": "aQaHb3U1x1K6",
        "colab_type": "code",
        "colab": {}
      },
      "cell_type": "code",
      "source": [
        "network.compile(optimizer='rmsprop',\n",
        "                loss='categorical_crossentropy',\n",
        "                metrics=['accuracy'])"
      ],
      "execution_count": 0,
      "outputs": []
    },
    {
      "metadata": {
        "id": "BuqVWEBvJKts",
        "colab_type": "text"
      },
      "cell_type": "markdown",
      "source": [
        "#### Reshape and Scale Features"
      ]
    },
    {
      "metadata": {
        "id": "gxPxYuj5x1K9",
        "colab_type": "code",
        "colab": {}
      },
      "cell_type": "code",
      "source": [
        "train_images = train_images.reshape((60000, 28 * 28))\n",
        "train_images = train_images.astype('float32') / 255\n",
        "\n",
        "test_images = test_images.reshape((10000, 28 * 28))\n",
        "test_images = test_images.astype('float32') / 255"
      ],
      "execution_count": 0,
      "outputs": []
    },
    {
      "metadata": {
        "id": "4CMFjViuJkv6",
        "colab_type": "text"
      },
      "cell_type": "markdown",
      "source": [
        "#### Convert Labels to Dummy Variables"
      ]
    },
    {
      "metadata": {
        "id": "6p2_hFR2x1LB",
        "colab_type": "code",
        "colab": {}
      },
      "cell_type": "code",
      "source": [
        "from keras.utils import to_categorical\n",
        "\n",
        "train_labels = to_categorical(train_labels)\n",
        "test_labels = to_categorical(test_labels)"
      ],
      "execution_count": 0,
      "outputs": []
    },
    {
      "metadata": {
        "id": "Dp0HE_MUx1LE",
        "colab_type": "text"
      },
      "cell_type": "markdown",
      "source": [
        "#### Train the Network"
      ]
    },
    {
      "metadata": {
        "id": "4klsWEQ2x1LF",
        "colab_type": "code",
        "outputId": "7da6fe8f-304c-405b-a85b-e4689ffe8a6b",
        "colab": {
          "base_uri": "https://localhost:8080/",
          "height": 228
        }
      },
      "cell_type": "code",
      "source": [
        "network.fit(train_images, train_labels, epochs=5, batch_size=128)"
      ],
      "execution_count": 85,
      "outputs": [
        {
          "output_type": "stream",
          "text": [
            "Epoch 1/5\n",
            "60000/60000 [==============================] - 2s 38us/step - loss: 0.2582 - acc: 0.9250\n",
            "Epoch 2/5\n",
            "60000/60000 [==============================] - 2s 34us/step - loss: 0.1033 - acc: 0.9691\n",
            "Epoch 3/5\n",
            "60000/60000 [==============================] - 2s 34us/step - loss: 0.0680 - acc: 0.9802\n",
            "Epoch 4/5\n",
            "60000/60000 [==============================] - 2s 35us/step - loss: 0.0495 - acc: 0.9850\n",
            "Epoch 5/5\n",
            "60000/60000 [==============================] - 2s 35us/step - loss: 0.0381 - acc: 0.9887\n"
          ],
          "name": "stdout"
        },
        {
          "output_type": "execute_result",
          "data": {
            "text/plain": [
              "<keras.callbacks.History at 0x7eff339dec18>"
            ]
          },
          "metadata": {
            "tags": []
          },
          "execution_count": 85
        }
      ]
    },
    {
      "metadata": {
        "id": "Z6gS5TOtx1LI",
        "colab_type": "text"
      },
      "cell_type": "markdown",
      "source": [
        "#### Evaluate the Test Data"
      ]
    },
    {
      "metadata": {
        "id": "jLJrj-ewx1LJ",
        "colab_type": "code",
        "outputId": "954dc902-2908-4541-c012-7d1f428847bd",
        "colab": {
          "base_uri": "https://localhost:8080/",
          "height": 52
        }
      },
      "cell_type": "code",
      "source": [
        "test_loss, test_acc = network.evaluate(test_images, test_labels)\n",
        "print('test_acc:', test_acc)"
      ],
      "execution_count": 76,
      "outputs": [
        {
          "output_type": "stream",
          "text": [
            "10000/10000 [==============================] - 1s 54us/step\n",
            "test_acc: 0.9796\n"
          ],
          "name": "stdout"
        }
      ]
    },
    {
      "metadata": {
        "id": "7Q5U_O8lx1LR",
        "colab_type": "text"
      },
      "cell_type": "markdown",
      "source": [
        "## Problem 1:\n",
        "\n",
        "a. Modify the example model above to contain 3 hidden layers of 512 neurons each.  \n"
      ]
    },
    {
      "metadata": {
        "id": "pvmdb5siMLNH",
        "colab_type": "code",
        "colab": {}
      },
      "cell_type": "code",
      "source": [
        "network = models.Sequential()\n",
        "network.add(layers.Dense(512, activation='relu', input_shape=(28 * 28,)))\n",
        "network.add(layers.Dense(512, activation='relu', input_shape=(28 * 28,)))\n",
        "network.add(layers.Dense(512, activation='relu', input_shape=(28 * 28,)))\n",
        "network.add(layers.Dense(10, activation='softmax'))\n",
        "\n",
        "network.compile(optimizer='rmsprop',\n",
        "                loss='categorical_crossentropy',\n",
        "                metrics=['accuracy'])"
      ],
      "execution_count": 0,
      "outputs": []
    },
    {
      "metadata": {
        "id": "33QBnfl6L2T1",
        "colab_type": "text"
      },
      "cell_type": "markdown",
      "source": [
        "b. Specify the time elapsed to train the new model with 5 epochs."
      ]
    },
    {
      "metadata": {
        "id": "dFBc5ssGML6v",
        "colab_type": "code",
        "colab": {
          "base_uri": "https://localhost:8080/",
          "height": 228
        },
        "outputId": "720656f1-3db8-4a1d-b56e-ca5d3dddbb3f"
      },
      "cell_type": "code",
      "source": [
        "import time as t\n",
        "now=t.time()\n",
        "network.fit(train_images, train_labels, epochs=5, batch_size=128)\n",
        "elapsed = t.time()-now\n",
        "elapsed"
      ],
      "execution_count": 99,
      "outputs": [
        {
          "output_type": "stream",
          "text": [
            "Epoch 1/5\n",
            "60000/60000 [==============================] - 3s 49us/step - loss: 0.0819 - acc: 0.9744\n",
            "Epoch 2/5\n",
            "60000/60000 [==============================] - 3s 49us/step - loss: 0.0683 - acc: 0.9791\n",
            "Epoch 3/5\n",
            "60000/60000 [==============================] - 3s 49us/step - loss: 0.0579 - acc: 0.9813\n",
            "Epoch 4/5\n",
            "60000/60000 [==============================] - 3s 49us/step - loss: 0.0496 - acc: 0.9847\n",
            "Epoch 5/5\n",
            "60000/60000 [==============================] - 3s 49us/step - loss: 0.0406 - acc: 0.9872\n"
          ],
          "name": "stdout"
        },
        {
          "output_type": "execute_result",
          "data": {
            "text/plain": [
              "14.727256298065186"
            ]
          },
          "metadata": {
            "tags": []
          },
          "execution_count": 99
        }
      ]
    },
    {
      "metadata": {
        "id": "R8efl-gXL5Ms",
        "colab_type": "text"
      },
      "cell_type": "markdown",
      "source": [
        "c. Specify the accuracy on the test data."
      ]
    },
    {
      "metadata": {
        "id": "VVYD_lCjMMwz",
        "colab_type": "code",
        "colab": {
          "base_uri": "https://localhost:8080/",
          "height": 52
        },
        "outputId": "679fc421-6406-46e8-aa91-80698b18b33f"
      },
      "cell_type": "code",
      "source": [
        "test_loss, test_acc = network.evaluate(test_images, test_labels)\n",
        "print('test_acc:', test_acc)"
      ],
      "execution_count": 92,
      "outputs": [
        {
          "output_type": "stream",
          "text": [
            "10000/10000 [==============================] - 1s 62us/step\n",
            "test_acc: 0.9791\n"
          ],
          "name": "stdout"
        }
      ]
    },
    {
      "metadata": {
        "id": "XKo6FjLZOfXp",
        "colab_type": "text"
      },
      "cell_type": "markdown",
      "source": [
        "d. Specify the number of parameters in the new model."
      ]
    },
    {
      "metadata": {
        "id": "4w2Z6rTUOn4Q",
        "colab_type": "code",
        "colab": {
          "base_uri": "https://localhost:8080/",
          "height": 277
        },
        "outputId": "4f6aeb84-e5d4-47dc-a26b-8f6472b6bbdb"
      },
      "cell_type": "code",
      "source": [
        "network.summary()"
      ],
      "execution_count": 94,
      "outputs": [
        {
          "output_type": "stream",
          "text": [
            "_________________________________________________________________\n",
            "Layer (type)                 Output Shape              Param #   \n",
            "=================================================================\n",
            "dense_21 (Dense)             (None, 512)               401920    \n",
            "_________________________________________________________________\n",
            "dense_22 (Dense)             (None, 512)               262656    \n",
            "_________________________________________________________________\n",
            "dense_23 (Dense)             (None, 512)               262656    \n",
            "_________________________________________________________________\n",
            "dense_24 (Dense)             (None, 10)                5130      \n",
            "=================================================================\n",
            "Total params: 932,362\n",
            "Trainable params: 932,362\n",
            "Non-trainable params: 0\n",
            "_________________________________________________________________\n"
          ],
          "name": "stdout"
        }
      ]
    },
    {
      "metadata": {
        "id": "OCxSH24YO-ie",
        "colab_type": "text"
      },
      "cell_type": "markdown",
      "source": [
        "e. If you rerun the fit command, you will begin from the weights you left off with.  Fit the network further by running 5 more epochs.  Then specify the new test accuracy."
      ]
    },
    {
      "metadata": {
        "id": "35P26-LWO9Zx",
        "colab_type": "code",
        "colab": {
          "base_uri": "https://localhost:8080/",
          "height": 228
        },
        "outputId": "e6c3ddba-f88b-4ace-8715-1602d3060c8b"
      },
      "cell_type": "code",
      "source": [
        "network.fit(train_images, train_labels, epochs=5, batch_size=128)"
      ],
      "execution_count": 95,
      "outputs": [
        {
          "output_type": "stream",
          "text": [
            "Epoch 1/5\n",
            "60000/60000 [==============================] - 3s 49us/step - loss: 0.0344 - acc: 0.9907\n",
            "Epoch 2/5\n",
            "60000/60000 [==============================] - 3s 48us/step - loss: 0.0312 - acc: 0.9920\n",
            "Epoch 3/5\n",
            "60000/60000 [==============================] - 3s 49us/step - loss: 0.0284 - acc: 0.9932\n",
            "Epoch 4/5\n",
            "60000/60000 [==============================] - 3s 49us/step - loss: 0.0275 - acc: 0.9934\n",
            "Epoch 5/5\n",
            "60000/60000 [==============================] - 3s 48us/step - loss: 0.0260 - acc: 0.9941\n"
          ],
          "name": "stdout"
        },
        {
          "output_type": "execute_result",
          "data": {
            "text/plain": [
              "<keras.callbacks.History at 0x7eff336e2c50>"
            ]
          },
          "metadata": {
            "tags": []
          },
          "execution_count": 95
        }
      ]
    },
    {
      "metadata": {
        "id": "yp3k8z99EJEp",
        "colab_type": "code",
        "colab": {
          "base_uri": "https://localhost:8080/",
          "height": 52
        },
        "outputId": "1ed4a11b-34b3-4ae4-8294-c27f9d527ce0"
      },
      "cell_type": "code",
      "source": [
        "test_loss, test_acc = network.evaluate(test_images, test_labels)\n",
        "print('test_acc:', test_acc)"
      ],
      "execution_count": 96,
      "outputs": [
        {
          "output_type": "stream",
          "text": [
            "10000/10000 [==============================] - 1s 54us/step\n",
            "test_acc: 0.9819\n"
          ],
          "name": "stdout"
        }
      ]
    },
    {
      "metadata": {
        "id": "kWBmJ2uIRuSJ",
        "colab_type": "text"
      },
      "cell_type": "markdown",
      "source": [
        "f. How does the training accuracy compare with the test set accuracy?"
      ]
    },
    {
      "metadata": {
        "id": "TSEBWb0aEMpY",
        "colab_type": "text"
      },
      "cell_type": "markdown",
      "source": [
        ""
      ]
    },
    {
      "metadata": {
        "id": "ez3HdUOzQ9Mb",
        "colab_type": "text"
      },
      "cell_type": "markdown",
      "source": [
        "## Problem 2:\n",
        "\n",
        "a. Modify the original example problem to use sigmoid nurons in the hidden layer.  How does the accuracy and the (model train) time elapsed compare to the original example?  How do the number of parameters compare?"
      ]
    },
    {
      "metadata": {
        "id": "sFGG4M_0Rs-k",
        "colab_type": "code",
        "colab": {
          "base_uri": "https://localhost:8080/",
          "height": 228
        },
        "outputId": "3519bf44-ff3b-4eb0-b325-c5ce95986aea"
      },
      "cell_type": "code",
      "source": [
        "network = models.Sequential()\n",
        "network.add(layers.Dense(512, activation='sigmoid', input_shape=(28 * 28,)))\n",
        "network.add(layers.Dense(512, activation='sigmoid', input_shape=(28 * 28,)))\n",
        "network.add(layers.Dense(512, activation='sigmoid', input_shape=(28 * 28,)))\n",
        "network.add(layers.Dense(10, activation='softmax'))\n",
        "\n",
        "network.compile(optimizer='rmsprop',\n",
        "                loss='categorical_crossentropy',\n",
        "                metrics=['accuracy'])\n",
        "\n",
        "import time as t\n",
        "now=t.time()\n",
        "network.fit(train_images, train_labels, epochs=5, batch_size=128)\n",
        "elapsed = t.time()-now\n",
        "print(elapsed)\n",
        "\n",
        "test_loss, test_acc = network.evaluate(test_images, test_labels)\n",
        "print('test_acc:', test_acc)\n",
        "network.summary()\n",
        "\n"
      ],
      "execution_count": 103,
      "outputs": [
        {
          "output_type": "stream",
          "text": [
            "Epoch 1/5\n",
            "60000/60000 [==============================] - 3s 54us/step - loss: 0.6028 - acc: 0.8034\n",
            "Epoch 2/5\n",
            "60000/60000 [==============================] - 3s 49us/step - loss: 0.2298 - acc: 0.9289\n",
            "Epoch 3/5\n",
            "60000/60000 [==============================] - 3s 49us/step - loss: 0.1621 - acc: 0.9502\n",
            "Epoch 4/5\n",
            "60000/60000 [==============================] - 3s 49us/step - loss: 0.1233 - acc: 0.9622\n",
            "Epoch 5/5\n",
            "60000/60000 [==============================] - 3s 50us/step - loss: 0.0988 - acc: 0.9693\n"
          ],
          "name": "stdout"
        },
        {
          "output_type": "execute_result",
          "data": {
            "text/plain": [
              "15.42881727218628"
            ]
          },
          "metadata": {
            "tags": []
          },
          "execution_count": 103
        }
      ]
    },
    {
      "metadata": {
        "id": "gAbVeJKhVhSp",
        "colab_type": "text"
      },
      "cell_type": "markdown",
      "source": [
        "b. Modify the original example problem to use elu nurons in the hidden layer.  How does the accuracy and the (model train) time elapsed compare to the original example?  How do the number of parameters compare?"
      ]
    },
    {
      "metadata": {
        "id": "-htXcWVlXKUl",
        "colab_type": "code",
        "colab": {
          "base_uri": "https://localhost:8080/",
          "height": 523
        },
        "outputId": "0948a0e0-b710-4f34-a516-a1079118ecf8"
      },
      "cell_type": "code",
      "source": [
        "network = models.Sequential()\n",
        "network.add(layers.Dense(512, activation='elu', input_shape=(28 * 28,)))\n",
        "network.add(layers.Dense(512, activation='elu', input_shape=(28 * 28,)))\n",
        "network.add(layers.Dense(512, activation='elu', input_shape=(28 * 28,)))\n",
        "network.add(layers.Dense(10, activation='softmax'))\n",
        "\n",
        "network.compile(optimizer='rmsprop',\n",
        "                loss='categorical_crossentropy',\n",
        "                metrics=['accuracy'])\n",
        "\n",
        "import time as t\n",
        "now=t.time()\n",
        "network.fit(train_images, train_labels, epochs=5, batch_size=128)\n",
        "elapsed = t.time()-now\n",
        "print(elapsed)\n",
        "\n",
        "test_loss, test_acc = network.evaluate(test_images, test_labels)\n",
        "print('test_acc:', test_acc)\n",
        "network.summary()\n"
      ],
      "execution_count": 104,
      "outputs": [
        {
          "output_type": "stream",
          "text": [
            "Epoch 1/5\n",
            "60000/60000 [==============================] - 3s 57us/step - loss: 0.3382 - acc: 0.8958\n",
            "Epoch 2/5\n",
            "60000/60000 [==============================] - 3s 49us/step - loss: 0.1430 - acc: 0.9570\n",
            "Epoch 3/5\n",
            "60000/60000 [==============================] - 3s 49us/step - loss: 0.1026 - acc: 0.9689\n",
            "Epoch 4/5\n",
            "60000/60000 [==============================] - 3s 49us/step - loss: 0.0820 - acc: 0.9753\n",
            "Epoch 5/5\n",
            "60000/60000 [==============================] - 3s 49us/step - loss: 0.0676 - acc: 0.9802\n",
            "15.46489953994751\n",
            "10000/10000 [==============================] - 1s 68us/step\n",
            "test_acc: 0.9709\n",
            "_________________________________________________________________\n",
            "Layer (type)                 Output Shape              Param #   \n",
            "=================================================================\n",
            "dense_37 (Dense)             (None, 512)               401920    \n",
            "_________________________________________________________________\n",
            "dense_38 (Dense)             (None, 512)               262656    \n",
            "_________________________________________________________________\n",
            "dense_39 (Dense)             (None, 512)               262656    \n",
            "_________________________________________________________________\n",
            "dense_40 (Dense)             (None, 10)                5130      \n",
            "=================================================================\n",
            "Total params: 932,362\n",
            "Trainable params: 932,362\n",
            "Non-trainable params: 0\n",
            "_________________________________________________________________\n"
          ],
          "name": "stdout"
        }
      ]
    },
    {
      "metadata": {
        "id": "lG9YwZy5X-Pz",
        "colab_type": "text"
      },
      "cell_type": "markdown",
      "source": [
        "c. Modify the original example problem to use the adam optimizer.  How does the accuracy and the (model train) time elapsed compare to the original example?  How do the number of parameters compare?"
      ]
    },
    {
      "metadata": {
        "id": "EnKcWA5fQ6dm",
        "colab_type": "code",
        "colab": {
          "base_uri": "https://localhost:8080/",
          "height": 523
        },
        "outputId": "cdf409fc-14f4-4920-e63b-27b13ac02ce6"
      },
      "cell_type": "code",
      "source": [
        "network = models.Sequential()\n",
        "network.add(layers.Dense(512, activation='elu', input_shape=(28 * 28,)))\n",
        "network.add(layers.Dense(512, activation='elu', input_shape=(28 * 28,)))\n",
        "network.add(layers.Dense(512, activation='elu', input_shape=(28 * 28,)))\n",
        "network.add(layers.Dense(10, activation='softmax'))\n",
        "\n",
        "network.compile(optimizer='adam',\n",
        "                loss='categorical_crossentropy',\n",
        "                metrics=['accuracy'])\n",
        "\n",
        "import time as t\n",
        "now=t.time()\n",
        "network.fit(train_images, train_labels, epochs=5, batch_size=128)\n",
        "elapsed = t.time()-now\n",
        "print(elapsed)\n",
        "\n",
        "test_loss, test_acc = network.evaluate(test_images, test_labels)\n",
        "print('test_acc:', test_acc)\n",
        "network.summary()"
      ],
      "execution_count": 105,
      "outputs": [
        {
          "output_type": "stream",
          "text": [
            "Epoch 1/5\n",
            "60000/60000 [==============================] - 4s 63us/step - loss: 0.2680 - acc: 0.9196\n",
            "Epoch 2/5\n",
            "60000/60000 [==============================] - 3s 54us/step - loss: 0.1249 - acc: 0.9606\n",
            "Epoch 3/5\n",
            "60000/60000 [==============================] - 3s 54us/step - loss: 0.0899 - acc: 0.9711\n",
            "Epoch 4/5\n",
            "60000/60000 [==============================] - 3s 54us/step - loss: 0.0739 - acc: 0.9767\n",
            "Epoch 5/5\n",
            "60000/60000 [==============================] - 3s 54us/step - loss: 0.0682 - acc: 0.9785\n",
            "17.354662656784058\n",
            "10000/10000 [==============================] - 1s 75us/step\n",
            "test_acc: 0.9751\n",
            "_________________________________________________________________\n",
            "Layer (type)                 Output Shape              Param #   \n",
            "=================================================================\n",
            "dense_41 (Dense)             (None, 512)               401920    \n",
            "_________________________________________________________________\n",
            "dense_42 (Dense)             (None, 512)               262656    \n",
            "_________________________________________________________________\n",
            "dense_43 (Dense)             (None, 512)               262656    \n",
            "_________________________________________________________________\n",
            "dense_44 (Dense)             (None, 10)                5130      \n",
            "=================================================================\n",
            "Total params: 932,362\n",
            "Trainable params: 932,362\n",
            "Non-trainable params: 0\n",
            "_________________________________________________________________\n"
          ],
          "name": "stdout"
        }
      ]
    },
    {
      "metadata": {
        "id": "OoTyboDEaXEj",
        "colab_type": "text"
      },
      "cell_type": "markdown",
      "source": [
        "d. Modify the original example problem to include a second hidden layer with 300 relu neurons, a third hidden layer with 200 neurons and a fourth hidden layer with 100 neurons.  How does the accuracy and the (model train) time elapsed compare to the original example?  How do the number of parameters compare?"
      ]
    },
    {
      "metadata": {
        "id": "zA5jbM_oaVkb",
        "colab_type": "code",
        "colab": {}
      },
      "cell_type": "code",
      "source": [
        "network = models.Sequential()\n",
        "network.add(layers.Dense(512, activation='elu', input_shape=(28 * 28,)))\n",
        "network.add(layers.Dense(300, activation='relu', input_shape=(28 * 28,)))\n",
        "network.add(layers.Dense(200, activation='relu', input_shape=(28 * 28,)))\n",
        "network.add(layers.Dense(100, activation='relu', input_shape=(28 * 28,)))\n",
        "network.add(layers.Dense(10, activation='softmax'))\n",
        "\n",
        "network.compile(optimizer='rmsprop',\n",
        "                loss='categorical_crossentropy',\n",
        "                metrics=['accuracy'])\n",
        "\n",
        "import time as t\n",
        "now=t.time()\n",
        "network.fit(train_images, train_labels, epochs=5, batch_size=128)\n",
        "elapsed = t.time()-now\n",
        "print(elapsed)\n",
        "\n",
        "test_loss, test_acc = network.evaluate(test_images, test_labels)\n",
        "print('test_acc:', test_acc)\n",
        "network.summary()"
      ],
      "execution_count": 0,
      "outputs": []
    },
    {
      "metadata": {
        "id": "M0s13ozzEjws",
        "colab_type": "text"
      },
      "cell_type": "markdown",
      "source": [
        "## Problem 3:\n",
        "\n",
        "Now create your own neural network based upon the concepts you learned.  Achieve a higher accuracy than 98% on the test set."
      ]
    },
    {
      "metadata": {
        "id": "vsEjtvKJFDIf",
        "colab_type": "code",
        "colab": {}
      },
      "cell_type": "code",
      "source": [
        ""
      ],
      "execution_count": 0,
      "outputs": []
    },
    {
      "metadata": {
        "id": "dFr3WGh_FBdn",
        "colab_type": "text"
      },
      "cell_type": "markdown",
      "source": [
        "## Problem 4:\n",
        "\n",
        "Last year as part of the final exam in Machine Learning I hosted a Kaggle competition on the Plankton challenge: https://www.kaggle.com/t/830c8dd97ae748f8bd3fd52e8ccca849\n",
        "\n",
        "a. **Using only the first 1600 features**, use the keras methods and models that have been used thus far make a submission to the competition.  Report your accuracy (your score will not show on the leaderboard since this competition is closed)."
      ]
    },
    {
      "metadata": {
        "id": "3IxHmKURG_Kf",
        "colab_type": "code",
        "colab": {}
      },
      "cell_type": "code",
      "source": [
        ""
      ],
      "execution_count": 0,
      "outputs": []
    },
    {
      "metadata": {
        "id": "yHTgCRv8G_ov",
        "colab_type": "text"
      },
      "cell_type": "markdown",
      "source": [
        "b. Try another method that you think would be interesting (you can do whatever model/features you want for this problem but it must be different than the previous problem).  "
      ]
    },
    {
      "metadata": {
        "id": "mqyYHqc5G_9G",
        "colab_type": "code",
        "colab": {}
      },
      "cell_type": "code",
      "source": [
        ""
      ],
      "execution_count": 0,
      "outputs": []
    },
    {
      "metadata": {
        "id": "eCtVogc1HqLr",
        "colab_type": "text"
      },
      "cell_type": "markdown",
      "source": [
        "## Problem 5:\n",
        "\n",
        "For this problem we will be working with model churn data. Import the libraries and load in the model churn data by running the next 2 following code chunks."
      ]
    },
    {
      "metadata": {
        "id": "rKDZBiAsJLuu",
        "colab_type": "code",
        "colab": {}
      },
      "cell_type": "code",
      "source": [
        "# Importing the libraries\n",
        "import numpy as np\n",
        "import matplotlib.pyplot as plt\n",
        "import pandas as pd"
      ],
      "execution_count": 0,
      "outputs": []
    },
    {
      "metadata": {
        "id": "8TaZhjLaJNL4",
        "colab_type": "code",
        "outputId": "9676566b-a52c-49dd-c5c1-32d7910bdabb",
        "colab": {
          "base_uri": "https://localhost:8080/",
          "height": 124
        }
      },
      "cell_type": "code",
      "source": [
        "import pandas as pd\n",
        "import io\n",
        "\n",
        "from google.colab import drive\n",
        "drive.mount('/content/gdrive')\n",
        "\n",
        "dataset = pd.read_csv('/content/gdrive/My Drive/Colab Notebooks/Churn_Modelling.csv', sep=',', decimal='.')"
      ],
      "execution_count": 9,
      "outputs": [
        {
          "output_type": "stream",
          "text": [
            "Go to this URL in a browser: https://accounts.google.com/o/oauth2/auth?client_id=947318989803-6bn6qk8qdgf4n4g3pfee6491hc0brc4i.apps.googleusercontent.com&redirect_uri=urn%3Aietf%3Awg%3Aoauth%3A2.0%3Aoob&scope=email%20https%3A%2F%2Fwww.googleapis.com%2Fauth%2Fdocs.test%20https%3A%2F%2Fwww.googleapis.com%2Fauth%2Fdrive%20https%3A%2F%2Fwww.googleapis.com%2Fauth%2Fdrive.photos.readonly%20https%3A%2F%2Fwww.googleapis.com%2Fauth%2Fpeopleapi.readonly&response_type=code\n",
            "\n",
            "Enter your authorization code:\n",
            "··········\n",
            "Mounted at /content/gdrive\n"
          ],
          "name": "stdout"
        }
      ]
    },
    {
      "metadata": {
        "id": "fTinD7N_JZdH",
        "colab_type": "text"
      },
      "cell_type": "markdown",
      "source": [
        "a. Show the first 10 observations of the original data set (dataset)."
      ]
    },
    {
      "metadata": {
        "id": "PKlVqTmpJaIL",
        "colab_type": "code",
        "colab": {
          "base_uri": "https://localhost:8080/",
          "height": 375
        },
        "outputId": "6d894988-991c-4700-9fe0-f942a9d3266c"
      },
      "cell_type": "code",
      "source": [
        "dataset.iloc[0:10,:]"
      ],
      "execution_count": 10,
      "outputs": [
        {
          "output_type": "execute_result",
          "data": {
            "text/html": [
              "<div>\n",
              "<style scoped>\n",
              "    .dataframe tbody tr th:only-of-type {\n",
              "        vertical-align: middle;\n",
              "    }\n",
              "\n",
              "    .dataframe tbody tr th {\n",
              "        vertical-align: top;\n",
              "    }\n",
              "\n",
              "    .dataframe thead th {\n",
              "        text-align: right;\n",
              "    }\n",
              "</style>\n",
              "<table border=\"1\" class=\"dataframe\">\n",
              "  <thead>\n",
              "    <tr style=\"text-align: right;\">\n",
              "      <th></th>\n",
              "      <th>RowNumber</th>\n",
              "      <th>CustomerId</th>\n",
              "      <th>Surname</th>\n",
              "      <th>CreditScore</th>\n",
              "      <th>Geography</th>\n",
              "      <th>Gender</th>\n",
              "      <th>Age</th>\n",
              "      <th>Tenure</th>\n",
              "      <th>Balance</th>\n",
              "      <th>NumOfProducts</th>\n",
              "      <th>HasCrCard</th>\n",
              "      <th>IsActiveMember</th>\n",
              "      <th>EstimatedSalary</th>\n",
              "      <th>Exited</th>\n",
              "    </tr>\n",
              "  </thead>\n",
              "  <tbody>\n",
              "    <tr>\n",
              "      <th>0</th>\n",
              "      <td>1</td>\n",
              "      <td>15634602</td>\n",
              "      <td>Hargrave</td>\n",
              "      <td>619</td>\n",
              "      <td>France</td>\n",
              "      <td>Female</td>\n",
              "      <td>42</td>\n",
              "      <td>2</td>\n",
              "      <td>0.00</td>\n",
              "      <td>1</td>\n",
              "      <td>1</td>\n",
              "      <td>1</td>\n",
              "      <td>101348.88</td>\n",
              "      <td>1</td>\n",
              "    </tr>\n",
              "    <tr>\n",
              "      <th>1</th>\n",
              "      <td>2</td>\n",
              "      <td>15647311</td>\n",
              "      <td>Hill</td>\n",
              "      <td>608</td>\n",
              "      <td>Spain</td>\n",
              "      <td>Female</td>\n",
              "      <td>41</td>\n",
              "      <td>1</td>\n",
              "      <td>83807.86</td>\n",
              "      <td>1</td>\n",
              "      <td>0</td>\n",
              "      <td>1</td>\n",
              "      <td>112542.58</td>\n",
              "      <td>0</td>\n",
              "    </tr>\n",
              "    <tr>\n",
              "      <th>2</th>\n",
              "      <td>3</td>\n",
              "      <td>15619304</td>\n",
              "      <td>Onio</td>\n",
              "      <td>502</td>\n",
              "      <td>France</td>\n",
              "      <td>Female</td>\n",
              "      <td>42</td>\n",
              "      <td>8</td>\n",
              "      <td>159660.80</td>\n",
              "      <td>3</td>\n",
              "      <td>1</td>\n",
              "      <td>0</td>\n",
              "      <td>113931.57</td>\n",
              "      <td>1</td>\n",
              "    </tr>\n",
              "    <tr>\n",
              "      <th>3</th>\n",
              "      <td>4</td>\n",
              "      <td>15701354</td>\n",
              "      <td>Boni</td>\n",
              "      <td>699</td>\n",
              "      <td>France</td>\n",
              "      <td>Female</td>\n",
              "      <td>39</td>\n",
              "      <td>1</td>\n",
              "      <td>0.00</td>\n",
              "      <td>2</td>\n",
              "      <td>0</td>\n",
              "      <td>0</td>\n",
              "      <td>93826.63</td>\n",
              "      <td>0</td>\n",
              "    </tr>\n",
              "    <tr>\n",
              "      <th>4</th>\n",
              "      <td>5</td>\n",
              "      <td>15737888</td>\n",
              "      <td>Mitchell</td>\n",
              "      <td>850</td>\n",
              "      <td>Spain</td>\n",
              "      <td>Female</td>\n",
              "      <td>43</td>\n",
              "      <td>2</td>\n",
              "      <td>125510.82</td>\n",
              "      <td>1</td>\n",
              "      <td>1</td>\n",
              "      <td>1</td>\n",
              "      <td>79084.10</td>\n",
              "      <td>0</td>\n",
              "    </tr>\n",
              "    <tr>\n",
              "      <th>5</th>\n",
              "      <td>6</td>\n",
              "      <td>15574012</td>\n",
              "      <td>Chu</td>\n",
              "      <td>645</td>\n",
              "      <td>Spain</td>\n",
              "      <td>Male</td>\n",
              "      <td>44</td>\n",
              "      <td>8</td>\n",
              "      <td>113755.78</td>\n",
              "      <td>2</td>\n",
              "      <td>1</td>\n",
              "      <td>0</td>\n",
              "      <td>149756.71</td>\n",
              "      <td>1</td>\n",
              "    </tr>\n",
              "    <tr>\n",
              "      <th>6</th>\n",
              "      <td>7</td>\n",
              "      <td>15592531</td>\n",
              "      <td>Bartlett</td>\n",
              "      <td>822</td>\n",
              "      <td>France</td>\n",
              "      <td>Male</td>\n",
              "      <td>50</td>\n",
              "      <td>7</td>\n",
              "      <td>0.00</td>\n",
              "      <td>2</td>\n",
              "      <td>1</td>\n",
              "      <td>1</td>\n",
              "      <td>10062.80</td>\n",
              "      <td>0</td>\n",
              "    </tr>\n",
              "    <tr>\n",
              "      <th>7</th>\n",
              "      <td>8</td>\n",
              "      <td>15656148</td>\n",
              "      <td>Obinna</td>\n",
              "      <td>376</td>\n",
              "      <td>Germany</td>\n",
              "      <td>Female</td>\n",
              "      <td>29</td>\n",
              "      <td>4</td>\n",
              "      <td>115046.74</td>\n",
              "      <td>4</td>\n",
              "      <td>1</td>\n",
              "      <td>0</td>\n",
              "      <td>119346.88</td>\n",
              "      <td>1</td>\n",
              "    </tr>\n",
              "    <tr>\n",
              "      <th>8</th>\n",
              "      <td>9</td>\n",
              "      <td>15792365</td>\n",
              "      <td>He</td>\n",
              "      <td>501</td>\n",
              "      <td>France</td>\n",
              "      <td>Male</td>\n",
              "      <td>44</td>\n",
              "      <td>4</td>\n",
              "      <td>142051.07</td>\n",
              "      <td>2</td>\n",
              "      <td>0</td>\n",
              "      <td>1</td>\n",
              "      <td>74940.50</td>\n",
              "      <td>0</td>\n",
              "    </tr>\n",
              "    <tr>\n",
              "      <th>9</th>\n",
              "      <td>10</td>\n",
              "      <td>15592389</td>\n",
              "      <td>H?</td>\n",
              "      <td>684</td>\n",
              "      <td>France</td>\n",
              "      <td>Male</td>\n",
              "      <td>27</td>\n",
              "      <td>2</td>\n",
              "      <td>134603.88</td>\n",
              "      <td>1</td>\n",
              "      <td>1</td>\n",
              "      <td>1</td>\n",
              "      <td>71725.73</td>\n",
              "      <td>0</td>\n",
              "    </tr>\n",
              "  </tbody>\n",
              "</table>\n",
              "</div>"
            ],
            "text/plain": [
              "   RowNumber  CustomerId   Surname  CreditScore Geography  Gender  Age  \\\n",
              "0          1    15634602  Hargrave          619    France  Female   42   \n",
              "1          2    15647311      Hill          608     Spain  Female   41   \n",
              "2          3    15619304      Onio          502    France  Female   42   \n",
              "3          4    15701354      Boni          699    France  Female   39   \n",
              "4          5    15737888  Mitchell          850     Spain  Female   43   \n",
              "5          6    15574012       Chu          645     Spain    Male   44   \n",
              "6          7    15592531  Bartlett          822    France    Male   50   \n",
              "7          8    15656148    Obinna          376   Germany  Female   29   \n",
              "8          9    15792365        He          501    France    Male   44   \n",
              "9         10    15592389        H?          684    France    Male   27   \n",
              "\n",
              "   Tenure    Balance  NumOfProducts  HasCrCard  IsActiveMember  \\\n",
              "0       2       0.00              1          1               1   \n",
              "1       1   83807.86              1          0               1   \n",
              "2       8  159660.80              3          1               0   \n",
              "3       1       0.00              2          0               0   \n",
              "4       2  125510.82              1          1               1   \n",
              "5       8  113755.78              2          1               0   \n",
              "6       7       0.00              2          1               1   \n",
              "7       4  115046.74              4          1               0   \n",
              "8       4  142051.07              2          0               1   \n",
              "9       2  134603.88              1          1               1   \n",
              "\n",
              "   EstimatedSalary  Exited  \n",
              "0        101348.88       1  \n",
              "1        112542.58       0  \n",
              "2        113931.57       1  \n",
              "3         93826.63       0  \n",
              "4         79084.10       0  \n",
              "5        149756.71       1  \n",
              "6         10062.80       0  \n",
              "7        119346.88       1  \n",
              "8         74940.50       0  \n",
              "9         71725.73       0  "
            ]
          },
          "metadata": {
            "tags": []
          },
          "execution_count": 10
        }
      ]
    },
    {
      "metadata": {
        "id": "-RWcitDMJpj7",
        "colab_type": "text"
      },
      "cell_type": "markdown",
      "source": [
        "b. Which 3 columns should not be used as features? Create the appropriate X matrix (including categorical variables) and the y vector as the last column."
      ]
    },
    {
      "metadata": {
        "id": "D3XCnTl5Jv36",
        "colab_type": "code",
        "colab": {}
      },
      "cell_type": "code",
      "source": [
        "#RowNumber CustomerId Surname\n",
        "X = dataset.iloc[:,3:13].values\n",
        "y = dataset.iloc[:,13].values"
      ],
      "execution_count": 0,
      "outputs": []
    },
    {
      "metadata": {
        "id": "46RhZ1LrJ6zW",
        "colab_type": "text"
      },
      "cell_type": "markdown",
      "source": [
        "c. Print out the first 10 observations (and the first 6 columns) of the X matrix and comment on the number of observations and number of columns."
      ]
    },
    {
      "metadata": {
        "id": "zxdY35P2KAu4",
        "colab_type": "code",
        "colab": {
          "base_uri": "https://localhost:8080/",
          "height": 208
        },
        "outputId": "8ffdc3de-41e3-449e-fcfb-c4e2307169d3"
      },
      "cell_type": "code",
      "source": [
        "print(X[:10,0:6])\n",
        "print(X.shape)"
      ],
      "execution_count": 46,
      "outputs": [
        {
          "output_type": "stream",
          "text": [
            "[[619 'France' 'Female' 42 2 0.0]\n",
            " [608 'Spain' 'Female' 41 1 83807.86]\n",
            " [502 'France' 'Female' 42 8 159660.8]\n",
            " [699 'France' 'Female' 39 1 0.0]\n",
            " [850 'Spain' 'Female' 43 2 125510.82]\n",
            " [645 'Spain' 'Male' 44 8 113755.78]\n",
            " [822 'France' 'Male' 50 7 0.0]\n",
            " [376 'Germany' 'Female' 29 4 115046.74]\n",
            " [501 'France' 'Male' 44 4 142051.07]\n",
            " [684 'France' 'Male' 27 2 134603.88]]\n",
            "(10000, 10)\n"
          ],
          "name": "stdout"
        }
      ]
    },
    {
      "metadata": {
        "id": "o2ym-QH1KJe5",
        "colab_type": "text"
      },
      "cell_type": "markdown",
      "source": [
        "d. After running the following code in the next code chunk, print out the first 10 observations (and the first 6 columns).  Also, print out the shape of the X matrix."
      ]
    },
    {
      "metadata": {
        "id": "44CGJ5HkKISx",
        "colab_type": "code",
        "colab": {}
      },
      "cell_type": "code",
      "source": [
        "from sklearn.preprocessing import LabelEncoder, OneHotEncoder\n",
        "labelEncoderX1=LabelEncoder()\n",
        "X[:,1]=labelEncoderX1.fit_transform(X[:,1])\n",
        "\n",
        "labelEncoderX1=LabelEncoder()\n",
        "X[:,2]=labelEncoderX1.fit_transform(X[:,2])"
      ],
      "execution_count": 0,
      "outputs": []
    },
    {
      "metadata": {
        "id": "G5Mvj4RoKWoi",
        "colab_type": "code",
        "colab": {
          "base_uri": "https://localhost:8080/",
          "height": 208
        },
        "outputId": "c5d14177-36b5-4a04-a06b-a4c7d0e888c2"
      },
      "cell_type": "code",
      "source": [
        "print(X[:10,0:6])\n",
        "print(X.shape)"
      ],
      "execution_count": 48,
      "outputs": [
        {
          "output_type": "stream",
          "text": [
            "[[619 0 0 42 2 0.0]\n",
            " [608 2 0 41 1 83807.86]\n",
            " [502 0 0 42 8 159660.8]\n",
            " [699 0 0 39 1 0.0]\n",
            " [850 2 0 43 2 125510.82]\n",
            " [645 2 1 44 8 113755.78]\n",
            " [822 0 1 50 7 0.0]\n",
            " [376 1 0 29 4 115046.74]\n",
            " [501 0 1 44 4 142051.07]\n",
            " [684 0 1 27 2 134603.88]]\n",
            "(10000, 10)\n"
          ],
          "name": "stdout"
        }
      ]
    },
    {
      "metadata": {
        "id": "DS_UNcDcKbTk",
        "colab_type": "text"
      },
      "cell_type": "markdown",
      "source": [
        "e. How do the X matrices from c and d compare? What does the one in column 2 denote?"
      ]
    },
    {
      "metadata": {
        "id": "DGDsF37YKg7b",
        "colab_type": "text"
      },
      "cell_type": "markdown",
      "source": [
        ""
      ]
    },
    {
      "metadata": {
        "id": "CU1zmX3cKmwP",
        "colab_type": "text"
      },
      "cell_type": "markdown",
      "source": [
        "f. Run the following code and again print out the first 10 observations and 6 columns. Also print the shape of the X matrix."
      ]
    },
    {
      "metadata": {
        "id": "Nm-bETVZKfEa",
        "colab_type": "code",
        "colab": {
          "base_uri": "https://localhost:8080/",
          "height": 141
        },
        "outputId": "98bf158e-8dcd-4844-8a3c-f55199bc50ec"
      },
      "cell_type": "code",
      "source": [
        "onehotencoder = OneHotEncoder(categorical_features = [1])\n",
        "X = onehotencoder.fit_transform(X).toarray()"
      ],
      "execution_count": 49,
      "outputs": [
        {
          "output_type": "stream",
          "text": [
            "/usr/local/lib/python3.6/dist-packages/sklearn/preprocessing/_encoders.py:368: FutureWarning: The handling of integer data will change in version 0.22. Currently, the categories are determined based on the range [0, max(values)], while in the future they will be determined based on the unique values.\n",
            "If you want the future behaviour and silence this warning, you can specify \"categories='auto'\".\n",
            "In case you used a LabelEncoder before this OneHotEncoder to convert the categories to integers, then you can now use the OneHotEncoder directly.\n",
            "  warnings.warn(msg, FutureWarning)\n",
            "/usr/local/lib/python3.6/dist-packages/sklearn/preprocessing/_encoders.py:390: DeprecationWarning: The 'categorical_features' keyword is deprecated in version 0.20 and will be removed in 0.22. You can use the ColumnTransformer instead.\n",
            "  \"use the ColumnTransformer instead.\", DeprecationWarning)\n"
          ],
          "name": "stderr"
        }
      ]
    },
    {
      "metadata": {
        "id": "t-OBJyZrKw01",
        "colab_type": "code",
        "colab": {
          "base_uri": "https://localhost:8080/",
          "height": 208
        },
        "outputId": "67833269-53f4-43a8-d878-f2cbca7de1a7"
      },
      "cell_type": "code",
      "source": [
        "print(X[:10,0:6])\n",
        "print(X.shape)"
      ],
      "execution_count": 51,
      "outputs": [
        {
          "output_type": "stream",
          "text": [
            "[[  0.   0. 619.   0.  42.   2.]\n",
            " [  0.   1. 608.   0.  41.   1.]\n",
            " [  0.   0. 502.   0.  42.   8.]\n",
            " [  0.   0. 699.   0.  39.   1.]\n",
            " [  0.   1. 850.   0.  43.   2.]\n",
            " [  0.   1. 645.   1.  44.   8.]\n",
            " [  0.   0. 822.   1.  50.   7.]\n",
            " [  1.   0. 376.   0.  29.   4.]\n",
            " [  0.   0. 501.   1.  44.   4.]\n",
            " [  0.   0. 684.   1.  27.   2.]]\n",
            "(10000, 11)\n"
          ],
          "name": "stdout"
        }
      ]
    },
    {
      "metadata": {
        "id": "PxKU-IJ6K1Xx",
        "colab_type": "text"
      },
      "cell_type": "markdown",
      "source": [
        "g. Explain why we should get rid of the first column.  Get rid of the first column in the X matrix.  Print out the first 6 observations after getting rid of the first column."
      ]
    },
    {
      "metadata": {
        "id": "WKdsvkikLWFM",
        "colab_type": "code",
        "colab": {
          "base_uri": "https://localhost:8080/",
          "height": 329
        },
        "outputId": "3c14631d-76f2-4562-d801-38e5ef8bf891"
      },
      "cell_type": "code",
      "source": [
        "X = X[:,1:]\n",
        "print(X[:6,:])"
      ],
      "execution_count": 50,
      "outputs": [
        {
          "output_type": "stream",
          "text": [
            "[[0.0000000e+00 0.0000000e+00 6.1900000e+02 0.0000000e+00 4.2000000e+01\n",
            "  2.0000000e+00 0.0000000e+00 1.0000000e+00 1.0000000e+00 1.0000000e+00\n",
            "  1.0134888e+05]\n",
            " [0.0000000e+00 1.0000000e+00 6.0800000e+02 0.0000000e+00 4.1000000e+01\n",
            "  1.0000000e+00 8.3807860e+04 1.0000000e+00 0.0000000e+00 1.0000000e+00\n",
            "  1.1254258e+05]\n",
            " [0.0000000e+00 0.0000000e+00 5.0200000e+02 0.0000000e+00 4.2000000e+01\n",
            "  8.0000000e+00 1.5966080e+05 3.0000000e+00 1.0000000e+00 0.0000000e+00\n",
            "  1.1393157e+05]\n",
            " [0.0000000e+00 0.0000000e+00 6.9900000e+02 0.0000000e+00 3.9000000e+01\n",
            "  1.0000000e+00 0.0000000e+00 2.0000000e+00 0.0000000e+00 0.0000000e+00\n",
            "  9.3826630e+04]\n",
            " [0.0000000e+00 1.0000000e+00 8.5000000e+02 0.0000000e+00 4.3000000e+01\n",
            "  2.0000000e+00 1.2551082e+05 1.0000000e+00 1.0000000e+00 1.0000000e+00\n",
            "  7.9084100e+04]\n",
            " [0.0000000e+00 1.0000000e+00 6.4500000e+02 1.0000000e+00 4.4000000e+01\n",
            "  8.0000000e+00 1.1375578e+05 2.0000000e+00 1.0000000e+00 0.0000000e+00\n",
            "  1.4975671e+05]]\n"
          ],
          "name": "stdout"
        }
      ]
    },
    {
      "metadata": {
        "id": "ORlqV_ApLebO",
        "colab_type": "text"
      },
      "cell_type": "markdown",
      "source": [
        ""
      ]
    },
    {
      "metadata": {
        "id": "gtjDIYX-L1Mj",
        "colab_type": "text"
      },
      "cell_type": "markdown",
      "source": [
        "h. Perform a train_test_split with test set of 20% of the data."
      ]
    },
    {
      "metadata": {
        "id": "dtZb2ZL1L4zI",
        "colab_type": "code",
        "colab": {}
      },
      "cell_type": "code",
      "source": [
        "from sklearn.model_selection import train_test_split\n",
        "X_train, X_test, y_train, y_test = train_test_split(X, y, test_size = .2, random_state = 0 ) # random_state:setting the seed "
      ],
      "execution_count": 0,
      "outputs": []
    },
    {
      "metadata": {
        "id": "ucEEl_g1MD0C",
        "colab_type": "text"
      },
      "cell_type": "markdown",
      "source": [
        "i. Below is code to scale the features in both the training and testing set using the StandardScaler. What is the difference between fitting the transform (fit_transform) and applying the transform (transform)?"
      ]
    },
    {
      "metadata": {
        "id": "X0m1HxHhMITn",
        "colab_type": "code",
        "colab": {}
      },
      "cell_type": "code",
      "source": [
        "from sklearn.preprocessing import StandardScaler\n",
        "sc = StandardScaler()\n",
        "X_train_sc = sc.fit_transform(X_train)\n",
        "X_test_sc = sc.transform(X_test)"
      ],
      "execution_count": 0,
      "outputs": []
    },
    {
      "metadata": {
        "id": "c5ZtZ9NIMPuP",
        "colab_type": "text"
      },
      "cell_type": "markdown",
      "source": [
        "j. Use keras to train a model and report the test set accuracy."
      ]
    },
    {
      "metadata": {
        "id": "hr4sxOsGMXG7",
        "colab_type": "code",
        "colab": {}
      },
      "cell_type": "code",
      "source": [
        ""
      ],
      "execution_count": 0,
      "outputs": []
    },
    {
      "metadata": {
        "id": "jGQKLtGyRIn2",
        "colab_type": "text"
      },
      "cell_type": "markdown",
      "source": [
        "## Problem 6:\n",
        "\n",
        "For the breast cancer dataset (available at https://archive.ics.uci.edu/ml/datasets/Breast+Cancer+Wisconsin+%28Diagnostic%29) do the following:\n",
        "* Use column 1 as the response variable and all other values (except column 0) as features\n",
        "* Scale the feature variables\n",
        "* Split the data with 75% of the training data in the training set and 25% in the test set\n",
        "* Apply PCA to the training set so that 90% of the variance is retained\n",
        "* Apply neural networks to the training PCA dataset to predict the response variable\n",
        "* Predict the test data set and print out the accuracy"
      ]
    },
    {
      "metadata": {
        "id": "BT4qCgN6RPuw",
        "colab_type": "code",
        "colab": {}
      },
      "cell_type": "code",
      "source": [
        "dataset = pd.read_csv('/content/gdrive/My Drive/Colab Notebooks/breastcancer.csv', sep=',', decimal='.')"
      ],
      "execution_count": 0,
      "outputs": []
    }
  ]
}