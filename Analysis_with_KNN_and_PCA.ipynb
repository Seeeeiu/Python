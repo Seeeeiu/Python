{
  "nbformat": 4,
  "nbformat_minor": 0,
  "metadata": {
    "colab": {
      "name": "Analysis_with_KNN_and_PCA.ipynb",
      "version": "0.3.2",
      "provenance": [],
      "collapsed_sections": [],
      "include_colab_link": true
    },
    "kernelspec": {
      "display_name": "Python 3",
      "language": "python",
      "name": "python3"
    }
  },
  "cells": [
    {
      "cell_type": "markdown",
      "metadata": {
        "id": "view-in-github",
        "colab_type": "text"
      },
      "source": [
        "<a href=\"https://colab.research.google.com/github/Seeeeiu/Python/blob/master/Analysis_with_KNN_and_PCA.ipynb\" target=\"_parent\"><img src=\"https://colab.research.google.com/assets/colab-badge.svg\" alt=\"Open In Colab\"/></a>"
      ]
    },
    {
      "metadata": {
        "id": "t2udwFYuci5I",
        "colab_type": "text"
      },
      "cell_type": "markdown",
      "source": [
        "# LP: MNIST Analysis with KNN and PCA"
      ]
    },
    {
      "metadata": {
        "id": "Ha5PWiQ0ci5K",
        "colab_type": "text"
      },
      "cell_type": "markdown",
      "source": [
        "## A. Looking at the data"
      ]
    },
    {
      "metadata": {
        "id": "6hZm_4cHci5K",
        "colab_type": "text"
      },
      "cell_type": "markdown",
      "source": [
        "The MNIST data can be easily loaded in from sklearn.  There is also a Kaggle competition to test your machine learning skills! "
      ]
    },
    {
      "metadata": {
        "id": "XL9Mt50qci5L",
        "colab_type": "code",
        "outputId": "579d5d40-fd57-4d3b-c673-fd78dc5c0b2a",
        "colab": {
          "base_uri": "https://localhost:8080/",
          "height": 34
        }
      },
      "cell_type": "code",
      "source": [
        "from keras.datasets import mnist\n",
        "\n",
        "(train_images, train_labels), (test_images, test_labels) = mnist.load_data()"
      ],
      "execution_count": 0,
      "outputs": [
        {
          "output_type": "stream",
          "text": [
            "Using TensorFlow backend.\n"
          ],
          "name": "stderr"
        }
      ]
    },
    {
      "metadata": {
        "id": "HlHX-Rm1ci5Q",
        "colab_type": "text"
      },
      "cell_type": "markdown",
      "source": [
        "The components of the data set are available:"
      ]
    },
    {
      "metadata": {
        "id": "7RD-mRGdci5e",
        "colab_type": "text"
      },
      "cell_type": "markdown",
      "source": [
        "The dimensions of the X and y values can be given to us by shape:"
      ]
    },
    {
      "metadata": {
        "id": "_5QVHoOwci5f",
        "colab_type": "code",
        "outputId": "0b256aaf-d91f-4f0d-ac3a-1e9f5a2b17ff",
        "colab": {
          "base_uri": "https://localhost:8080/",
          "height": 34
        }
      },
      "cell_type": "code",
      "source": [
        "train_images.shape"
      ],
      "execution_count": 0,
      "outputs": [
        {
          "output_type": "execute_result",
          "data": {
            "text/plain": [
              "(60000, 28, 28)"
            ]
          },
          "metadata": {
            "tags": []
          },
          "execution_count": 2
        }
      ]
    },
    {
      "metadata": {
        "id": "Wkw-JjHMhJ-d",
        "colab_type": "code",
        "outputId": "b096ad43-4e65-4150-e6ab-92da5963dbdf",
        "colab": {
          "base_uri": "https://localhost:8080/",
          "height": 1445
        }
      },
      "cell_type": "code",
      "source": [
        "train_images[2,:,:]"
      ],
      "execution_count": 0,
      "outputs": [
        {
          "output_type": "execute_result",
          "data": {
            "text/plain": [
              "array([[  0,   0,   0,   0,   0,   0,   0,   0,   0,   0,   0,   0,   0,\n",
              "          0,   0,   0,   0,   0,   0,   0,   0,   0,   0,   0,   0,   0,\n",
              "          0,   0],\n",
              "       [  0,   0,   0,   0,   0,   0,   0,   0,   0,   0,   0,   0,   0,\n",
              "          0,   0,   0,   0,   0,   0,   0,   0,   0,   0,   0,   0,   0,\n",
              "          0,   0],\n",
              "       [  0,   0,   0,   0,   0,   0,   0,   0,   0,   0,   0,   0,   0,\n",
              "          0,   0,   0,   0,   0,   0,   0,   0,   0,   0,   0,   0,   0,\n",
              "          0,   0],\n",
              "       [  0,   0,   0,   0,   0,   0,   0,   0,   0,   0,   0,   0,   0,\n",
              "          0,   0,   0,   0,   0,   0,   0,   0,   0,   0,   0,   0,   0,\n",
              "          0,   0],\n",
              "       [  0,   0,   0,   0,   0,   0,   0,   0,   0,   0,   0,   0,   0,\n",
              "          0,   0,   0,   0,   0,   0,   0,   0,   0,   0,   0,   0,   0,\n",
              "          0,   0],\n",
              "       [  0,   0,   0,   0,   0,   0,   0,   0,   0,   0,   0,   0,   0,\n",
              "          0,   0,   0,   0,   0,   0,   0,  67, 232,  39,   0,   0,   0,\n",
              "          0,   0],\n",
              "       [  0,   0,   0,   0,  62,  81,   0,   0,   0,   0,   0,   0,   0,\n",
              "          0,   0,   0,   0,   0,   0,   0, 120, 180,  39,   0,   0,   0,\n",
              "          0,   0],\n",
              "       [  0,   0,   0,   0, 126, 163,   0,   0,   0,   0,   0,   0,   0,\n",
              "          0,   0,   0,   0,   0,   0,   2, 153, 210,  40,   0,   0,   0,\n",
              "          0,   0],\n",
              "       [  0,   0,   0,   0, 220, 163,   0,   0,   0,   0,   0,   0,   0,\n",
              "          0,   0,   0,   0,   0,   0,  27, 254, 162,   0,   0,   0,   0,\n",
              "          0,   0],\n",
              "       [  0,   0,   0,   0, 222, 163,   0,   0,   0,   0,   0,   0,   0,\n",
              "          0,   0,   0,   0,   0,   0, 183, 254, 125,   0,   0,   0,   0,\n",
              "          0,   0],\n",
              "       [  0,   0,   0,  46, 245, 163,   0,   0,   0,   0,   0,   0,   0,\n",
              "          0,   0,   0,   0,   0,   0, 198, 254,  56,   0,   0,   0,   0,\n",
              "          0,   0],\n",
              "       [  0,   0,   0, 120, 254, 163,   0,   0,   0,   0,   0,   0,   0,\n",
              "          0,   0,   0,   0,   0,  23, 231, 254,  29,   0,   0,   0,   0,\n",
              "          0,   0],\n",
              "       [  0,   0,   0, 159, 254, 120,   0,   0,   0,   0,   0,   0,   0,\n",
              "          0,   0,   0,   0,   0, 163, 254, 216,  16,   0,   0,   0,   0,\n",
              "          0,   0],\n",
              "       [  0,   0,   0, 159, 254,  67,   0,   0,   0,   0,   0,   0,   0,\n",
              "          0,   0,  14,  86, 178, 248, 254,  91,   0,   0,   0,   0,   0,\n",
              "          0,   0],\n",
              "       [  0,   0,   0, 159, 254,  85,   0,   0,   0,  47,  49, 116, 144,\n",
              "        150, 241, 243, 234, 179, 241, 252,  40,   0,   0,   0,   0,   0,\n",
              "          0,   0],\n",
              "       [  0,   0,   0, 150, 253, 237, 207, 207, 207, 253, 254, 250, 240,\n",
              "        198, 143,  91,  28,   5, 233, 250,   0,   0,   0,   0,   0,   0,\n",
              "          0,   0],\n",
              "       [  0,   0,   0,   0, 119, 177, 177, 177, 177, 177,  98,  56,   0,\n",
              "          0,   0,   0,   0, 102, 254, 220,   0,   0,   0,   0,   0,   0,\n",
              "          0,   0],\n",
              "       [  0,   0,   0,   0,   0,   0,   0,   0,   0,   0,   0,   0,   0,\n",
              "          0,   0,   0,   0, 169, 254, 137,   0,   0,   0,   0,   0,   0,\n",
              "          0,   0],\n",
              "       [  0,   0,   0,   0,   0,   0,   0,   0,   0,   0,   0,   0,   0,\n",
              "          0,   0,   0,   0, 169, 254,  57,   0,   0,   0,   0,   0,   0,\n",
              "          0,   0],\n",
              "       [  0,   0,   0,   0,   0,   0,   0,   0,   0,   0,   0,   0,   0,\n",
              "          0,   0,   0,   0, 169, 254,  57,   0,   0,   0,   0,   0,   0,\n",
              "          0,   0],\n",
              "       [  0,   0,   0,   0,   0,   0,   0,   0,   0,   0,   0,   0,   0,\n",
              "          0,   0,   0,   0, 169, 255,  94,   0,   0,   0,   0,   0,   0,\n",
              "          0,   0],\n",
              "       [  0,   0,   0,   0,   0,   0,   0,   0,   0,   0,   0,   0,   0,\n",
              "          0,   0,   0,   0, 169, 254,  96,   0,   0,   0,   0,   0,   0,\n",
              "          0,   0],\n",
              "       [  0,   0,   0,   0,   0,   0,   0,   0,   0,   0,   0,   0,   0,\n",
              "          0,   0,   0,   0, 169, 254, 153,   0,   0,   0,   0,   0,   0,\n",
              "          0,   0],\n",
              "       [  0,   0,   0,   0,   0,   0,   0,   0,   0,   0,   0,   0,   0,\n",
              "          0,   0,   0,   0, 169, 255, 153,   0,   0,   0,   0,   0,   0,\n",
              "          0,   0],\n",
              "       [  0,   0,   0,   0,   0,   0,   0,   0,   0,   0,   0,   0,   0,\n",
              "          0,   0,   0,   0,  96, 254, 153,   0,   0,   0,   0,   0,   0,\n",
              "          0,   0],\n",
              "       [  0,   0,   0,   0,   0,   0,   0,   0,   0,   0,   0,   0,   0,\n",
              "          0,   0,   0,   0,   0,   0,   0,   0,   0,   0,   0,   0,   0,\n",
              "          0,   0],\n",
              "       [  0,   0,   0,   0,   0,   0,   0,   0,   0,   0,   0,   0,   0,\n",
              "          0,   0,   0,   0,   0,   0,   0,   0,   0,   0,   0,   0,   0,\n",
              "          0,   0],\n",
              "       [  0,   0,   0,   0,   0,   0,   0,   0,   0,   0,   0,   0,   0,\n",
              "          0,   0,   0,   0,   0,   0,   0,   0,   0,   0,   0,   0,   0,\n",
              "          0,   0]], dtype=uint8)"
            ]
          },
          "metadata": {
            "tags": []
          },
          "execution_count": 3
        }
      ]
    },
    {
      "metadata": {
        "id": "HNlDEY4Pci5g",
        "colab_type": "code",
        "outputId": "0945dffc-149c-4b27-ad67-31bb149e72a9",
        "colab": {
          "base_uri": "https://localhost:8080/",
          "height": 34
        }
      },
      "cell_type": "code",
      "source": [
        "train_labels.shape"
      ],
      "execution_count": 0,
      "outputs": [
        {
          "output_type": "execute_result",
          "data": {
            "text/plain": [
              "(60000,)"
            ]
          },
          "metadata": {
            "tags": []
          },
          "execution_count": 4
        }
      ]
    },
    {
      "metadata": {
        "id": "05mzywnxci5j",
        "colab_type": "text"
      },
      "cell_type": "markdown",
      "source": [
        "## B. View a number"
      ]
    },
    {
      "metadata": {
        "id": "YsnPo6hXci5j",
        "colab_type": "text"
      },
      "cell_type": "markdown",
      "source": [
        "We will use the 'imshow' function within matplotlib.pyplot to view the number."
      ]
    },
    {
      "metadata": {
        "id": "G82W76eWci5k",
        "colab_type": "code",
        "colab": {}
      },
      "cell_type": "code",
      "source": [
        "import matplotlib\n",
        "import matplotlib.pyplot as plt"
      ],
      "execution_count": 0,
      "outputs": []
    },
    {
      "metadata": {
        "id": "kbwikP3Xci5m",
        "colab_type": "text"
      },
      "cell_type": "markdown",
      "source": [
        "Let's choose an observation and verify if the target matches. "
      ]
    },
    {
      "metadata": {
        "id": "7KiTcOf3ci5m",
        "colab_type": "code",
        "colab": {}
      },
      "cell_type": "code",
      "source": [
        "ind=2\n",
        "some_digit = train_images[ind]\n",
        "some_digit_image = some_digit.reshape(28,28)"
      ],
      "execution_count": 0,
      "outputs": []
    },
    {
      "metadata": {
        "id": "JCDm_Zelci5o",
        "colab_type": "code",
        "outputId": "746aa21d-4705-4c62-f3ef-db5b400b455d",
        "colab": {
          "base_uri": "https://localhost:8080/",
          "height": 347
        }
      },
      "cell_type": "code",
      "source": [
        "plt.imshow(some_digit_image, cmap = matplotlib.cm.binary, interpolation=\"nearest\")\n",
        "plt.axis(\"off\")\n",
        "plt.show()"
      ],
      "execution_count": 0,
      "outputs": [
        {
          "output_type": "display_data",
          "data": {
            "image/png": "[encoded data removed]",
            "text/plain": [
              "<matplotlib.figure.Figure at 0x7fb69baa8080>"
            ]
          },
          "metadata": {
            "tags": []
          }
        }
      ]
    },
    {
      "metadata": {
        "id": "t9bvhl0gci5q",
        "colab_type": "code",
        "outputId": "310b184b-4d74-4989-a63e-fad27c5d7eaf",
        "colab": {
          "base_uri": "https://localhost:8080/",
          "height": 34
        }
      },
      "cell_type": "code",
      "source": [
        "train_labels[ind]"
      ],
      "execution_count": 0,
      "outputs": [
        {
          "output_type": "execute_result",
          "data": {
            "text/plain": [
              "4"
            ]
          },
          "metadata": {
            "tags": []
          },
          "execution_count": 8
        }
      ]
    },
    {
      "metadata": {
        "id": "LiBtij7wci5t",
        "colab_type": "text"
      },
      "cell_type": "markdown",
      "source": [
        "When we set ind to 2 the handwritten digit looks like a 4 which matches the target value."
      ]
    },
    {
      "metadata": {
        "id": "kl40q_uIci5v",
        "colab_type": "text"
      },
      "cell_type": "markdown",
      "source": [
        "## C. Test a kNN classifier"
      ]
    },
    {
      "metadata": {
        "id": "xDCzvbAWci50",
        "colab_type": "text"
      },
      "cell_type": "markdown",
      "source": [
        "Here we try out a kNN classifier."
      ]
    },
    {
      "metadata": {
        "id": "tGoMeIT-ci56",
        "colab_type": "code",
        "colab": {}
      },
      "cell_type": "code",
      "source": [
        "from sklearn.neighbors import KNeighborsClassifier\n",
        "knn=KNeighborsClassifier()"
      ],
      "execution_count": 0,
      "outputs": []
    },
    {
      "metadata": {
        "id": "S98vvnp6iMpR",
        "colab_type": "text"
      },
      "cell_type": "markdown",
      "source": [
        "After creating the knn object, we need to reshape the 3d object to 2 dimensions."
      ]
    },
    {
      "metadata": {
        "id": "c03KmEPcgwqn",
        "colab_type": "code",
        "colab": {}
      },
      "cell_type": "code",
      "source": [
        "nsamples, nx, ny = train_images.shape\n",
        "train_images_v2 = train_images.reshape((nsamples,nx*ny))"
      ],
      "execution_count": 0,
      "outputs": []
    },
    {
      "metadata": {
        "id": "Wx3FDim8hvlq",
        "colab_type": "code",
        "outputId": "62888c89-e1f0-4b78-8430-f4d50182f349",
        "colab": {
          "base_uri": "https://localhost:8080/",
          "height": 68
        }
      },
      "cell_type": "code",
      "source": [
        "knn.fit(train_images_v2,train_labels)"
      ],
      "execution_count": 0,
      "outputs": [
        {
          "output_type": "execute_result",
          "data": {
            "text/plain": [
              "KNeighborsClassifier(algorithm='auto', leaf_size=30, metric='minkowski',\n",
              "           metric_params=None, n_jobs=None, n_neighbors=5, p=2,\n",
              "           weights='uniform')"
            ]
          },
          "metadata": {
            "tags": []
          },
          "execution_count": 11
        }
      ]
    },
    {
      "metadata": {
        "id": "q2jkxvpxidHQ",
        "colab_type": "text"
      },
      "cell_type": "markdown",
      "source": [
        "Reshape the test data set as well."
      ]
    },
    {
      "metadata": {
        "id": "KabFxIvhiaYh",
        "colab_type": "code",
        "colab": {}
      },
      "cell_type": "code",
      "source": [
        "nsamples, nx, ny = test_images.shape\n",
        "test_images_v2 = test_images.reshape((nsamples,nx*ny))"
      ],
      "execution_count": 0,
      "outputs": []
    },
    {
      "metadata": {
        "id": "2KmGu540ci58",
        "colab_type": "text"
      },
      "cell_type": "markdown",
      "source": [
        "## <font color='red'>DON'T RUN THIS:<font>\n",
        "<font color='red'>RUN TIME: ~19.95 minutes</font>"
      ]
    },
    {
      "metadata": {
        "id": "A0bio2vPci59",
        "colab_type": "code",
        "outputId": "d810859c-1edd-4599-a156-543a433b4000",
        "colab": {
          "base_uri": "https://localhost:8080/",
          "height": 34
        }
      },
      "cell_type": "code",
      "source": [
        "import time as t\n",
        "now=t.time()\n",
        "pred = knn.predict(test_images_v2)\n",
        "elapsed = t.time()-now\n",
        "elapsed"
      ],
      "execution_count": 0,
      "outputs": [
        {
          "output_type": "execute_result",
          "data": {
            "text/plain": [
              "1025.8234243392944"
            ]
          },
          "metadata": {
            "tags": []
          },
          "execution_count": 13
        }
      ]
    },
    {
      "metadata": {
        "id": "_O-7uQIhci5_",
        "colab_type": "text"
      },
      "cell_type": "markdown",
      "source": [
        "Report accuracy:"
      ]
    },
    {
      "metadata": {
        "id": "8butM_W0ci6A",
        "colab_type": "code",
        "outputId": "7477e31b-657b-4b03-8c3a-0dc6b937943a",
        "colab": {
          "base_uri": "https://localhost:8080/",
          "height": 34
        }
      },
      "cell_type": "code",
      "source": [
        "sum(pred==test_labels)/len(test_labels)"
      ],
      "execution_count": 0,
      "outputs": [
        {
          "output_type": "execute_result",
          "data": {
            "text/plain": [
              "0.9688"
            ]
          },
          "metadata": {
            "tags": []
          },
          "execution_count": 14
        }
      ]
    },
    {
      "metadata": {
        "id": "CwLAQsnfci6C",
        "colab_type": "text"
      },
      "cell_type": "markdown",
      "source": [
        "## D. Apply PCA"
      ]
    },
    {
      "metadata": {
        "id": "ass87i86ci6C",
        "colab_type": "text"
      },
      "cell_type": "markdown",
      "source": [
        "We will import and use PCA here.  It is necessary to specify the number of components when using the PCA function.  The number of components should be less than the number of features.  In fact, the number of components will determine the number of the new features.  Let's first try to specify 10."
      ]
    },
    {
      "metadata": {
        "id": "UyYtFHgZci6D",
        "colab_type": "code",
        "colab": {}
      },
      "cell_type": "code",
      "source": [
        "from sklearn.decomposition import PCA\n",
        "pca = PCA(n_components=10)\n",
        "X_train_pca = pca.fit_transform(train_images_v2)"
      ],
      "execution_count": 0,
      "outputs": []
    },
    {
      "metadata": {
        "id": "13HNxJggci6E",
        "colab_type": "text"
      },
      "cell_type": "markdown",
      "source": [
        "How much variance is retained?"
      ]
    },
    {
      "metadata": {
        "id": "1GyXoI6Vci6F",
        "colab_type": "code",
        "outputId": "446dd3c0-1035-44ee-d589-4ef29672b8e3",
        "colab": {
          "base_uri": "https://localhost:8080/",
          "height": 51
        }
      },
      "cell_type": "code",
      "source": [
        "pca.explained_variance_ratio_"
      ],
      "execution_count": 0,
      "outputs": [
        {
          "output_type": "execute_result",
          "data": {
            "text/plain": [
              "array([0.09704664, 0.07095924, 0.06169089, 0.05389419, 0.04868797,\n",
              "       0.04312231, 0.0327193 , 0.02883886, 0.02762029, 0.0235697 ])"
            ]
          },
          "metadata": {
            "tags": []
          },
          "execution_count": 16
        }
      ]
    },
    {
      "metadata": {
        "id": "bk7X1mneci6G",
        "colab_type": "code",
        "outputId": "7331c870-3327-4e98-8641-4bad23b63a73",
        "colab": {
          "base_uri": "https://localhost:8080/",
          "height": 34
        }
      },
      "cell_type": "code",
      "source": [
        "sum(pca.explained_variance_ratio_)"
      ],
      "execution_count": 0,
      "outputs": [
        {
          "output_type": "execute_result",
          "data": {
            "text/plain": [
              "0.48814939280832115"
            ]
          },
          "metadata": {
            "tags": []
          },
          "execution_count": 17
        }
      ]
    },
    {
      "metadata": {
        "id": "cz2ZCNnrci6I",
        "colab_type": "text"
      },
      "cell_type": "markdown",
      "source": [
        "There is a special way of telling the PCA function to retain 95% of the variance.  That is, instead of writing the n_components equal to an integer, make it the amount of variance you want retained."
      ]
    },
    {
      "metadata": {
        "id": "hsJh14Q_ci6J",
        "colab_type": "code",
        "colab": {}
      },
      "cell_type": "code",
      "source": [
        "pca = PCA(n_components=0.95)\n",
        "X_train_pca = pca.fit_transform(train_images_v2)\n",
        "X_test_pca = pca.transform(test_images_v2)"
      ],
      "execution_count": 0,
      "outputs": []
    },
    {
      "metadata": {
        "id": "U0wT9kCfci6L",
        "colab_type": "text"
      },
      "cell_type": "markdown",
      "source": [
        "Notice that we did not use the fit_transform twice.  You first fit the transform using training data and then use that fit on the test set."
      ]
    },
    {
      "metadata": {
        "id": "Hr6KwoQeci6L",
        "colab_type": "code",
        "outputId": "413caceb-856e-47e4-8c51-9562093955b1",
        "colab": {
          "base_uri": "https://localhost:8080/",
          "height": 68
        }
      },
      "cell_type": "code",
      "source": [
        "knn = KNeighborsClassifier()\n",
        "knn.fit(X_train_pca, train_labels)"
      ],
      "execution_count": 0,
      "outputs": [
        {
          "output_type": "execute_result",
          "data": {
            "text/plain": [
              "KNeighborsClassifier(algorithm='auto', leaf_size=30, metric='minkowski',\n",
              "           metric_params=None, n_jobs=None, n_neighbors=5, p=2,\n",
              "           weights='uniform')"
            ]
          },
          "metadata": {
            "tags": []
          },
          "execution_count": 19
        }
      ]
    },
    {
      "metadata": {
        "id": "mXV9kcdLci6N",
        "colab_type": "text"
      },
      "cell_type": "markdown",
      "source": [
        "## <font color='red'>DON'T RUN THIS:<font>\n",
        "\n",
        "<font color='red'>RUN TIME: ~7 minutes</font>"
      ]
    },
    {
      "metadata": {
        "id": "b0De9_Wkci6N",
        "colab_type": "code",
        "outputId": "92701a20-c9eb-4040-d7e2-b77c8dfee260",
        "colab": {
          "base_uri": "https://localhost:8080/",
          "height": 34
        }
      },
      "cell_type": "code",
      "source": [
        "now=t.time()\n",
        "y_pred = knn.predict(X_test_pca)\n",
        "elapsed = t.time()-now\n",
        "elapsed"
      ],
      "execution_count": 0,
      "outputs": [
        {
          "output_type": "execute_result",
          "data": {
            "text/plain": [
              "195.1857340335846"
            ]
          },
          "metadata": {
            "tags": []
          },
          "execution_count": 20
        }
      ]
    },
    {
      "metadata": {
        "id": "GGo8_hOCci6P",
        "colab_type": "code",
        "outputId": "cf7d2729-9db2-4615-f3dd-468f088ab5a4",
        "colab": {
          "base_uri": "https://localhost:8080/",
          "height": 34
        }
      },
      "cell_type": "code",
      "source": [
        "sum(y_pred==test_labels)/len(test_labels)"
      ],
      "execution_count": 0,
      "outputs": [
        {
          "output_type": "execute_result",
          "data": {
            "text/plain": [
              "0.9712"
            ]
          },
          "metadata": {
            "tags": []
          },
          "execution_count": 21
        }
      ]
    },
    {
      "metadata": {
        "id": "UlrErE0vci6R",
        "colab_type": "text"
      },
      "cell_type": "markdown",
      "source": [
        "Note that we get about 97% for both cases."
      ]
    }
  ]
}