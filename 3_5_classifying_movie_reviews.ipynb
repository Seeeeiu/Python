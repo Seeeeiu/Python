{
  "nbformat": 4,
  "nbformat_minor": 0,
  "metadata": {
    "colab": {
      "name": "3.5-classifying-movie-reviews.ipynb",
      "version": "0.3.2",
      "provenance": [],
      "collapsed_sections": [],
      "include_colab_link": true
    },
    "kernelspec": {
      "name": "python3",
      "display_name": "Python 3"
    },
    "accelerator": "GPU"
  },
  "cells": [
    {
      "cell_type": "markdown",
      "metadata": {
        "id": "view-in-github",
        "colab_type": "text"
      },
      "source": [
        "<a href=\"https://colab.research.google.com/github/Seeeeiu/Python/blob/master/3_5_classifying_movie_reviews.ipynb\" target=\"_parent\"><img src=\"https://colab.research.google.com/assets/colab-badge.svg\" alt=\"Open In Colab\"/></a>"
      ]
    },
    {
      "metadata": {
        "id": "Z6WeMu796_8a",
        "colab_type": "code",
        "outputId": "f0526be8-b395-40e7-fbe2-fdcbc30ce094",
        "colab": {
          "base_uri": "https://localhost:8080/",
          "height": 51
        }
      },
      "cell_type": "code",
      "source": [
        "import keras\n",
        "keras.__version__"
      ],
      "execution_count": 0,
      "outputs": [
        {
          "output_type": "stream",
          "text": [
            "Using TensorFlow backend.\n"
          ],
          "name": "stderr"
        },
        {
          "output_type": "execute_result",
          "data": {
            "text/plain": [
              "'2.2.4'"
            ]
          },
          "metadata": {
            "tags": []
          },
          "execution_count": 1
        }
      ]
    },
    {
      "metadata": {
        "id": "D6uhRT3M6_8j",
        "colab_type": "text"
      },
      "cell_type": "markdown",
      "source": [
        "# Classifying movie reviews: a binary classification example\n",
        "\n",
        "This notebook contains the code samples found in Chapter 3, Section 5 of [Deep Learning with Python](https://www.manning.com/books/deep-learning-with-python?a_aid=keras&a_bid=76564dff). Note that the original text features far more content, in particular further explanations and figures: in this notebook, you will only find source code and related comments.\n",
        "\n",
        "----\n",
        "\n",
        "\n",
        "Two-class classification, or binary classification, may be the most widely applied kind of machine learning problem. In this example, we \n",
        "will learn to classify movie reviews into \"positive\" reviews and \"negative\" reviews, just based on the text content of the reviews."
      ]
    },
    {
      "metadata": {
        "id": "RbXbkF-26_8k",
        "colab_type": "text"
      },
      "cell_type": "markdown",
      "source": [
        "## The IMDB dataset\n",
        "\n",
        "\n",
        "We'll be working with \"IMDB dataset\", a set of 50,000 highly-polarized reviews from the Internet Movie Database. They are split into 25,000 \n",
        "reviews for training and 25,000 reviews for testing, each set consisting in 50% negative and 50% positive reviews.\n",
        "\n",
        "Why do we have these two separate training and test sets? You should never test a machine learning model on the same data that you used to \n",
        "train it! Just because a model performs well on its training data doesn't mean that it will perform well on data it has never seen, and \n",
        "what you actually care about is your model's performance on new data (since you already know the labels of your training data -- obviously \n",
        "you don't need your model to predict those). For instance, it is possible that your model could end up merely _memorizing_ a mapping between \n",
        "your training samples and their targets -- which would be completely useless for the task of predicting targets for data never seen before. \n",
        "We will go over this point in much more detail in the next chapter.\n",
        "\n",
        "Just like the MNIST dataset, the IMDB dataset comes packaged with Keras. It has already been preprocessed: the reviews (sequences of words) \n",
        "have been turned into sequences of integers, where each integer stands for a specific word in a dictionary.\n",
        "\n",
        "The following code will load the dataset (when you run it for the first time, about 80MB of data will be downloaded to your machine):"
      ]
    },
    {
      "metadata": {
        "id": "ydbV6NZe6_8l",
        "colab_type": "code",
        "outputId": "054098c5-ff64-4a85-ca4e-994a546fd8b4",
        "colab": {
          "base_uri": "https://localhost:8080/",
          "height": 69
        }
      },
      "cell_type": "code",
      "source": [
        "from keras.datasets import imdb\n",
        "\n",
        "(train_data, train_labels), (test_data, test_labels) = imdb.load_data(num_words=10000)"
      ],
      "execution_count": 0,
      "outputs": [
        {
          "output_type": "stream",
          "text": [
            "Using TensorFlow backend.\n"
          ],
          "name": "stderr"
        },
        {
          "output_type": "stream",
          "text": [
            "Downloading data from https://s3.amazonaws.com/text-datasets/imdb.npz\n",
            "17465344/17464789 [==============================] - 1s 0us/step\n"
          ],
          "name": "stdout"
        }
      ]
    },
    {
      "metadata": {
        "id": "F_MCL8AT6_8o",
        "colab_type": "text"
      },
      "cell_type": "markdown",
      "source": [
        "\n",
        "The argument `num_words=10000` means that we will **only keep the top 10,000** most frequently occurring words in the training data. Rare words \n",
        "will be discarded. This allows us to work with vector data of manageable size.\n",
        "\n",
        "The variables `train_data` and `test_data` are lists of reviews, each review being a list of word indices (encoding a sequence of words). \n",
        "`train_labels` and `test_labels` are lists of 0s and 1s, where 0 stands for \"negative\" and 1 stands for \"positive\":"
      ]
    },
    {
      "metadata": {
        "id": "_fKb2VzZ6_8p",
        "colab_type": "code",
        "outputId": "886b3f5c-5253-4ffc-8ae3-2640820a3595",
        "colab": {
          "base_uri": "https://localhost:8080/",
          "height": 3723
        }
      },
      "cell_type": "code",
      "source": [
        "train_data[0]"
      ],
      "execution_count": 0,
      "outputs": [
        {
          "output_type": "execute_result",
          "data": {
            "text/plain": [
              "[1,\n",
              " 14,\n",
              " 22,\n",
              " 16,\n",
              " 43,\n",
              " 530,\n",
              " 973,\n",
              " 1622,\n",
              " 1385,\n",
              " 65,\n",
              " 458,\n",
              " 4468,\n",
              " 66,\n",
              " 3941,\n",
              " 4,\n",
              " 173,\n",
              " 36,\n",
              " 256,\n",
              " 5,\n",
              " 25,\n",
              " 100,\n",
              " 43,\n",
              " 838,\n",
              " 112,\n",
              " 50,\n",
              " 670,\n",
              " 2,\n",
              " 9,\n",
              " 35,\n",
              " 480,\n",
              " 284,\n",
              " 5,\n",
              " 150,\n",
              " 4,\n",
              " 172,\n",
              " 112,\n",
              " 167,\n",
              " 2,\n",
              " 336,\n",
              " 385,\n",
              " 39,\n",
              " 4,\n",
              " 172,\n",
              " 4536,\n",
              " 1111,\n",
              " 17,\n",
              " 546,\n",
              " 38,\n",
              " 13,\n",
              " 447,\n",
              " 4,\n",
              " 192,\n",
              " 50,\n",
              " 16,\n",
              " 6,\n",
              " 147,\n",
              " 2025,\n",
              " 19,\n",
              " 14,\n",
              " 22,\n",
              " 4,\n",
              " 1920,\n",
              " 4613,\n",
              " 469,\n",
              " 4,\n",
              " 22,\n",
              " 71,\n",
              " 87,\n",
              " 12,\n",
              " 16,\n",
              " 43,\n",
              " 530,\n",
              " 38,\n",
              " 76,\n",
              " 15,\n",
              " 13,\n",
              " 1247,\n",
              " 4,\n",
              " 22,\n",
              " 17,\n",
              " 515,\n",
              " 17,\n",
              " 12,\n",
              " 16,\n",
              " 626,\n",
              " 18,\n",
              " 2,\n",
              " 5,\n",
              " 62,\n",
              " 386,\n",
              " 12,\n",
              " 8,\n",
              " 316,\n",
              " 8,\n",
              " 106,\n",
              " 5,\n",
              " 4,\n",
              " 2223,\n",
              " 5244,\n",
              " 16,\n",
              " 480,\n",
              " 66,\n",
              " 3785,\n",
              " 33,\n",
              " 4,\n",
              " 130,\n",
              " 12,\n",
              " 16,\n",
              " 38,\n",
              " 619,\n",
              " 5,\n",
              " 25,\n",
              " 124,\n",
              " 51,\n",
              " 36,\n",
              " 135,\n",
              " 48,\n",
              " 25,\n",
              " 1415,\n",
              " 33,\n",
              " 6,\n",
              " 22,\n",
              " 12,\n",
              " 215,\n",
              " 28,\n",
              " 77,\n",
              " 52,\n",
              " 5,\n",
              " 14,\n",
              " 407,\n",
              " 16,\n",
              " 82,\n",
              " 2,\n",
              " 8,\n",
              " 4,\n",
              " 107,\n",
              " 117,\n",
              " 5952,\n",
              " 15,\n",
              " 256,\n",
              " 4,\n",
              " 2,\n",
              " 7,\n",
              " 3766,\n",
              " 5,\n",
              " 723,\n",
              " 36,\n",
              " 71,\n",
              " 43,\n",
              " 530,\n",
              " 476,\n",
              " 26,\n",
              " 400,\n",
              " 317,\n",
              " 46,\n",
              " 7,\n",
              " 4,\n",
              " 2,\n",
              " 1029,\n",
              " 13,\n",
              " 104,\n",
              " 88,\n",
              " 4,\n",
              " 381,\n",
              " 15,\n",
              " 297,\n",
              " 98,\n",
              " 32,\n",
              " 2071,\n",
              " 56,\n",
              " 26,\n",
              " 141,\n",
              " 6,\n",
              " 194,\n",
              " 7486,\n",
              " 18,\n",
              " 4,\n",
              " 226,\n",
              " 22,\n",
              " 21,\n",
              " 134,\n",
              " 476,\n",
              " 26,\n",
              " 480,\n",
              " 5,\n",
              " 144,\n",
              " 30,\n",
              " 5535,\n",
              " 18,\n",
              " 51,\n",
              " 36,\n",
              " 28,\n",
              " 224,\n",
              " 92,\n",
              " 25,\n",
              " 104,\n",
              " 4,\n",
              " 226,\n",
              " 65,\n",
              " 16,\n",
              " 38,\n",
              " 1334,\n",
              " 88,\n",
              " 12,\n",
              " 16,\n",
              " 283,\n",
              " 5,\n",
              " 16,\n",
              " 4472,\n",
              " 113,\n",
              " 103,\n",
              " 32,\n",
              " 15,\n",
              " 16,\n",
              " 5345,\n",
              " 19,\n",
              " 178,\n",
              " 32]"
            ]
          },
          "metadata": {
            "tags": []
          },
          "execution_count": 3
        }
      ]
    },
    {
      "metadata": {
        "id": "1KvY4kBv6_8t",
        "colab_type": "code",
        "outputId": "53fcf9bb-287d-44fa-c9a4-efebc28d670a",
        "colab": {
          "base_uri": "https://localhost:8080/",
          "height": 34
        }
      },
      "cell_type": "code",
      "source": [
        "train_labels[0]"
      ],
      "execution_count": 0,
      "outputs": [
        {
          "output_type": "execute_result",
          "data": {
            "text/plain": [
              "1"
            ]
          },
          "metadata": {
            "tags": []
          },
          "execution_count": 4
        }
      ]
    },
    {
      "metadata": {
        "id": "bc-l-Jp16_8x",
        "colab_type": "text"
      },
      "cell_type": "markdown",
      "source": [
        "Since we restricted ourselves to the top 10,000 most frequent words, no word index will exceed 10,000:"
      ]
    },
    {
      "metadata": {
        "id": "K0Yyr4xk6_8z",
        "colab_type": "code",
        "outputId": "ee4abbed-3d9f-4c52-8bdd-8c616a8172ad",
        "colab": {
          "base_uri": "https://localhost:8080/",
          "height": 34
        }
      },
      "cell_type": "code",
      "source": [
        "max([max(sequence) for sequence in train_data])"
      ],
      "execution_count": 0,
      "outputs": [
        {
          "output_type": "execute_result",
          "data": {
            "text/plain": [
              "9999"
            ]
          },
          "metadata": {
            "tags": []
          },
          "execution_count": 5
        }
      ]
    },
    {
      "metadata": {
        "id": "6AkNU7BXo8AV",
        "colab_type": "code",
        "outputId": "e6bb6e44-c752-42e2-bf5b-0e75202dbf17",
        "colab": {
          "base_uri": "https://localhost:8080/",
          "height": 17051
        }
      },
      "cell_type": "code",
      "source": [
        "print(max(train_data[0]))\n",
        "[max(sequence) for sequence in train_data]\n"
      ],
      "execution_count": 0,
      "outputs": [
        {
          "output_type": "stream",
          "text": [
            "7486\n"
          ],
          "name": "stdout"
        },
        {
          "output_type": "execute_result",
          "data": {
            "text/plain": [
              "[7486,\n",
              " 9837,\n",
              " 6905,\n",
              " 9941,\n",
              " 7224,\n",
              " 7982,\n",
              " 9363,\n",
              " 9820,\n",
              " 7612,\n",
              " 8419,\n",
              " 8914,\n",
              " 7412,\n",
              " 9667,\n",
              " 9106,\n",
              " 6640,\n",
              " 9671,\n",
              " 9263,\n",
              " 9935,\n",
              " 8742,\n",
              " 9580,\n",
              " 9859,\n",
              " 8793,\n",
              " 7609,\n",
              " 9462,\n",
              " 9075,\n",
              " 8614,\n",
              " 8887,\n",
              " 5898,\n",
              " 9637,\n",
              " 9212,\n",
              " 9771,\n",
              " 9209,\n",
              " 8257,\n",
              " 7778,\n",
              " 9877,\n",
              " 9753,\n",
              " 7015,\n",
              " 9902,\n",
              " 8427,\n",
              " 8867,\n",
              " 8406,\n",
              " 9579,\n",
              " 9529,\n",
              " 7056,\n",
              " 7023,\n",
              " 9922,\n",
              " 5811,\n",
              " 9124,\n",
              " 9910,\n",
              " 8795,\n",
              " 7799,\n",
              " 7146,\n",
              " 9978,\n",
              " 7999,\n",
              " 9565,\n",
              " 9731,\n",
              " 9095,\n",
              " 9888,\n",
              " 5247,\n",
              " 9655,\n",
              " 4852,\n",
              " 9939,\n",
              " 9018,\n",
              " 9885,\n",
              " 7239,\n",
              " 9636,\n",
              " 9389,\n",
              " 9561,\n",
              " 9673,\n",
              " 9147,\n",
              " 9956,\n",
              " 9448,\n",
              " 8520,\n",
              " 9360,\n",
              " 9765,\n",
              " 9025,\n",
              " 9928,\n",
              " 8352,\n",
              " 9960,\n",
              " 7320,\n",
              " 8318,\n",
              " 7881,\n",
              " 9715,\n",
              " 9851,\n",
              " 9266,\n",
              " 9055,\n",
              " 8894,\n",
              " 9719,\n",
              " 9271,\n",
              " 7311,\n",
              " 8791,\n",
              " 9918,\n",
              " 9486,\n",
              " 9867,\n",
              " 9283,\n",
              " 7707,\n",
              " 9133,\n",
              " 9055,\n",
              " 9978,\n",
              " 8013,\n",
              " 8448,\n",
              " 8700,\n",
              " 9906,\n",
              " 7517,\n",
              " 9962,\n",
              " 6266,\n",
              " 6903,\n",
              " 9815,\n",
              " 9976,\n",
              " 9273,\n",
              " 9413,\n",
              " 8931,\n",
              " 8631,\n",
              " 9685,\n",
              " 9419,\n",
              " 9964,\n",
              " 7361,\n",
              " 9052,\n",
              " 9482,\n",
              " 9643,\n",
              " 9865,\n",
              " 9819,\n",
              " 7181,\n",
              " 2775,\n",
              " 9709,\n",
              " 9977,\n",
              " 8916,\n",
              " 4431,\n",
              " 9700,\n",
              " 6532,\n",
              " 8836,\n",
              " 9926,\n",
              " 6781,\n",
              " 7614,\n",
              " 5418,\n",
              " 8881,\n",
              " 9841,\n",
              " 9615,\n",
              " 9072,\n",
              " 9831,\n",
              " 6891,\n",
              " 8827,\n",
              " 9019,\n",
              " 9583,\n",
              " 8776,\n",
              " 8534,\n",
              " 9853,\n",
              " 8368,\n",
              " 8931,\n",
              " 9830,\n",
              " 8084,\n",
              " 5991,\n",
              " 7901,\n",
              " 9671,\n",
              " 6817,\n",
              " 9937,\n",
              " 7960,\n",
              " 7676,\n",
              " 8653,\n",
              " 6866,\n",
              " 6325,\n",
              " 9737,\n",
              " 9771,\n",
              " 5636,\n",
              " 8557,\n",
              " 7371,\n",
              " 9995,\n",
              " 8689,\n",
              " 9294,\n",
              " 8893,\n",
              " 8462,\n",
              " 6975,\n",
              " 9665,\n",
              " 8802,\n",
              " 7608,\n",
              " 9933,\n",
              " 9738,\n",
              " 9418,\n",
              " 7542,\n",
              " 7073,\n",
              " 8448,\n",
              " 9570,\n",
              " 9916,\n",
              " 9315,\n",
              " 7806,\n",
              " 9901,\n",
              " 9388,\n",
              " 9723,\n",
              " 9049,\n",
              " 9985,\n",
              " 8427,\n",
              " 8376,\n",
              " 9985,\n",
              " 9584,\n",
              " 9426,\n",
              " 9840,\n",
              " 9208,\n",
              " 8648,\n",
              " 9675,\n",
              " 9608,\n",
              " 9844,\n",
              " 9858,\n",
              " 9686,\n",
              " 9983,\n",
              " 9863,\n",
              " 5943,\n",
              " 8619,\n",
              " 9443,\n",
              " 9540,\n",
              " 8460,\n",
              " 8688,\n",
              " 8677,\n",
              " 9357,\n",
              " 9218,\n",
              " 6898,\n",
              " 7744,\n",
              " 9715,\n",
              " 8991,\n",
              " 9877,\n",
              " 9478,\n",
              " 9141,\n",
              " 7322,\n",
              " 9996,\n",
              " 9701,\n",
              " 9202,\n",
              " 9626,\n",
              " 9894,\n",
              " 9439,\n",
              " 8021,\n",
              " 9959,\n",
              " 5845,\n",
              " 3080,\n",
              " 9322,\n",
              " 9272,\n",
              " 8517,\n",
              " 9855,\n",
              " 6717,\n",
              " 9161,\n",
              " 8464,\n",
              " 8522,\n",
              " 8598,\n",
              " 9898,\n",
              " 8421,\n",
              " 9906,\n",
              " 9006,\n",
              " 8873,\n",
              " 9876,\n",
              " 6916,\n",
              " 8345,\n",
              " 8276,\n",
              " 7146,\n",
              " 8457,\n",
              " 8187,\n",
              " 9783,\n",
              " 9531,\n",
              " 9017,\n",
              " 3082,\n",
              " 8701,\n",
              " 6774,\n",
              " 9283,\n",
              " 9794,\n",
              " 8635,\n",
              " 9395,\n",
              " 9884,\n",
              " 7872,\n",
              " 9273,\n",
              " 9624,\n",
              " 8314,\n",
              " 9061,\n",
              " 8877,\n",
              " 9668,\n",
              " 9973,\n",
              " 8776,\n",
              " 9269,\n",
              " 8511,\n",
              " 9833,\n",
              " 9042,\n",
              " 8144,\n",
              " 8520,\n",
              " 9702,\n",
              " 6782,\n",
              " 9416,\n",
              " 9781,\n",
              " 8105,\n",
              " 9889,\n",
              " 9046,\n",
              " 7104,\n",
              " 9974,\n",
              " 9295,\n",
              " 8079,\n",
              " 9024,\n",
              " 8724,\n",
              " 9788,\n",
              " 8439,\n",
              " 9048,\n",
              " 9891,\n",
              " 9014,\n",
              " 9215,\n",
              " 6750,\n",
              " 9809,\n",
              " 9754,\n",
              " 9279,\n",
              " 9118,\n",
              " 9893,\n",
              " 9767,\n",
              " 7451,\n",
              " 9196,\n",
              " 8525,\n",
              " 9416,\n",
              " 9957,\n",
              " 9704,\n",
              " 7981,\n",
              " 9974,\n",
              " 8504,\n",
              " 7849,\n",
              " 9089,\n",
              " 9124,\n",
              " 9655,\n",
              " 9177,\n",
              " 7008,\n",
              " 7380,\n",
              " 9393,\n",
              " 9038,\n",
              " 9628,\n",
              " 9308,\n",
              " 9055,\n",
              " 7723,\n",
              " 8109,\n",
              " 9696,\n",
              " 9407,\n",
              " 9727,\n",
              " 9887,\n",
              " 9985,\n",
              " 7799,\n",
              " 8399,\n",
              " 8067,\n",
              " 8405,\n",
              " 2262,\n",
              " 4459,\n",
              " 8341,\n",
              " 9736,\n",
              " 9696,\n",
              " 8647,\n",
              " 8330,\n",
              " 9536,\n",
              " 4431,\n",
              " 9193,\n",
              " 8901,\n",
              " 9991,\n",
              " 7965,\n",
              " 9555,\n",
              " 9674,\n",
              " 5695,\n",
              " 7281,\n",
              " 9993,\n",
              " 8337,\n",
              " 8357,\n",
              " 8573,\n",
              " 9723,\n",
              " 9487,\n",
              " 8963,\n",
              " 9797,\n",
              " 9394,\n",
              " 8493,\n",
              " 8696,\n",
              " 9687,\n",
              " 9173,\n",
              " 9729,\n",
              " 4887,\n",
              " 9687,\n",
              " 9640,\n",
              " 9529,\n",
              " 9650,\n",
              " 9930,\n",
              " 8491,\n",
              " 9425,\n",
              " 9356,\n",
              " 8014,\n",
              " 9825,\n",
              " 9973,\n",
              " 6081,\n",
              " 8475,\n",
              " 9193,\n",
              " 9474,\n",
              " 9267,\n",
              " 9915,\n",
              " 9699,\n",
              " 9943,\n",
              " 8602,\n",
              " 9009,\n",
              " 9845,\n",
              " 8728,\n",
              " 8888,\n",
              " 7220,\n",
              " 9800,\n",
              " 8851,\n",
              " 6658,\n",
              " 9762,\n",
              " 9057,\n",
              " 9776,\n",
              " 8906,\n",
              " 9690,\n",
              " 4689,\n",
              " 9680,\n",
              " 7768,\n",
              " 9084,\n",
              " 9769,\n",
              " 9875,\n",
              " 9696,\n",
              " 9683,\n",
              " 7768,\n",
              " 9567,\n",
              " 9480,\n",
              " 8173,\n",
              " 9529,\n",
              " 9491,\n",
              " 7588,\n",
              " 7807,\n",
              " 9181,\n",
              " 7700,\n",
              " 6380,\n",
              " 3892,\n",
              " 9909,\n",
              " 9931,\n",
              " 9002,\n",
              " 2583,\n",
              " 9895,\n",
              " 9172,\n",
              " 7404,\n",
              " 9365,\n",
              " 1629,\n",
              " 5954,\n",
              " 9791,\n",
              " 7772,\n",
              " 9922,\n",
              " 9548,\n",
              " 9686,\n",
              " 9238,\n",
              " 9455,\n",
              " 9964,\n",
              " 9839,\n",
              " 8728,\n",
              " 9470,\n",
              " 7767,\n",
              " 9816,\n",
              " 7357,\n",
              " 6615,\n",
              " 9407,\n",
              " 8775,\n",
              " 8704,\n",
              " 8129,\n",
              " 9975,\n",
              " 9832,\n",
              " 9734,\n",
              " 9829,\n",
              " 8761,\n",
              " 9972,\n",
              " 9146,\n",
              " 9742,\n",
              " 6094,\n",
              " 9579,\n",
              " 8694,\n",
              " 9089,\n",
              " 7754,\n",
              " 1746,\n",
              " 9622,\n",
              " 9701,\n",
              " 9016,\n",
              " 9432,\n",
              " 7866,\n",
              " 7581,\n",
              " 9201,\n",
              " 9870,\n",
              " 6615,\n",
              " 9124,\n",
              " 9671,\n",
              " 9701,\n",
              " 8456,\n",
              " 9478,\n",
              " 9516,\n",
              " 8635,\n",
              " 9769,\n",
              " 9289,\n",
              " 9354,\n",
              " 9335,\n",
              " 7913,\n",
              " 9592,\n",
              " 9083,\n",
              " 8877,\n",
              " 8865,\n",
              " 8254,\n",
              " 8171,\n",
              " 6837,\n",
              " 9539,\n",
              " 9946,\n",
              " 9187,\n",
              " 9534,\n",
              " 9918,\n",
              " 8760,\n",
              " 8987,\n",
              " 7660,\n",
              " 6297,\n",
              " 5225,\n",
              " 6979,\n",
              " 9157,\n",
              " 7887,\n",
              " 7058,\n",
              " 9869,\n",
              " 6129,\n",
              " 2602,\n",
              " 9991,\n",
              " 8968,\n",
              " 7897,\n",
              " 9187,\n",
              " 9942,\n",
              " 9997,\n",
              " 8902,\n",
              " 9868,\n",
              " 9733,\n",
              " 7074,\n",
              " 3597,\n",
              " 6435,\n",
              " 8509,\n",
              " 7939,\n",
              " 4745,\n",
              " 9057,\n",
              " 7639,\n",
              " 9479,\n",
              " 9554,\n",
              " 7740,\n",
              " 9356,\n",
              " 9904,\n",
              " 9633,\n",
              " 8075,\n",
              " 8907,\n",
              " 9963,\n",
              " 7412,\n",
              " 8212,\n",
              " 9185,\n",
              " 9020,\n",
              " 9170,\n",
              " 9175,\n",
              " 8971,\n",
              " 9893,\n",
              " 8802,\n",
              " 7412,\n",
              " 9817,\n",
              " 9108,\n",
              " 9226,\n",
              " 8279,\n",
              " 7116,\n",
              " 7901,\n",
              " 9311,\n",
              " 9861,\n",
              " 8559,\n",
              " 8922,\n",
              " 5801,\n",
              " 9548,\n",
              " 9256,\n",
              " 9655,\n",
              " 9520,\n",
              " 9541,\n",
              " 8433,\n",
              " 9926,\n",
              " 4218,\n",
              " 7172,\n",
              " 8521,\n",
              " 9290,\n",
              " 9937,\n",
              " 8750,\n",
              " 8928,\n",
              " 9192,\n",
              " 9986,\n",
              " 9681,\n",
              " 9612,\n",
              " 9906,\n",
              " 9389,\n",
              " 9237,\n",
              " 8961,\n",
              " 9428,\n",
              " 9053,\n",
              " 6774,\n",
              " 9690,\n",
              " 8668,\n",
              " 8955,\n",
              " 5643,\n",
              " 9693,\n",
              " 9843,\n",
              " 6817,\n",
              " 8546,\n",
              " 8335,\n",
              " 9518,\n",
              " 8268,\n",
              " 9467,\n",
              " 3785,\n",
              " 9383,\n",
              " 8891,\n",
              " 9769,\n",
              " 7340,\n",
              " 7146,\n",
              " 9879,\n",
              " 7945,\n",
              " 9248,\n",
              " 9902,\n",
              " 9857,\n",
              " 8537,\n",
              " 5573,\n",
              " 9767,\n",
              " 9070,\n",
              " 8450,\n",
              " 9699,\n",
              " 7949,\n",
              " 9853,\n",
              " 9814,\n",
              " 8487,\n",
              " 9952,\n",
              " 9943,\n",
              " 8073,\n",
              " 5925,\n",
              " 9215,\n",
              " 9561,\n",
              " 9578,\n",
              " 9828,\n",
              " 9743,\n",
              " 6981,\n",
              " 2150,\n",
              " 8440,\n",
              " 9809,\n",
              " 9087,\n",
              " 9282,\n",
              " 9794,\n",
              " 9470,\n",
              " 8939,\n",
              " 9296,\n",
              " 9183,\n",
              " 8918,\n",
              " 7893,\n",
              " 9395,\n",
              " 6170,\n",
              " 9654,\n",
              " 9666,\n",
              " 9986,\n",
              " 9756,\n",
              " 8510,\n",
              " 9750,\n",
              " 9802,\n",
              " 9530,\n",
              " 5129,\n",
              " 3011,\n",
              " 9629,\n",
              " 7911,\n",
              " 9426,\n",
              " 9757,\n",
              " 6332,\n",
              " 8783,\n",
              " 9754,\n",
              " 9644,\n",
              " 9886,\n",
              " 8620,\n",
              " 8276,\n",
              " 8442,\n",
              " 9430,\n",
              " 8922,\n",
              " 6743,\n",
              " 9612,\n",
              " 8350,\n",
              " 8617,\n",
              " 9188,\n",
              " 9590,\n",
              " 8940,\n",
              " 9735,\n",
              " 9480,\n",
              " 5689,\n",
              " 9294,\n",
              " 6546,\n",
              " 7933,\n",
              " 9301,\n",
              " 9875,\n",
              " 7281,\n",
              " 9947,\n",
              " 5633,\n",
              " 9886,\n",
              " 9775,\n",
              " 9933,\n",
              " 9977,\n",
              " 9375,\n",
              " 6542,\n",
              " 7281,\n",
              " 9993,\n",
              " 9764,\n",
              " 9892,\n",
              " 9074,\n",
              " 9986,\n",
              " 8668,\n",
              " 8572,\n",
              " 9163,\n",
              " 8781,\n",
              " 8420,\n",
              " 8742,\n",
              " 8118,\n",
              " 9280,\n",
              " 9978,\n",
              " 9201,\n",
              " 9152,\n",
              " 9861,\n",
              " 9663,\n",
              " 9675,\n",
              " 9343,\n",
              " 9653,\n",
              " 3172,\n",
              " 9082,\n",
              " 8060,\n",
              " 9770,\n",
              " 6076,\n",
              " 9996,\n",
              " 8629,\n",
              " 9278,\n",
              " 7941,\n",
              " 8490,\n",
              " 9047,\n",
              " 9101,\n",
              " 8331,\n",
              " 8488,\n",
              " 7218,\n",
              " 9818,\n",
              " 7968,\n",
              " 8228,\n",
              " 8804,\n",
              " 9493,\n",
              " 8871,\n",
              " 4590,\n",
              " 5324,\n",
              " 2139,\n",
              " 9556,\n",
              " 9431,\n",
              " 7168,\n",
              " 7180,\n",
              " 6655,\n",
              " 8938,\n",
              " 6499,\n",
              " 8326,\n",
              " 9585,\n",
              " 7485,\n",
              " 7003,\n",
              " 9807,\n",
              " 9111,\n",
              " 9460,\n",
              " 9932,\n",
              " 9581,\n",
              " 8982,\n",
              " 9177,\n",
              " 9268,\n",
              " 6959,\n",
              " 8717,\n",
              " 9331,\n",
              " 8754,\n",
              " 9422,\n",
              " 8864,\n",
              " 9256,\n",
              " 9712,\n",
              " 3645,\n",
              " 8657,\n",
              " 7257,\n",
              " 9330,\n",
              " 9956,\n",
              " 9520,\n",
              " 8795,\n",
              " 9743,\n",
              " 8138,\n",
              " 9999,\n",
              " 9738,\n",
              " 9315,\n",
              " 9280,\n",
              " 8053,\n",
              " 9374,\n",
              " 9642,\n",
              " 8197,\n",
              " 9386,\n",
              " 7981,\n",
              " 7315,\n",
              " 9781,\n",
              " 9553,\n",
              " 6582,\n",
              " 6914,\n",
              " 8943,\n",
              " 9324,\n",
              " 9133,\n",
              " 9148,\n",
              " 7459,\n",
              " 8212,\n",
              " 9420,\n",
              " 9725,\n",
              " 7647,\n",
              " 4697,\n",
              " 8133,\n",
              " 9694,\n",
              " 6524,\n",
              " 9776,\n",
              " 6411,\n",
              " 9722,\n",
              " 7741,\n",
              " 8422,\n",
              " 7856,\n",
              " 9994,\n",
              " 8412,\n",
              " 9530,\n",
              " 9868,\n",
              " 9320,\n",
              " 9428,\n",
              " 8337,\n",
              " 9398,\n",
              " 9562,\n",
              " 8072,\n",
              " 6079,\n",
              " 9721,\n",
              " 9368,\n",
              " 9809,\n",
              " 9662,\n",
              " 9966,\n",
              " 9403,\n",
              " 8751,\n",
              " 9751,\n",
              " 9294,\n",
              " 9451,\n",
              " 9578,\n",
              " 9180,\n",
              " 9979,\n",
              " 9478,\n",
              " 8260,\n",
              " 7351,\n",
              " 9586,\n",
              " 8254,\n",
              " 8584,\n",
              " 9532,\n",
              " 8375,\n",
              " 5440,\n",
              " 9956,\n",
              " 9520,\n",
              " 9885,\n",
              " 8423,\n",
              " 9055,\n",
              " 9992,\n",
              " 9833,\n",
              " 9742,\n",
              " 8789,\n",
              " 8365,\n",
              " 6144,\n",
              " 9359,\n",
              " 9840,\n",
              " 9070,\n",
              " 9213,\n",
              " 8049,\n",
              " 9325,\n",
              " 8659,\n",
              " 9717,\n",
              " 9860,\n",
              " 8967,\n",
              " 7842,\n",
              " 9741,\n",
              " 7343,\n",
              " 9304,\n",
              " 8673,\n",
              " 8323,\n",
              " 9566,\n",
              " 9949,\n",
              " 6568,\n",
              " 8998,\n",
              " 9065,\n",
              " 9632,\n",
              " 8535,\n",
              " 8700,\n",
              " 9205,\n",
              " 9404,\n",
              " 9967,\n",
              " 9235,\n",
              " 9400,\n",
              " 9671,\n",
              " 9417,\n",
              " 7925,\n",
              " 9632,\n",
              " 5709,\n",
              " 7971,\n",
              " 9329,\n",
              " 9690,\n",
              " 9922,\n",
              " 9625,\n",
              " 9520,\n",
              " 8822,\n",
              " 9719,\n",
              " 9733,\n",
              " 9633,\n",
              " 9824,\n",
              " 8891,\n",
              " 9529,\n",
              " 9620,\n",
              " 9732,\n",
              " 9500,\n",
              " 7481,\n",
              " 6856,\n",
              " 8148,\n",
              " 8524,\n",
              " 8425,\n",
              " 9357,\n",
              " 8928,\n",
              " 9639,\n",
              " 9818,\n",
              " 7666,\n",
              " 9920,\n",
              " 7734,\n",
              " 7158,\n",
              " 9647,\n",
              " 9856,\n",
              " 9879,\n",
              " 7111,\n",
              " 7799,\n",
              " 9885,\n",
              " 6916,\n",
              " 7453,\n",
              " 9379,\n",
              " 9938,\n",
              " 4915,\n",
              " 8207,\n",
              " 9364,\n",
              " 9456,\n",
              " 9136,\n",
              " 6430,\n",
              " 9255,\n",
              " 8401,\n",
              " 9966,\n",
              " 8982,\n",
              " 7214,\n",
              " 8503,\n",
              " 9516,\n",
              " 9721,\n",
              " 6519,\n",
              " 9875,\n",
              " 8898,\n",
              " 9234,\n",
              " 9593,\n",
              " 1964,\n",
              " 9946,\n",
              " 8467,\n",
              " 9330,\n",
              " 7780,\n",
              " 9004,\n",
              " 8556,\n",
              " 9462,\n",
              " 9741,\n",
              " 9999,\n",
              " 9538,\n",
              " 8837,\n",
              " 8512,\n",
              " 9916,\n",
              " 1036,\n",
              " 9870,\n",
              " 9600,\n",
              " 8865,\n",
              " 6632,\n",
              " 9794,\n",
              " 9669,\n",
              " 9624,\n",
              " 9603,\n",
              " 9741,\n",
              " 9273,\n",
              " 8408,\n",
              " 6843,\n",
              " 8681,\n",
              " 9811,\n",
              " 9712,\n",
              " 6167,\n",
              " 5596,\n",
              " 8392,\n",
              " 8668,\n",
              " 8284,\n",
              " 8069,\n",
              " 8729,\n",
              " 3921,\n",
              " 9910,\n",
              " 9523,\n",
              " 9959,\n",
              " 9209,\n",
              " 9732,\n",
              " 9151,\n",
              " 9650,\n",
              " 9835,\n",
              " 9913,\n",
              " 4398,\n",
              " 9920,\n",
              " 5479,\n",
              " 6549,\n",
              " 7651,\n",
              " 9684,\n",
              " 9220,\n",
              " 3681,\n",
              " 9638,\n",
              " 8295,\n",
              " 9794,\n",
              " 9731,\n",
              " 9727,\n",
              " 9029,\n",
              " ...]"
            ]
          },
          "metadata": {
            "tags": []
          },
          "execution_count": 10
        }
      ]
    },
    {
      "metadata": {
        "id": "1_fWdaal6_83",
        "colab_type": "text"
      },
      "cell_type": "markdown",
      "source": [
        "For kicks, here's how you can quickly decode one of these reviews back to English words:"
      ]
    },
    {
      "metadata": {
        "id": "QwBFaVcD6_85",
        "colab_type": "code",
        "outputId": "5492480d-6ee9-4934-f5b0-6385fa7954de",
        "colab": {
          "base_uri": "https://localhost:8080/",
          "height": 51
        }
      },
      "cell_type": "code",
      "source": [
        "# word_index is a dictionary mapping words to an integer index\n",
        "word_index = imdb.get_word_index()\n",
        "# We reverse it, mapping integer indices to words\n",
        "reverse_word_index = dict([(value, key) for (key, value) in word_index.items()])\n",
        "# We decode the review; note that our indices were offset by 3\n",
        "# because 0, 1 and 2 are reserved indices for \"padding\", \"start of sequence\", and \"unknown\".\n",
        "decoded_review = ' '.join([reverse_word_index.get(i - 3, '?') for i in train_data[0]])"
      ],
      "execution_count": 0,
      "outputs": [
        {
          "output_type": "stream",
          "text": [
            "Downloading data from https://s3.amazonaws.com/text-datasets/imdb_word_index.json\n",
            "1646592/1641221 [==============================] - 0s 0us/step\n"
          ],
          "name": "stdout"
        }
      ]
    },
    {
      "metadata": {
        "id": "GSHGvj1FfHUV",
        "colab_type": "code",
        "outputId": "fafeb5f3-0eb0-45c5-f9e3-9034b26291d3",
        "colab": {
          "base_uri": "https://localhost:8080/",
          "height": 34
        }
      },
      "cell_type": "code",
      "source": [
        "reverse_word_index"
      ],
      "execution_count": 0,
      "outputs": [
        {
          "output_type": "execute_result",
          "data": {
            "text/plain": [
              "88584"
            ]
          },
          "metadata": {
            "tags": []
          },
          "execution_count": 20
        }
      ]
    },
    {
      "metadata": {
        "id": "-OH-sq-46_8-",
        "colab_type": "code",
        "outputId": "e2a46a61-6b95-4560-c06d-d849ae35674c",
        "colab": {
          "base_uri": "https://localhost:8080/",
          "height": 54
        }
      },
      "cell_type": "code",
      "source": [
        "decoded_review"
      ],
      "execution_count": 0,
      "outputs": [
        {
          "output_type": "execute_result",
          "data": {
            "text/plain": [
              "\"? this film was just brilliant casting location scenery story direction everyone's really suited the part they played and you could just imagine being there robert ? is an amazing actor and now the same being director ? father came from the same scottish island as myself so i loved the fact there was a real connection with this film the witty remarks throughout the film were great it was just brilliant so much that i bought the film as soon as it was released for ? and would recommend it to everyone to watch and the fly fishing was amazing really cried at the end it was so sad and you know what they say if you cry at a film it must have been good and this definitely was also ? to the two little boy's that played the ? of norman and paul they were just brilliant children are often left out of the ? list i think because the stars that play them all grown up are such a big profile for the whole film but these children are amazing and should be praised for what they have done don't you think the whole story was so lovely because it was true and was someone's life after all that was shared with us all\""
            ]
          },
          "metadata": {
            "tags": []
          },
          "execution_count": 4
        }
      ]
    },
    {
      "metadata": {
        "id": "kYk_3rsU6_9D",
        "colab_type": "text"
      },
      "cell_type": "markdown",
      "source": [
        "## Preparing the data\n",
        "\n",
        "\n",
        "We cannot feed lists of integers into a neural network. We have to turn our lists into tensors. There are two ways we could do that:\n",
        "\n",
        "* We could pad our lists so that they all have the same length, and turn them into an integer tensor of shape `(samples, word_indices)`, \n",
        "then use as first layer in our network a layer capable of handling such integer tensors (the `Embedding` layer, which we will cover in \n",
        "detail later in the book).\n",
        "* We could one-hot-encode our lists to turn them into vectors of 0s and 1s. Concretely, this would mean for instance turning the sequence \n",
        "`[3, 5]` into a 10,000-dimensional vector that would be all-zeros except for indices 3 and 5, which would be ones. Then we could use as \n",
        "first layer in our network a `Dense` layer, capable of handling floating point vector data.\n",
        "\n",
        "We will go with the latter solution. Let's vectorize our data, which we will do manually for maximum clarity:"
      ]
    },
    {
      "metadata": {
        "id": "YHSFTW9f6_9E",
        "colab_type": "code",
        "colab": {}
      },
      "cell_type": "code",
      "source": [
        "import numpy as np\n",
        "\n",
        "def vectorize_sequences(sequences, dimension=10000):\n",
        "    # Create an all-zero matrix of shape (len(sequences), dimension)\n",
        "    results = np.zeros((len(sequences), dimension))\n",
        "    for i, sequence in enumerate(sequences):\n",
        "        results[i, sequence] = 1.  # set specific indices of results[i] to 1s\n",
        "    return results\n",
        "\n",
        "# Our vectorized training data\n",
        "x_train = vectorize_sequences(train_data)\n",
        "# Our vectorized test data\n",
        "x_test = vectorize_sequences(test_data)"
      ],
      "execution_count": 0,
      "outputs": []
    },
    {
      "metadata": {
        "id": "pFMnBfFm6_9I",
        "colab_type": "text"
      },
      "cell_type": "markdown",
      "source": [
        "Here's what our samples look like now:"
      ]
    },
    {
      "metadata": {
        "id": "p2bqW7HK6_9K",
        "colab_type": "code",
        "outputId": "7c78bf63-333a-42ee-e0a1-4fa455d3adb3",
        "colab": {
          "base_uri": "https://localhost:8080/",
          "height": 34
        }
      },
      "cell_type": "code",
      "source": [
        "x_train[0]"
      ],
      "execution_count": 0,
      "outputs": [
        {
          "output_type": "execute_result",
          "data": {
            "text/plain": [
              "array([0., 1., 1., ..., 0., 0., 0.])"
            ]
          },
          "metadata": {
            "tags": []
          },
          "execution_count": 16
        }
      ]
    },
    {
      "metadata": {
        "id": "cCwBjuG8qPdp",
        "colab_type": "code",
        "outputId": "f1917f34-9c6a-454c-8e10-1f333fd78c6b",
        "colab": {
          "base_uri": "https://localhost:8080/",
          "height": 34
        }
      },
      "cell_type": "code",
      "source": [
        "x_train.shape"
      ],
      "execution_count": 0,
      "outputs": [
        {
          "output_type": "execute_result",
          "data": {
            "text/plain": [
              "(25000, 10000)"
            ]
          },
          "metadata": {
            "tags": []
          },
          "execution_count": 17
        }
      ]
    },
    {
      "metadata": {
        "id": "0oXRsoyb6_9N",
        "colab_type": "text"
      },
      "cell_type": "markdown",
      "source": [
        "We should also vectorize our labels, which is straightforward:"
      ]
    },
    {
      "metadata": {
        "id": "HHrOt_v-6_9O",
        "colab_type": "code",
        "colab": {}
      },
      "cell_type": "code",
      "source": [
        "# Our vectorized labels\n",
        "y_train = np.asarray(train_labels).astype('float32')\n",
        "y_test = np.asarray(test_labels).astype('float32')"
      ],
      "execution_count": 0,
      "outputs": []
    },
    {
      "metadata": {
        "id": "ywH7nEIj6_9S",
        "colab_type": "text"
      },
      "cell_type": "markdown",
      "source": [
        "Now our data is ready to be fed into a neural network."
      ]
    },
    {
      "metadata": {
        "id": "Aow-nSh16_9T",
        "colab_type": "text"
      },
      "cell_type": "markdown",
      "source": [
        "## Building our network\n",
        "\n",
        "\n",
        "Our input data is simply vectors, and our labels are scalars (1s and 0s): this is the easiest setup you will ever encounter. A type of \n",
        "network that performs well on such a problem would be a simple stack of fully-connected (`Dense`) layers with `relu` activations: `Dense(16, \n",
        "activation='relu')`\n",
        "\n",
        "The argument being passed to each `Dense` layer (16) is the number of \"hidden units\" of the layer. What's a hidden unit? It's a dimension \n",
        "in the representation space of the layer. You may remember from the previous chapter that each such `Dense` layer with a `relu` activation implements \n",
        "the following chain of tensor operations:\n",
        "\n",
        "`output = relu(dot(W, input) + b)`\n",
        "\n",
        "Having 16 hidden units means that the weight matrix `W` will have shape `(input_dimension, 16)`, i.e. the dot product with `W` will project the \n",
        "input data onto a 16-dimensional representation space (and then we would add the bias vector `b` and apply the `relu` operation). You can \n",
        "intuitively understand the dimensionality of your representation space as \"how much freedom you are allowing the network to have when \n",
        "learning internal representations\". Having more hidden units (a higher-dimensional representation space) allows your network to learn more \n",
        "complex representations, but it makes your network more computationally expensive and may lead to learning unwanted patterns (patterns that \n",
        "will improve performance on the training data but not on the test data).\n",
        "\n",
        "There are two key architecture decisions to be made about such stack of dense layers:\n",
        "\n",
        "* How many layers to use.\n",
        "* How many \"hidden units\" to chose for each layer.\n",
        "\n",
        "In the next chapter, you will learn formal principles to guide you in making these choices. \n",
        "For the time being, you will have to trust us with the following architecture choice: \n",
        "two intermediate layers with 16 hidden units each, \n",
        "and a third layer which will output the scalar prediction regarding the sentiment of the current review. \n",
        "The intermediate layers will use `relu` as their \"activation function\", \n",
        "and the final layer will use a sigmoid activation so as to output a probability \n",
        "(a score between 0 and 1, indicating how likely the sample is to have the target \"1\", i.e. how likely the review is to be positive). \n",
        "A `relu` (rectified linear unit) is a function meant to zero-out negative values, \n",
        "while a sigmoid \"squashes\" arbitrary values into the `[0, 1]` interval, thus outputting something that can be interpreted as a probability."
      ]
    },
    {
      "metadata": {
        "id": "sG9iyKDr6_9U",
        "colab_type": "text"
      },
      "cell_type": "markdown",
      "source": [
        "Here's what our network looks like:\n",
        "\n",
        "![3-layer network](https://s3.amazonaws.com/book.keras.io/img/ch3/3_layer_network.png)"
      ]
    },
    {
      "metadata": {
        "id": "rvpToz-H6_9Y",
        "colab_type": "text"
      },
      "cell_type": "markdown",
      "source": [
        "And here's the Keras implementation, very similar to the MNIST example you saw previously:"
      ]
    },
    {
      "metadata": {
        "id": "jwOwzUwk6_9a",
        "colab_type": "code",
        "colab": {}
      },
      "cell_type": "code",
      "source": [
        "from keras import models\n",
        "from keras import layers\n",
        "\n",
        "model = models.Sequential()\n",
        "model.add(layers.Dense(16, activation='relu', input_shape=(10000,)))\n",
        "model.add(layers.Dense(16, activation='relu'))\n",
        "model.add(layers.Dense(1, activation='sigmoid'))"
      ],
      "execution_count": 0,
      "outputs": []
    },
    {
      "metadata": {
        "id": "0qLaLuzz6_9d",
        "colab_type": "text"
      },
      "cell_type": "markdown",
      "source": [
        "\n",
        "Lastly, we need to pick a loss function and an optimizer. Since we are facing a binary classification problem and the output of our network \n",
        "is a probability (we end our network with a single-unit layer with a sigmoid activation), is it best to use the `binary_crossentropy` loss. \n",
        "It isn't the only viable choice: you could use, for instance, `mean_squared_error`. But crossentropy is usually the best choice when you \n",
        "are dealing with models that output probabilities. Crossentropy is a quantity from the field of Information Theory, that measures the \"distance\" \n",
        "between probability distributions, or in our case, between the ground-truth distribution and our predictions.\n",
        "\n",
        "Here's the step where we configure our model with the `rmsprop` optimizer and the `binary_crossentropy` loss function. Note that we will \n",
        "also monitor accuracy during training."
      ]
    },
    {
      "metadata": {
        "id": "Rz5uXdrz6_9g",
        "colab_type": "code",
        "colab": {}
      },
      "cell_type": "code",
      "source": [
        "model.compile(optimizer='rmsprop',\n",
        "              loss='binary_crossentropy',\n",
        "              metrics=['accuracy'])"
      ],
      "execution_count": 0,
      "outputs": []
    },
    {
      "metadata": {
        "id": "PZnaVpKl6_9j",
        "colab_type": "text"
      },
      "cell_type": "markdown",
      "source": [
        "We are passing our optimizer, loss function and metrics as strings, which is possible because `rmsprop`, `binary_crossentropy` and \n",
        "`accuracy` are packaged as part of Keras. Sometimes you may want to configure the parameters of your optimizer, or pass a custom loss \n",
        "function or metric function. This former can be done by passing an optimizer class instance as the `optimizer` argument:"
      ]
    },
    {
      "metadata": {
        "id": "GJoVmkVh6_9m",
        "colab_type": "code",
        "colab": {}
      },
      "cell_type": "code",
      "source": [
        "from keras import optimizers\n",
        "\n",
        "model.compile(optimizer=optimizers.RMSprop(lr=0.001),\n",
        "              loss='binary_crossentropy',\n",
        "              metrics=['accuracy'])"
      ],
      "execution_count": 0,
      "outputs": []
    },
    {
      "metadata": {
        "id": "75J1YqM36_9q",
        "colab_type": "text"
      },
      "cell_type": "markdown",
      "source": [
        "The latter can be done by passing function objects as the `loss` or `metrics` arguments:"
      ]
    },
    {
      "metadata": {
        "id": "iuidJZqH6_9r",
        "colab_type": "code",
        "colab": {}
      },
      "cell_type": "code",
      "source": [
        "from keras import losses\n",
        "from keras import metrics\n",
        "\n",
        "model.compile(optimizer=optimizers.RMSprop(lr=0.001),\n",
        "              loss=losses.binary_crossentropy,\n",
        "              metrics=[metrics.binary_accuracy])"
      ],
      "execution_count": 0,
      "outputs": []
    },
    {
      "metadata": {
        "id": "ALJjelWz6_9t",
        "colab_type": "text"
      },
      "cell_type": "markdown",
      "source": [
        "## Validating our approach\n",
        "\n",
        "In order to monitor during training the accuracy of the model on data that it has never seen before, we will create a \"validation set\" by \n",
        "setting apart 10,000 samples from the original training data:"
      ]
    },
    {
      "metadata": {
        "id": "KQmfje006_9u",
        "colab_type": "code",
        "colab": {}
      },
      "cell_type": "code",
      "source": [
        "x_val = x_train[:10000]\n",
        "partial_x_train = x_train[10000:]\n",
        "\n",
        "y_val = y_train[:10000]\n",
        "partial_y_train = y_train[10000:]"
      ],
      "execution_count": 0,
      "outputs": []
    },
    {
      "metadata": {
        "collapsed": true,
        "id": "VJhALoV46_9w",
        "colab_type": "text"
      },
      "cell_type": "markdown",
      "source": [
        "We will now train our model for 20 epochs (20 iterations over all samples in the `x_train` and `y_train` tensors), in mini-batches of 512 \n",
        "samples. At this same time we will monitor loss and accuracy on the 10,000 samples that we set apart. This is done by passing the \n",
        "validation data as the `validation_data` argument:"
      ]
    },
    {
      "metadata": {
        "id": "b5KFhCsM6_9x",
        "colab_type": "code",
        "outputId": "358c83a8-9f1d-430e-fbff-c1a59594acbc",
        "colab": {
          "base_uri": "https://localhost:8080/",
          "height": 722
        }
      },
      "cell_type": "code",
      "source": [
        "history = model.fit(partial_x_train,\n",
        "                    partial_y_train,\n",
        "                    epochs=20,\n",
        "                    batch_size=512,\n",
        "                    validation_data=(x_val, y_val))"
      ],
      "execution_count": 0,
      "outputs": [
        {
          "output_type": "stream",
          "text": [
            "Train on 15000 samples, validate on 10000 samples\n",
            "Epoch 1/20\n",
            "15000/15000 [==============================] - 2s 136us/step - loss: 0.5084 - binary_accuracy: 0.7813 - val_loss: 0.3797 - val_binary_accuracy: 0.8684\n",
            "Epoch 2/20\n",
            "15000/15000 [==============================] - 2s 119us/step - loss: 0.3004 - binary_accuracy: 0.9047 - val_loss: 0.3004 - val_binary_accuracy: 0.8897\n",
            "Epoch 3/20\n",
            "15000/15000 [==============================] - 2s 120us/step - loss: 0.2179 - binary_accuracy: 0.9285 - val_loss: 0.3085 - val_binary_accuracy: 0.8711\n",
            "Epoch 4/20\n",
            "15000/15000 [==============================] - 2s 119us/step - loss: 0.1750 - binary_accuracy: 0.9437 - val_loss: 0.2840 - val_binary_accuracy: 0.8832\n",
            "Epoch 5/20\n",
            "15000/15000 [==============================] - 2s 117us/step - loss: 0.1427 - binary_accuracy: 0.9543 - val_loss: 0.2841 - val_binary_accuracy: 0.8872\n",
            "Epoch 6/20\n",
            "15000/15000 [==============================] - 2s 117us/step - loss: 0.1150 - binary_accuracy: 0.9650 - val_loss: 0.3166 - val_binary_accuracy: 0.8772\n",
            "Epoch 7/20\n",
            "15000/15000 [==============================] - 2s 120us/step - loss: 0.0980 - binary_accuracy: 0.9705 - val_loss: 0.3127 - val_binary_accuracy: 0.8846\n",
            "Epoch 8/20\n",
            "15000/15000 [==============================] - 2s 119us/step - loss: 0.0807 - binary_accuracy: 0.9763 - val_loss: 0.3859 - val_binary_accuracy: 0.8649\n",
            "Epoch 9/20\n",
            "15000/15000 [==============================] - 2s 120us/step - loss: 0.0661 - binary_accuracy: 0.9821 - val_loss: 0.3635 - val_binary_accuracy: 0.8782\n",
            "Epoch 10/20\n",
            "15000/15000 [==============================] - 2s 119us/step - loss: 0.0561 - binary_accuracy: 0.9853 - val_loss: 0.3843 - val_binary_accuracy: 0.8792\n",
            "Epoch 11/20\n",
            "15000/15000 [==============================] - 2s 119us/step - loss: 0.0439 - binary_accuracy: 0.9893 - val_loss: 0.4153 - val_binary_accuracy: 0.8779\n",
            "Epoch 12/20\n",
            "15000/15000 [==============================] - 2s 122us/step - loss: 0.0381 - binary_accuracy: 0.9921 - val_loss: 0.4525 - val_binary_accuracy: 0.8690\n",
            "Epoch 13/20\n",
            "15000/15000 [==============================] - 2s 119us/step - loss: 0.0300 - binary_accuracy: 0.9928 - val_loss: 0.4698 - val_binary_accuracy: 0.8729\n",
            "Epoch 14/20\n",
            "15000/15000 [==============================] - 2s 119us/step - loss: 0.0247 - binary_accuracy: 0.9945 - val_loss: 0.5023 - val_binary_accuracy: 0.8726\n",
            "Epoch 15/20\n",
            "15000/15000 [==============================] - 2s 118us/step - loss: 0.0175 - binary_accuracy: 0.9979 - val_loss: 0.5342 - val_binary_accuracy: 0.8693\n",
            "Epoch 16/20\n",
            "15000/15000 [==============================] - 2s 117us/step - loss: 0.0149 - binary_accuracy: 0.9983 - val_loss: 0.5710 - val_binary_accuracy: 0.8697\n",
            "Epoch 17/20\n",
            "15000/15000 [==============================] - 2s 121us/step - loss: 0.0151 - binary_accuracy: 0.9971 - val_loss: 0.6025 - val_binary_accuracy: 0.8697\n",
            "Epoch 18/20\n",
            "15000/15000 [==============================] - 2s 117us/step - loss: 0.0075 - binary_accuracy: 0.9996 - val_loss: 0.6782 - val_binary_accuracy: 0.8633\n",
            "Epoch 19/20\n",
            "15000/15000 [==============================] - 2s 121us/step - loss: 0.0117 - binary_accuracy: 0.9975 - val_loss: 0.6692 - val_binary_accuracy: 0.8673\n",
            "Epoch 20/20\n",
            "15000/15000 [==============================] - 2s 118us/step - loss: 0.0041 - binary_accuracy: 0.9999 - val_loss: 0.6942 - val_binary_accuracy: 0.8657\n"
          ],
          "name": "stdout"
        }
      ]
    },
    {
      "metadata": {
        "id": "PKQEMQJo6_92",
        "colab_type": "text"
      },
      "cell_type": "markdown",
      "source": [
        "On CPU, this will take less than two seconds per epoch -- training is over in 20 seconds. At the end of every epoch, there is a slight pause \n",
        "as the model computes its loss and accuracy on the 10,000 samples of the validation data.\n",
        "\n",
        "Note that the call to `model.fit()` returns a `History` object. This object has a member `history`, which is a dictionary containing data \n",
        "about everything that happened during training. Let's take a look at it:"
      ]
    },
    {
      "metadata": {
        "id": "Rn7OtPwI6_93",
        "colab_type": "code",
        "outputId": "719c9996-58f2-4f29-c594-e063a7aa6836",
        "colab": {
          "base_uri": "https://localhost:8080/",
          "height": 34
        }
      },
      "cell_type": "code",
      "source": [
        "history_dict = history.history\n",
        "history_dict.keys()"
      ],
      "execution_count": 0,
      "outputs": [
        {
          "output_type": "execute_result",
          "data": {
            "text/plain": [
              "dict_keys(['val_loss', 'val_binary_accuracy', 'loss', 'binary_accuracy'])"
            ]
          },
          "metadata": {
            "tags": []
          },
          "execution_count": 37
        }
      ]
    },
    {
      "metadata": {
        "id": "8qVaCwDB6_98",
        "colab_type": "text"
      },
      "cell_type": "markdown",
      "source": [
        "It contains 4 entries: one per metric that was being monitored, during training and during validation. Let's use Matplotlib to plot the \n",
        "training and validation loss side by side, as well as the training and validation accuracy:"
      ]
    },
    {
      "metadata": {
        "id": "0qOV-B7n6_9-",
        "colab_type": "code",
        "outputId": "fd1b376b-e34f-4b34-aded-d591d6a1000e",
        "colab": {
          "base_uri": "https://localhost:8080/",
          "height": 376
        }
      },
      "cell_type": "code",
      "source": [
        "import matplotlib.pyplot as plt\n",
        "\n",
        "acc = history.history['binary_accuracy']\n",
        "val_acc = history.history['val_binary_accuracy']\n",
        "loss = history.history['loss']\n",
        "val_loss = history.history['val_loss']\n",
        "\n",
        "epochs = range(1, len(acc) + 1)\n",
        "\n",
        "# \"bo\" is for \"blue dot\"\n",
        "plt.plot(epochs, loss, 'bo', label='Training loss')\n",
        "# b is for \"solid blue line\"\n",
        "plt.plot(epochs, val_loss, 'b', label='Validation loss')\n",
        "plt.title('Training and validation loss')\n",
        "plt.xlabel('Epochs')\n",
        "plt.ylabel('Loss')\n",
        "plt.legend()\n",
        "\n",
        "plt.show()"
      ],
      "execution_count": 0,
      "outputs": [
        {
          "output_type": "display_data",
          "data": {
            "image/png": "[encoded data removed]",
            "text/plain": [
              "<Figure size 576x396 with 1 Axes>"
            ]
          },
          "metadata": {
            "tags": []
          }
        }
      ]
    },
    {
      "metadata": {
        "id": "yEuebV116_-C",
        "colab_type": "code",
        "outputId": "c0d00081-71b2-4984-a7db-eefa38174c13",
        "colab": {
          "base_uri": "https://localhost:8080/",
          "height": 251
        }
      },
      "cell_type": "code",
      "source": [
        "plt.clf()   # clear figure\n",
        "acc_values = history_dict['acc']\n",
        "val_acc_values = history_dict['val_acc']\n",
        "\n",
        "plt.plot(epochs, acc, 'bo', label='Training acc')\n",
        "plt.plot(epochs, val_acc, 'b', label='Validation acc')\n",
        "plt.title('Training and validation accuracy')\n",
        "plt.xlabel('Epochs')\n",
        "plt.ylabel('Loss')\n",
        "plt.legend()\n",
        "\n",
        "plt.show()"
      ],
      "execution_count": 0,
      "outputs": [
        {
          "output_type": "error",
          "ename": "KeyError",
          "evalue": "ignored",
          "traceback": [
            "\u001b[0;31m---------------------------------------------------------------------------\u001b[0m",
            "\u001b[0;31mKeyError\u001b[0m                                  Traceback (most recent call last)",
            "\u001b[0;32m<ipython-input-39-cc3500a51e0d>\u001b[0m in \u001b[0;36m<module>\u001b[0;34m()\u001b[0m\n\u001b[1;32m      1\u001b[0m \u001b[0mplt\u001b[0m\u001b[0;34m.\u001b[0m\u001b[0mclf\u001b[0m\u001b[0;34m(\u001b[0m\u001b[0;34m)\u001b[0m   \u001b[0;31m# clear figure\u001b[0m\u001b[0;34m\u001b[0m\u001b[0;34m\u001b[0m\u001b[0m\n\u001b[0;32m----> 2\u001b[0;31m \u001b[0macc_values\u001b[0m \u001b[0;34m=\u001b[0m \u001b[0mhistory_dict\u001b[0m\u001b[0;34m[\u001b[0m\u001b[0;34m'acc'\u001b[0m\u001b[0;34m]\u001b[0m\u001b[0;34m\u001b[0m\u001b[0;34m\u001b[0m\u001b[0m\n\u001b[0m\u001b[1;32m      3\u001b[0m \u001b[0mval_acc_values\u001b[0m \u001b[0;34m=\u001b[0m \u001b[0mhistory_dict\u001b[0m\u001b[0;34m[\u001b[0m\u001b[0;34m'val_acc'\u001b[0m\u001b[0;34m]\u001b[0m\u001b[0;34m\u001b[0m\u001b[0;34m\u001b[0m\u001b[0m\n\u001b[1;32m      4\u001b[0m \u001b[0;34m\u001b[0m\u001b[0m\n\u001b[1;32m      5\u001b[0m \u001b[0mplt\u001b[0m\u001b[0;34m.\u001b[0m\u001b[0mplot\u001b[0m\u001b[0;34m(\u001b[0m\u001b[0mepochs\u001b[0m\u001b[0;34m,\u001b[0m \u001b[0macc\u001b[0m\u001b[0;34m,\u001b[0m \u001b[0;34m'bo'\u001b[0m\u001b[0;34m,\u001b[0m \u001b[0mlabel\u001b[0m\u001b[0;34m=\u001b[0m\u001b[0;34m'Training acc'\u001b[0m\u001b[0;34m)\u001b[0m\u001b[0;34m\u001b[0m\u001b[0;34m\u001b[0m\u001b[0m\n",
            "\u001b[0;31mKeyError\u001b[0m: 'acc'"
          ]
        },
        {
          "output_type": "display_data",
          "data": {
            "text/plain": [
              "<Figure size 576x396 with 0 Axes>"
            ]
          },
          "metadata": {
            "tags": []
          }
        }
      ]
    },
    {
      "metadata": {
        "id": "iUQQsBdS6_-F",
        "colab_type": "text"
      },
      "cell_type": "markdown",
      "source": [
        "\n",
        "The dots are the training loss and accuracy, while the solid lines are the validation loss and accuracy. Note that your own results may vary \n",
        "slightly due to a different random initialization of your network.\n",
        "\n",
        "As you can see, the training loss decreases with every epoch and the training accuracy increases with every epoch. That's what you would \n",
        "expect when running gradient descent optimization -- the quantity you are trying to minimize should get lower with every iteration. But that \n",
        "isn't the case for the validation loss and accuracy: they seem to peak at the fourth epoch. This is an example of what we were warning \n",
        "against earlier: a model that performs better on the training data isn't necessarily a model that will do better on data it has never seen \n",
        "before. In precise terms, what you are seeing is \"overfitting\": after the second epoch, we are over-optimizing on the training data, and we \n",
        "ended up learning representations that are specific to the training data and do not generalize to data outside of the training set.\n",
        "\n",
        "In this case, to prevent overfitting, we could simply stop training after three epochs. In general, there is a range of techniques you can \n",
        "leverage to mitigate overfitting, which we will cover in the next chapter.\n",
        "\n",
        "Let's train a new network from scratch for four epochs, then evaluate it on our test data:"
      ]
    },
    {
      "metadata": {
        "id": "4pDWZ6L16_-G",
        "colab_type": "code",
        "colab": {}
      },
      "cell_type": "code",
      "source": [
        "model = models.Sequential()\n",
        "model.add(layers.Dense(16, activation='relu', input_shape=(10000,)))\n",
        "model.add(layers.Dense(16, activation='relu'))\n",
        "model.add(layers.Dense(1, activation='sigmoid'))\n",
        "\n",
        "model.compile(optimizer='rmsprop',\n",
        "              loss='binary_crossentropy',\n",
        "              metrics=['accuracy'])\n",
        "\n",
        "model.fit(x_train, y_train, epochs=4, batch_size=512)\n",
        "results = model.evaluate(x_test, y_test)"
      ],
      "execution_count": 0,
      "outputs": []
    },
    {
      "metadata": {
        "id": "sRLpz0W86_-L",
        "colab_type": "code",
        "colab": {}
      },
      "cell_type": "code",
      "source": [
        "results"
      ],
      "execution_count": 0,
      "outputs": []
    },
    {
      "metadata": {
        "id": "zpp-fXzb6_-P",
        "colab_type": "text"
      },
      "cell_type": "markdown",
      "source": [
        "Our fairly naive approach achieves an accuracy of 88%. With state-of-the-art approaches, one should be able to get close to 95%."
      ]
    },
    {
      "metadata": {
        "id": "NIvZil2L6_-R",
        "colab_type": "text"
      },
      "cell_type": "markdown",
      "source": [
        "## Using a trained network to generate predictions on new data\n",
        "\n",
        "After having trained a network, you will want to use it in a practical setting. You can generate the likelihood of reviews being positive \n",
        "by using the `predict` method:"
      ]
    },
    {
      "metadata": {
        "id": "lw6WVlAC6_-T",
        "colab_type": "code",
        "colab": {}
      },
      "cell_type": "code",
      "source": [
        "model.predict(x_test)"
      ],
      "execution_count": 0,
      "outputs": []
    },
    {
      "metadata": {
        "id": "KnQ1q9J36_-Z",
        "colab_type": "text"
      },
      "cell_type": "markdown",
      "source": [
        "As you can see, the network is very confident for some samples (0.99 or more, or 0.01 or less) but less confident for others (0.6, 0.4). \n"
      ]
    },
    {
      "metadata": {
        "id": "nTTOMG9x6_-a",
        "colab_type": "text"
      },
      "cell_type": "markdown",
      "source": [
        "## Further experiments\n",
        "\n",
        "\n",
        "* We were using 2 hidden layers. Try to use 1 or 3 hidden layers and see how it affects validation and test accuracy.\n",
        "* Try to use layers with more hidden units or less hidden units: 32 units, 64 units...\n",
        "* Try to use the `mse` loss function instead of `binary_crossentropy`.\n",
        "* Try to use the `tanh` activation (an activation that was popular in the early days of neural networks) instead of `relu`.\n",
        "\n",
        "These experiments will help convince you that the architecture choices we have made are all fairly reasonable, although they can still be \n",
        "improved!"
      ]
    },
    {
      "metadata": {
        "id": "9ts39X8h6_-b",
        "colab_type": "text"
      },
      "cell_type": "markdown",
      "source": [
        "## Conclusions\n",
        "\n",
        "\n",
        "Here's what you should take away from this example:\n",
        "\n",
        "* There's usually quite a bit of preprocessing you need to do on your raw data in order to be able to feed it -- as tensors -- into a neural \n",
        "network. In the case of sequences of words, they can be encoded as binary vectors -- but there are other encoding options too.\n",
        "* Stacks of `Dense` layers with `relu` activations can solve a wide range of problems (including sentiment classification), and you will \n",
        "likely use them frequently.\n",
        "* In a binary classification problem (two output classes), your network should end with a `Dense` layer with 1 unit and a `sigmoid` activation, \n",
        "i.e. the output of your network should be a scalar between 0 and 1, encoding a probability.\n",
        "* With such a scalar sigmoid output, on a binary classification problem, the loss function you should use is `binary_crossentropy`.\n",
        "* The `rmsprop` optimizer is generally a good enough choice of optimizer, whatever your problem. That's one less thing for you to worry \n",
        "about.\n",
        "* As they get better on their training data, neural networks eventually start _overfitting_ and end up obtaining increasingly worse results on data \n",
        "never-seen-before. Make sure to always monitor performance on data that is outside of the training set.\n"
      ]
    }
  ]
}