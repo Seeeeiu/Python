{
  "nbformat": 4,
  "nbformat_minor": 0,
  "metadata": {
    "colab": {
      "name": "Lab1.ipynb",
      "version": "0.3.2",
      "provenance": [],
      "collapsed_sections": [],
      "include_colab_link": true
    },
    "kernelspec": {
      "display_name": "Python 3",
      "language": "python",
      "name": "python3"
    }
  },
  "cells": [
    {
      "cell_type": "markdown",
      "metadata": {
        "id": "view-in-github",
        "colab_type": "text"
      },
      "source": [
        "<a href=\"https://colab.research.google.com/github/Seeeeiu/Python/blob/master/Lab1.ipynb\" target=\"_parent\"><img src=\"https://colab.research.google.com/assets/colab-badge.svg\" alt=\"Open In Colab\"/></a>"
      ]
    },
    {
      "metadata": {
        "colab_type": "text",
        "collapsed": true,
        "id": "8eteRKNyWbhG"
      },
      "cell_type": "markdown",
      "source": [
        "# Lab 1"
      ]
    },
    {
      "metadata": {
        "colab_type": "text",
        "id": "nHRxS7w7XhGs"
      },
      "cell_type": "markdown",
      "source": [
        "# **Note: You will find importing data sets much easier if you have a google drive account.**"
      ]
    },
    {
      "metadata": {
        "colab_type": "text",
        "id": "KgALLGo9WbhH"
      },
      "cell_type": "markdown",
      "source": [
        "## Problem 5"
      ]
    },
    {
      "metadata": {
        "colab_type": "code",
        "id": "wPKeX4LSWbhI",
        "colab": {}
      },
      "cell_type": "code",
      "source": [
        "from keras.datasets import mnist\n",
        "#from sklearn.model_selection import train_test_split  \n",
        "#X_train, X_test, y_train, y_test = train_test_split(X, y, test_size=0.20)  \n",
        "\n",
        "\n",
        "(train_images, y_train), (test_images, y_test) = mnist.load_data()\n",
        "\n",
        "nsamples, nx, ny = train_images.shape\n",
        "X_train = train_images.reshape((nsamples,nx*ny))\n",
        "\n",
        "nsamples, nx, ny = test_images.shape\n",
        "X_test = test_images.reshape((nsamples,nx*ny))"
      ],
      "execution_count": 0,
      "outputs": []
    },
    {
      "metadata": {
        "colab_type": "text",
        "id": "xCmeb3tqWbhM"
      },
      "cell_type": "markdown",
      "source": [
        "###a. "
      ]
    },
    {
      "metadata": {
        "id": "yZC-Fgzib9rL",
        "colab_type": "text"
      },
      "cell_type": "markdown",
      "source": [
        "Using a training data set of 42000 observations, transform and fit the training data with 90% of the variance retained. Transform the remaining testing data (do not refit for the second transform)"
      ]
    },
    {
      "metadata": {
        "id": "nzIfrGUC0jzf",
        "colab_type": "code",
        "colab": {}
      },
      "cell_type": "code",
      "source": [
        "train_images.shape\n",
        "test_images.shape"
      ],
      "execution_count": 0,
      "outputs": []
    },
    {
      "metadata": {
        "id": "3RgnrTmudg-L",
        "colab_type": "code",
        "colab": {}
      },
      "cell_type": "code",
      "source": [
        "from sklearn.decomposition import PCA\n",
        "pca = PCA(n_components=0.90)"
      ],
      "execution_count": 0,
      "outputs": []
    },
    {
      "metadata": {
        "id": "iyzLR0m2e5az",
        "colab_type": "code",
        "colab": {}
      },
      "cell_type": "code",
      "source": [
        "X_train_pca = pca.fit_transform(X_train)\n",
        "X_test_pca = pca.transform(X_test)"
      ],
      "execution_count": 0,
      "outputs": []
    },
    {
      "metadata": {
        "colab_type": "text",
        "id": "0o2UBjs4WbhP"
      },
      "cell_type": "markdown",
      "source": [
        "### b."
      ]
    },
    {
      "metadata": {
        "colab_type": "code",
        "id": "m_3st-rVWbhP",
        "colab": {}
      },
      "cell_type": "code",
      "source": [
        "pca.explained_variance_ratio_.size"
      ],
      "execution_count": 0,
      "outputs": []
    },
    {
      "metadata": {
        "colab_type": "code",
        "id": "UPIrXy-PWbhR",
        "colab": {}
      },
      "cell_type": "code",
      "source": [
        "sum(pca.explained_variance_ratio_)"
      ],
      "execution_count": 0,
      "outputs": []
    },
    {
      "metadata": {
        "colab_type": "text",
        "id": "uxnYXmAyWbhS"
      },
      "cell_type": "markdown",
      "source": [
        "### c."
      ]
    },
    {
      "metadata": {
        "colab_type": "code",
        "id": "wjYzNaroWbhT",
        "colab": {}
      },
      "cell_type": "code",
      "source": [
        "from sklearn.neighbors import KNeighborsClassifier\n",
        "knn=KNeighborsClassifier(n_neighbors=3)"
      ],
      "execution_count": 0,
      "outputs": []
    },
    {
      "metadata": {
        "colab_type": "code",
        "id": "CKORTPC8WbhV",
        "colab": {}
      },
      "cell_type": "code",
      "source": [
        "knn.fit(X_train,y_train)"
      ],
      "execution_count": 0,
      "outputs": []
    },
    {
      "metadata": {
        "colab_type": "text",
        "id": "rjOyhtOHWbhX"
      },
      "cell_type": "markdown",
      "source": [
        "### d."
      ]
    },
    {
      "metadata": {
        "id": "6n-Cx1BzzbYO",
        "colab_type": "code",
        "colab": {}
      },
      "cell_type": "code",
      "source": [
        "import matplotlib.pyplot as plt"
      ],
      "execution_count": 0,
      "outputs": []
    },
    {
      "metadata": {
        "colab_type": "code",
        "id": "kEskaLNYWbhY",
        "colab": {}
      },
      "cell_type": "code",
      "source": [
        "plt.hist(x=y_train, bins='auto', color='#0504aa',\n",
        "                            alpha=0.7, rwidth=0.85)"
      ],
      "execution_count": 0,
      "outputs": []
    },
    {
      "metadata": {
        "colab_type": "text",
        "id": "SAIspfESWbha"
      },
      "cell_type": "markdown",
      "source": [
        "## Problem 6"
      ]
    },
    {
      "metadata": {
        "colab_type": "code",
        "id": "VY7tCQUkWbhb",
        "colab": {}
      },
      "cell_type": "code",
      "source": [
        "import pandas as pd\n",
        "import numpy as np\n",
        "import io\n",
        "from google.colab import drive\n",
        "drive.mount('/content/gdrive')"
      ],
      "execution_count": 0,
      "outputs": []
    },
    {
      "metadata": {
        "colab_type": "code",
        "id": "g27rEueRWbhe",
        "colab": {}
      },
      "cell_type": "code",
      "source": [
        "train6 = pd.read_csv('/content/gdrive/My Drive/lab1/train.csv', sep=',', decimal='.')\n",
        "test6 = pd.read_csv('/content/gdrive/My Drive/lab1/test.csv', sep=',', decimal='.')\n",
        "\n",
        "X_train = train6[['ListPrice','Age','Living','Lot']]\n",
        "y_train = train6.iloc[:, 0]\n",
        "X_test = test6.iloc[:, 1:5]"
      ],
      "execution_count": 0,
      "outputs": []
    },
    {
      "metadata": {
        "id": "gcBawHly9mKa",
        "colab_type": "code",
        "colab": {}
      },
      "cell_type": "code",
      "source": [
        "from sklearn.neighbors import KNeighborsRegressor\n",
        "knn = KNeighborsRegressor(n_neighbors = 3,metric='euclidean',weights='distance')\n",
        "knn.fit(X_train,y_train)\n",
        "y_pred = knn.predict(X_test)"
      ],
      "execution_count": 0,
      "outputs": []
    },
    {
      "metadata": {
        "id": "RGyj-kA0Bqej",
        "colab_type": "code",
        "colab": {}
      },
      "cell_type": "code",
      "source": [
        "submission = pd.read_csv('/content/gdrive/My Drive/lab1/Sample submission.csv', sep=',', decimal='.')\n",
        "submission[['SalePrice']]=y_pred\n",
        "df = pd.DataFrame(data=submission)\n",
        "df.to_csv('/content/gdrive/My Drive/lab1/out6.csv',index = False)\n"
      ],
      "execution_count": 0,
      "outputs": []
    },
    {
      "metadata": {
        "colab_type": "text",
        "id": "KLfgeW9pWbhg"
      },
      "cell_type": "markdown",
      "source": [
        "My RMSE is: 71009"
      ]
    },
    {
      "metadata": {
        "colab_type": "text",
        "id": "116LGSM9Wbhh"
      },
      "cell_type": "markdown",
      "source": [
        "## Problem 7"
      ]
    },
    {
      "metadata": {
        "colab_type": "text",
        "id": "6I4rbc3UWbhi"
      },
      "cell_type": "markdown",
      "source": [
        "### a."
      ]
    },
    {
      "metadata": {
        "colab_type": "code",
        "id": "fmbWJ8beWbhj",
        "colab": {}
      },
      "cell_type": "code",
      "source": [
        "train7 = pd.read_csv('/content/gdrive/My Drive/lab1/rr_train.csv', sep=',', decimal='.')\n",
        "test7 = pd.read_csv('/content/gdrive/My Drive/lab1/rr_test.csv', sep=',', decimal='.')"
      ],
      "execution_count": 0,
      "outputs": []
    },
    {
      "metadata": {
        "id": "8ZR1EfGLTlb2",
        "colab_type": "code",
        "colab": {}
      },
      "cell_type": "code",
      "source": [
        "import statsmodels.api as sm\n",
        "y_train =train7.values[:,37] # revenue column\n",
        "x_train =train7.values[:,0:37] # remove revenue"
      ],
      "execution_count": 0,
      "outputs": []
    },
    {
      "metadata": {
        "id": "HCK338_STnYC",
        "colab_type": "code",
        "colab": {}
      },
      "cell_type": "code",
      "source": [
        "x_train = sm.add_constant(x_train) \n",
        "result = sm.OLS(y_train, x_train).fit()"
      ],
      "execution_count": 0,
      "outputs": []
    },
    {
      "metadata": {
        "id": "Idr5-uv1UFSi",
        "colab_type": "code",
        "colab": {}
      },
      "cell_type": "code",
      "source": [
        "x_test = test7.values[:,1:38]\n",
        "x_test = sm.add_constant(x_test)\n",
        "\n",
        "y_pred = result.predict(x_test)"
      ],
      "execution_count": 0,
      "outputs": []
    },
    {
      "metadata": {
        "colab_type": "code",
        "id": "tbjvmpWDWbhl",
        "colab": {}
      },
      "cell_type": "code",
      "source": [
        "submission = pd.read_csv('/content/gdrive/My Drive/lab1/sample_submission.csv', sep=',', decimal='.')\n",
        "submission[['revenue']]=y_pred\n",
        "df = pd.DataFrame(data=submission)\n",
        "df.to_csv('/content/gdrive/My Drive/lab1/out7.csv',index = False)\n",
        "\n",
        "# RMSE :1945645"
      ],
      "execution_count": 0,
      "outputs": []
    },
    {
      "metadata": {
        "colab_type": "text",
        "id": "YMBwv0i3Wbhm"
      },
      "cell_type": "markdown",
      "source": [
        "My RMSE is:"
      ]
    },
    {
      "metadata": {
        "colab_type": "text",
        "id": "PqiC5ZskWbho"
      },
      "cell_type": "markdown",
      "source": [
        "### b."
      ]
    },
    {
      "metadata": {
        "colab_type": "code",
        "id": "1jb2A0i8Wbhp",
        "scrolled": true,
        "colab": {
          "base_uri": "https://localhost:8080/",
          "height": 191
        },
        "outputId": "f751830b-abce-4f2c-b6ed-7bac73f932f5"
      },
      "cell_type": "code",
      "source": [
        "#result.summary()\n",
        "print(result.params)\n"
      ],
      "execution_count": 124,
      "outputs": [
        {
          "output_type": "stream",
          "text": [
            "[ 6.19520470e+06  2.63340691e+05 -2.58680158e+04 -4.25387321e+05\n",
            " -4.24466782e+05 -1.36224361e+05  9.11292134e+04  1.73356343e+05\n",
            " -7.39173317e+05  7.29398340e+05 -1.14778078e+06  1.90149615e+05\n",
            "  5.66632362e+04  2.06705863e+05 -5.60267638e+05  1.58288245e+05\n",
            " -8.44335039e+05  6.98941445e+05  1.06447628e+06 -1.77262970e+05\n",
            " -4.78306975e+05  8.16646306e+05 -6.17847419e+03  3.92318233e+04\n",
            "  2.60096734e+05  8.80649821e+05 -1.35501611e+06 -2.71954590e+05\n",
            "  9.61752412e+05  7.53660689e+05  5.25767533e+05  8.96904939e+04\n",
            " -4.49004242e+05 -7.45886566e+05  6.40146008e+05 -1.71520116e+05\n",
            " -8.49839793e+05  9.78847374e+05]\n"
          ],
          "name": "stdout"
        }
      ]
    }
  ]
}