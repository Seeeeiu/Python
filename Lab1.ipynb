{
  "nbformat": 4,
  "nbformat_minor": 0,
  "metadata": {
    "colab": {
      "name": "Lab1.ipynb",
      "version": "0.3.2",
      "provenance": [],
      "collapsed_sections": [],
      "include_colab_link": true
    },
    "kernelspec": {
      "display_name": "Python 3",
      "language": "python",
      "name": "python3"
    }
  },
  "cells": [
    {
      "cell_type": "markdown",
      "metadata": {
        "id": "view-in-github",
        "colab_type": "text"
      },
      "source": [
        "<a href=\"https://colab.research.google.com/github/Seeeeiu/Python/blob/master/Lab1.ipynb\" target=\"_parent\"><img src=\"https://colab.research.google.com/assets/colab-badge.svg\" alt=\"Open In Colab\"/></a>"
      ]
    },
    {
      "metadata": {
        "colab_type": "text",
        "collapsed": true,
        "id": "8eteRKNyWbhG"
      },
      "cell_type": "markdown",
      "source": [
        "# Lab 1"
      ]
    },
    {
      "metadata": {
        "colab_type": "text",
        "id": "nHRxS7w7XhGs"
      },
      "cell_type": "markdown",
      "source": [
        "# **Note: You will find importing data sets much easier if you have a google drive account.**"
      ]
    },
    {
      "metadata": {
        "colab_type": "text",
        "id": "KgALLGo9WbhH"
      },
      "cell_type": "markdown",
      "source": [
        "## Problem 5"
      ]
    },
    {
      "metadata": {
        "colab_type": "code",
        "id": "wPKeX4LSWbhI",
        "outputId": "7ca9c799-6613-45b7-d0ea-a009bad45cb9",
        "colab": {
          "base_uri": "https://localhost:8080/",
          "height": 69
        }
      },
      "cell_type": "code",
      "source": [
        "from keras.datasets import mnist\n",
        "\n",
        "(train_images, train_labels), (test_images, test_labels) = mnist.load_data()\n",
        "\n",
        "\n",
        "nsamples, nx, ny = train_images.shape\n",
        "X_train = train_images.reshape((nsamples,nx*ny))\n",
        "\n",
        "nsamples, nx, ny = test_images.shape\n",
        "X_test = test_images.reshape((nsamples,nx*ny))"
      ],
      "execution_count": 1,
      "outputs": [
        {
          "output_type": "stream",
          "text": [
            "Using TensorFlow backend.\n"
          ],
          "name": "stderr"
        },
        {
          "output_type": "stream",
          "text": [
            "Downloading data from https://s3.amazonaws.com/img-datasets/mnist.npz\n",
            "11493376/11490434 [==============================] - 0s 0us/step\n"
          ],
          "name": "stdout"
        }
      ]
    },
    {
      "metadata": {
        "colab_type": "text",
        "id": "xCmeb3tqWbhM"
      },
      "cell_type": "markdown",
      "source": [
        "###a. "
      ]
    },
    {
      "metadata": {
        "id": "yZC-Fgzib9rL",
        "colab_type": "text"
      },
      "cell_type": "markdown",
      "source": [
        "Using a training data set of 42000 observations, transform and fit the training data with 90% of the variance retained. Transform the remaining testing data (do not refit for the second transform)"
      ]
    },
    {
      "metadata": {
        "id": "3RgnrTmudg-L",
        "colab_type": "code",
        "colab": {}
      },
      "cell_type": "code",
      "source": [
        "from sklearn.decomposition import PCA\n",
        "pca = PCA(n_components=0.90)"
      ],
      "execution_count": 0,
      "outputs": []
    },
    {
      "metadata": {
        "id": "iyzLR0m2e5az",
        "colab_type": "code",
        "colab": {}
      },
      "cell_type": "code",
      "source": [
        "X_train_pca = pca.fit_transform(X_train)\n",
        "X_test_pca = pca.transform(X_test)"
      ],
      "execution_count": 0,
      "outputs": []
    },
    {
      "metadata": {
        "colab_type": "text",
        "id": "0o2UBjs4WbhP"
      },
      "cell_type": "markdown",
      "source": [
        "### b."
      ]
    },
    {
      "metadata": {
        "colab_type": "code",
        "id": "m_3st-rVWbhP",
        "outputId": "8a0327ad-6a5f-461e-afb1-04af73708dc8",
        "colab": {
          "base_uri": "https://localhost:8080/",
          "height": 35
        }
      },
      "cell_type": "code",
      "source": [
        "pca.explained_variance_ratio_.size"
      ],
      "execution_count": 4,
      "outputs": [
        {
          "output_type": "execute_result",
          "data": {
            "text/plain": [
              "87"
            ]
          },
          "metadata": {
            "tags": []
          },
          "execution_count": 4
        }
      ]
    },
    {
      "metadata": {
        "colab_type": "code",
        "id": "UPIrXy-PWbhR",
        "outputId": "e28d1d0d-2093-4238-db11-efc893f9caaf",
        "colab": {
          "base_uri": "https://localhost:8080/",
          "height": 35
        }
      },
      "cell_type": "code",
      "source": [
        "sum(pca.explained_variance_ratio_)"
      ],
      "execution_count": 5,
      "outputs": [
        {
          "output_type": "execute_result",
          "data": {
            "text/plain": [
              "0.9001062226425085"
            ]
          },
          "metadata": {
            "tags": []
          },
          "execution_count": 5
        }
      ]
    },
    {
      "metadata": {
        "colab_type": "text",
        "id": "uxnYXmAyWbhS"
      },
      "cell_type": "markdown",
      "source": [
        "### c."
      ]
    },
    {
      "metadata": {
        "colab_type": "code",
        "id": "wjYzNaroWbhT",
        "colab": {}
      },
      "cell_type": "code",
      "source": [
        "from sklearn.neighbors import KNeighborsClassifier\n",
        "knn=KNeighborsClassifier(n_neighbors=3)"
      ],
      "execution_count": 0,
      "outputs": []
    },
    {
      "metadata": {
        "colab_type": "code",
        "id": "CKORTPC8WbhV",
        "outputId": "2491ff1f-e53b-4a9d-c7a3-a16717d4bc3b",
        "colab": {
          "base_uri": "https://localhost:8080/",
          "height": 69
        }
      },
      "cell_type": "code",
      "source": [
        "knn.fit(X_train_pca,train_labels)"
      ],
      "execution_count": 0,
      "outputs": [
        {
          "output_type": "execute_result",
          "data": {
            "text/plain": [
              "KNeighborsClassifier(algorithm='auto', leaf_size=30, metric='minkowski',\n",
              "           metric_params=None, n_jobs=None, n_neighbors=3, p=2,\n",
              "           weights='uniform')"
            ]
          },
          "metadata": {
            "tags": []
          },
          "execution_count": 7
        }
      ]
    },
    {
      "metadata": {
        "colab_type": "text",
        "id": "rjOyhtOHWbhX"
      },
      "cell_type": "markdown",
      "source": [
        "### d."
      ]
    },
    {
      "metadata": {
        "id": "6n-Cx1BzzbYO",
        "colab_type": "code",
        "colab": {}
      },
      "cell_type": "code",
      "source": [
        "import matplotlib.pyplot as plt"
      ],
      "execution_count": 0,
      "outputs": []
    },
    {
      "metadata": {
        "colab_type": "code",
        "id": "kEskaLNYWbhY",
        "outputId": "ae49c839-63a5-45c9-be86-2ab2b670478f",
        "colab": {
          "base_uri": "https://localhost:8080/",
          "height": 380
        }
      },
      "cell_type": "code",
      "source": [
        "plt.hist(x=train_labels, bins='auto', color='#0504aa')\n",
        "plt.xlabel('Labels of training images')\n",
        "plt.show()"
      ],
      "execution_count": 0,
      "outputs": [
        {
          "output_type": "execute_result",
          "data": {
            "text/plain": [
              "Text(0.5, 0, 'Labels of training images')"
            ]
          },
          "metadata": {
            "tags": []
          },
          "execution_count": 9
        },
        {
          "output_type": "display_data",
          "data": {
            "image/png": "[encoded data removed]",
            "text/plain": [
              "<Figure size 576x396 with 1 Axes>"
            ]
          },
          "metadata": {
            "tags": []
          }
        }
      ]
    },
    {
      "metadata": {
        "colab_type": "text",
        "id": "SAIspfESWbha"
      },
      "cell_type": "markdown",
      "source": [
        "## Problem 6"
      ]
    },
    {
      "metadata": {
        "colab_type": "code",
        "id": "VY7tCQUkWbhb",
        "outputId": "78933ed3-1fb8-4527-e053-522ec4294caa",
        "colab": {
          "base_uri": "https://localhost:8080/",
          "height": 1050
        }
      },
      "cell_type": "code",
      "source": [
        "import pandas as pd\n",
        "import numpy as np\n",
        "import io\n",
        "from google.colab import drive\n",
        "drive.mount('/content/gdrive')"
      ],
      "execution_count": 6,
      "outputs": [
        {
          "output_type": "error",
          "ename": "KeyboardInterrupt",
          "evalue": "ignored",
          "traceback": [
            "\u001b[0;31m---------------------------------------------------------------------------\u001b[0m",
            "\u001b[0;31mKeyboardInterrupt\u001b[0m                         Traceback (most recent call last)",
            "\u001b[0;32m/usr/local/lib/python3.6/dist-packages/ipykernel/kernelbase.py\u001b[0m in \u001b[0;36m_input_request\u001b[0;34m(self, prompt, ident, parent, password)\u001b[0m\n\u001b[1;32m    729\u001b[0m             \u001b[0;32mtry\u001b[0m\u001b[0;34m:\u001b[0m\u001b[0;34m\u001b[0m\u001b[0;34m\u001b[0m\u001b[0m\n\u001b[0;32m--> 730\u001b[0;31m                 \u001b[0mident\u001b[0m\u001b[0;34m,\u001b[0m \u001b[0mreply\u001b[0m \u001b[0;34m=\u001b[0m \u001b[0mself\u001b[0m\u001b[0;34m.\u001b[0m\u001b[0msession\u001b[0m\u001b[0;34m.\u001b[0m\u001b[0mrecv\u001b[0m\u001b[0;34m(\u001b[0m\u001b[0mself\u001b[0m\u001b[0;34m.\u001b[0m\u001b[0mstdin_socket\u001b[0m\u001b[0;34m,\u001b[0m \u001b[0;36m0\u001b[0m\u001b[0;34m)\u001b[0m\u001b[0;34m\u001b[0m\u001b[0;34m\u001b[0m\u001b[0m\n\u001b[0m\u001b[1;32m    731\u001b[0m             \u001b[0;32mexcept\u001b[0m \u001b[0mException\u001b[0m\u001b[0;34m:\u001b[0m\u001b[0;34m\u001b[0m\u001b[0;34m\u001b[0m\u001b[0m\n",
            "\u001b[0;32m/usr/local/lib/python3.6/dist-packages/jupyter_client/session.py\u001b[0m in \u001b[0;36mrecv\u001b[0;34m(self, socket, mode, content, copy)\u001b[0m\n\u001b[1;32m    802\u001b[0m         \u001b[0;32mtry\u001b[0m\u001b[0;34m:\u001b[0m\u001b[0;34m\u001b[0m\u001b[0;34m\u001b[0m\u001b[0m\n\u001b[0;32m--> 803\u001b[0;31m             \u001b[0mmsg_list\u001b[0m \u001b[0;34m=\u001b[0m \u001b[0msocket\u001b[0m\u001b[0;34m.\u001b[0m\u001b[0mrecv_multipart\u001b[0m\u001b[0;34m(\u001b[0m\u001b[0mmode\u001b[0m\u001b[0;34m,\u001b[0m \u001b[0mcopy\u001b[0m\u001b[0;34m=\u001b[0m\u001b[0mcopy\u001b[0m\u001b[0;34m)\u001b[0m\u001b[0;34m\u001b[0m\u001b[0;34m\u001b[0m\u001b[0m\n\u001b[0m\u001b[1;32m    804\u001b[0m         \u001b[0;32mexcept\u001b[0m \u001b[0mzmq\u001b[0m\u001b[0;34m.\u001b[0m\u001b[0mZMQError\u001b[0m \u001b[0;32mas\u001b[0m \u001b[0me\u001b[0m\u001b[0;34m:\u001b[0m\u001b[0;34m\u001b[0m\u001b[0;34m\u001b[0m\u001b[0m\n",
            "\u001b[0;32m/usr/local/lib/python3.6/dist-packages/zmq/sugar/socket.py\u001b[0m in \u001b[0;36mrecv_multipart\u001b[0;34m(self, flags, copy, track)\u001b[0m\n\u001b[1;32m    465\u001b[0m         \"\"\"\n\u001b[0;32m--> 466\u001b[0;31m         \u001b[0mparts\u001b[0m \u001b[0;34m=\u001b[0m \u001b[0;34m[\u001b[0m\u001b[0mself\u001b[0m\u001b[0;34m.\u001b[0m\u001b[0mrecv\u001b[0m\u001b[0;34m(\u001b[0m\u001b[0mflags\u001b[0m\u001b[0;34m,\u001b[0m \u001b[0mcopy\u001b[0m\u001b[0;34m=\u001b[0m\u001b[0mcopy\u001b[0m\u001b[0;34m,\u001b[0m \u001b[0mtrack\u001b[0m\u001b[0;34m=\u001b[0m\u001b[0mtrack\u001b[0m\u001b[0;34m)\u001b[0m\u001b[0;34m]\u001b[0m\u001b[0;34m\u001b[0m\u001b[0;34m\u001b[0m\u001b[0m\n\u001b[0m\u001b[1;32m    467\u001b[0m         \u001b[0;31m# have first part already, only loop while more to receive\u001b[0m\u001b[0;34m\u001b[0m\u001b[0;34m\u001b[0m\u001b[0;34m\u001b[0m\u001b[0m\n",
            "\u001b[0;32mzmq/backend/cython/socket.pyx\u001b[0m in \u001b[0;36mzmq.backend.cython.socket.Socket.recv\u001b[0;34m()\u001b[0m\n",
            "\u001b[0;32mzmq/backend/cython/socket.pyx\u001b[0m in \u001b[0;36mzmq.backend.cython.socket.Socket.recv\u001b[0;34m()\u001b[0m\n",
            "\u001b[0;32mzmq/backend/cython/socket.pyx\u001b[0m in \u001b[0;36mzmq.backend.cython.socket._recv_copy\u001b[0;34m()\u001b[0m\n",
            "\u001b[0;32m/usr/local/lib/python3.6/dist-packages/zmq/backend/cython/checkrc.pxd\u001b[0m in \u001b[0;36mzmq.backend.cython.checkrc._check_rc\u001b[0;34m()\u001b[0m\n",
            "\u001b[0;31mKeyboardInterrupt\u001b[0m: ",
            "\nDuring handling of the above exception, another exception occurred:\n",
            "\u001b[0;31mKeyboardInterrupt\u001b[0m                         Traceback (most recent call last)",
            "\u001b[0;32m<ipython-input-6-4de01e7ef2ce>\u001b[0m in \u001b[0;36m<module>\u001b[0;34m()\u001b[0m\n\u001b[1;32m      3\u001b[0m \u001b[0;32mimport\u001b[0m \u001b[0mio\u001b[0m\u001b[0;34m\u001b[0m\u001b[0;34m\u001b[0m\u001b[0m\n\u001b[1;32m      4\u001b[0m \u001b[0;32mfrom\u001b[0m \u001b[0mgoogle\u001b[0m\u001b[0;34m.\u001b[0m\u001b[0mcolab\u001b[0m \u001b[0;32mimport\u001b[0m \u001b[0mdrive\u001b[0m\u001b[0;34m\u001b[0m\u001b[0;34m\u001b[0m\u001b[0m\n\u001b[0;32m----> 5\u001b[0;31m \u001b[0mdrive\u001b[0m\u001b[0;34m.\u001b[0m\u001b[0mmount\u001b[0m\u001b[0;34m(\u001b[0m\u001b[0;34m'/content/gdrive'\u001b[0m\u001b[0;34m)\u001b[0m\u001b[0;34m\u001b[0m\u001b[0;34m\u001b[0m\u001b[0m\n\u001b[0m",
            "\u001b[0;32m/usr/local/lib/python3.6/dist-packages/google/colab/drive.py\u001b[0m in \u001b[0;36mmount\u001b[0;34m(mountpoint, force_remount)\u001b[0m\n\u001b[1;32m    135\u001b[0m       \u001b[0;31m# Not already authorized, so do the authorization dance.\u001b[0m\u001b[0;34m\u001b[0m\u001b[0;34m\u001b[0m\u001b[0;34m\u001b[0m\u001b[0m\n\u001b[1;32m    136\u001b[0m       \u001b[0mprompt\u001b[0m \u001b[0;34m=\u001b[0m \u001b[0md\u001b[0m\u001b[0;34m.\u001b[0m\u001b[0mmatch\u001b[0m\u001b[0;34m.\u001b[0m\u001b[0mgroup\u001b[0m\u001b[0;34m(\u001b[0m\u001b[0;36m1\u001b[0m\u001b[0;34m)\u001b[0m \u001b[0;34m+\u001b[0m \u001b[0;34m'\\n\\nEnter your authorization code:\\n'\u001b[0m\u001b[0;34m\u001b[0m\u001b[0;34m\u001b[0m\u001b[0m\n\u001b[0;32m--> 137\u001b[0;31m       \u001b[0md\u001b[0m\u001b[0;34m.\u001b[0m\u001b[0msend\u001b[0m\u001b[0;34m(\u001b[0m\u001b[0m_getpass\u001b[0m\u001b[0;34m.\u001b[0m\u001b[0mgetpass\u001b[0m\u001b[0;34m(\u001b[0m\u001b[0mprompt\u001b[0m\u001b[0;34m)\u001b[0m \u001b[0;34m+\u001b[0m \u001b[0;34m'\\n'\u001b[0m\u001b[0;34m)\u001b[0m\u001b[0;34m\u001b[0m\u001b[0;34m\u001b[0m\u001b[0m\n\u001b[0m\u001b[1;32m    138\u001b[0m   \u001b[0md\u001b[0m\u001b[0;34m.\u001b[0m\u001b[0msendcontrol\u001b[0m\u001b[0;34m(\u001b[0m\u001b[0;34m'z'\u001b[0m\u001b[0;34m)\u001b[0m\u001b[0;34m\u001b[0m\u001b[0;34m\u001b[0m\u001b[0m\n\u001b[1;32m    139\u001b[0m   \u001b[0md\u001b[0m\u001b[0;34m.\u001b[0m\u001b[0mexpect\u001b[0m\u001b[0;34m(\u001b[0m\u001b[0;34mu'Stopped'\u001b[0m\u001b[0;34m)\u001b[0m\u001b[0;34m\u001b[0m\u001b[0;34m\u001b[0m\u001b[0m\n",
            "\u001b[0;32m/usr/local/lib/python3.6/dist-packages/ipykernel/kernelbase.py\u001b[0m in \u001b[0;36mgetpass\u001b[0;34m(self, prompt, stream)\u001b[0m\n\u001b[1;32m    686\u001b[0m             \u001b[0mself\u001b[0m\u001b[0;34m.\u001b[0m\u001b[0m_parent_ident\u001b[0m\u001b[0;34m,\u001b[0m\u001b[0;34m\u001b[0m\u001b[0;34m\u001b[0m\u001b[0m\n\u001b[1;32m    687\u001b[0m             \u001b[0mself\u001b[0m\u001b[0;34m.\u001b[0m\u001b[0m_parent_header\u001b[0m\u001b[0;34m,\u001b[0m\u001b[0;34m\u001b[0m\u001b[0;34m\u001b[0m\u001b[0m\n\u001b[0;32m--> 688\u001b[0;31m             \u001b[0mpassword\u001b[0m\u001b[0;34m=\u001b[0m\u001b[0;32mTrue\u001b[0m\u001b[0;34m,\u001b[0m\u001b[0;34m\u001b[0m\u001b[0;34m\u001b[0m\u001b[0m\n\u001b[0m\u001b[1;32m    689\u001b[0m         )\n\u001b[1;32m    690\u001b[0m \u001b[0;34m\u001b[0m\u001b[0m\n",
            "\u001b[0;32m/usr/local/lib/python3.6/dist-packages/ipykernel/kernelbase.py\u001b[0m in \u001b[0;36m_input_request\u001b[0;34m(self, prompt, ident, parent, password)\u001b[0m\n\u001b[1;32m    733\u001b[0m             \u001b[0;32mexcept\u001b[0m \u001b[0mKeyboardInterrupt\u001b[0m\u001b[0;34m:\u001b[0m\u001b[0;34m\u001b[0m\u001b[0;34m\u001b[0m\u001b[0m\n\u001b[1;32m    734\u001b[0m                 \u001b[0;31m# re-raise KeyboardInterrupt, to truncate traceback\u001b[0m\u001b[0;34m\u001b[0m\u001b[0;34m\u001b[0m\u001b[0;34m\u001b[0m\u001b[0m\n\u001b[0;32m--> 735\u001b[0;31m                 \u001b[0;32mraise\u001b[0m \u001b[0mKeyboardInterrupt\u001b[0m\u001b[0;34m\u001b[0m\u001b[0;34m\u001b[0m\u001b[0m\n\u001b[0m\u001b[1;32m    736\u001b[0m             \u001b[0;32melse\u001b[0m\u001b[0;34m:\u001b[0m\u001b[0;34m\u001b[0m\u001b[0;34m\u001b[0m\u001b[0m\n\u001b[1;32m    737\u001b[0m                 \u001b[0;32mbreak\u001b[0m\u001b[0;34m\u001b[0m\u001b[0;34m\u001b[0m\u001b[0m\n",
            "\u001b[0;31mKeyboardInterrupt\u001b[0m: "
          ]
        }
      ]
    },
    {
      "metadata": {
        "colab_type": "code",
        "id": "g27rEueRWbhe",
        "colab": {}
      },
      "cell_type": "code",
      "source": [
        "train6 = pd.read_csv('/content/gdrive/My Drive/lab1/train.csv', sep=',', decimal='.')\n",
        "test6 = pd.read_csv('/content/gdrive/My Drive/lab1/test.csv', sep=',', decimal='.')\n",
        "\n",
        "X_train = train6[['ListPrice','Age','Living','Lot']]\n",
        "y_train = train6.iloc[:,1]\n",
        "#y_train = train6[['SalePrice']]\n",
        "X_test = test6.iloc[:, 1:5]"
      ],
      "execution_count": 0,
      "outputs": []
    },
    {
      "metadata": {
        "id": "gcBawHly9mKa",
        "colab_type": "code",
        "colab": {}
      },
      "cell_type": "code",
      "source": [
        "from sklearn.neighbors import KNeighborsRegressor\n",
        "knn = KNeighborsRegressor(n_neighbors = 3,weights='distance')\n",
        "knn.fit(X_train,y_train)\n",
        "y_pred = knn.predict(X_test)"
      ],
      "execution_count": 0,
      "outputs": []
    },
    {
      "metadata": {
        "id": "RGyj-kA0Bqej",
        "colab_type": "code",
        "colab": {}
      },
      "cell_type": "code",
      "source": [
        "submission = pd.read_csv('/content/gdrive/My Drive/lab1/Sample submission.csv', sep=',', decimal='.')\n",
        "submission['SalePrice']=y_pred\n",
        "df = pd.DataFrame(data=submission)\n",
        "df.to_csv('/content/gdrive/My Drive/lab1/out6.csv',index = False)\n"
      ],
      "execution_count": 0,
      "outputs": []
    },
    {
      "metadata": {
        "colab_type": "text",
        "id": "KLfgeW9pWbhg"
      },
      "cell_type": "markdown",
      "source": [
        "My RMSE is: 61037.669"
      ]
    },
    {
      "metadata": {
        "colab_type": "text",
        "id": "116LGSM9Wbhh"
      },
      "cell_type": "markdown",
      "source": [
        "## Problem 7"
      ]
    },
    {
      "metadata": {
        "colab_type": "text",
        "id": "6I4rbc3UWbhi"
      },
      "cell_type": "markdown",
      "source": [
        "### a."
      ]
    },
    {
      "metadata": {
        "colab_type": "code",
        "id": "fmbWJ8beWbhj",
        "colab": {}
      },
      "cell_type": "code",
      "source": [
        "train7 = pd.read_csv('/content/gdrive/My Drive/lab1/rr_train.csv', sep=',', decimal='.')\n",
        "test7 = pd.read_csv('/content/gdrive/My Drive/lab1/rr_test.csv', sep=',', decimal='.')"
      ],
      "execution_count": 0,
      "outputs": []
    },
    {
      "metadata": {
        "id": "8ZR1EfGLTlb2",
        "colab_type": "code",
        "outputId": "3dea165d-216b-441f-be29-86ce5c08690b",
        "colab": {
          "base_uri": "https://localhost:8080/",
          "height": 72
        }
      },
      "cell_type": "code",
      "source": [
        "import statsmodels.api as sm\n",
        "y_train =train7.values[:,37] # revenue column\n",
        "x_train =train7.values[:,0:37] # remove revenue"
      ],
      "execution_count": 0,
      "outputs": [
        {
          "output_type": "stream",
          "text": [
            "/usr/local/lib/python3.6/dist-packages/statsmodels/compat/pandas.py:56: FutureWarning: The pandas.core.datetools module is deprecated and will be removed in a future version. Please use the pandas.tseries module instead.\n",
            "  from pandas.core import datetools\n"
          ],
          "name": "stderr"
        }
      ]
    },
    {
      "metadata": {
        "id": "HCK338_STnYC",
        "colab_type": "code",
        "colab": {}
      },
      "cell_type": "code",
      "source": [
        "x_train = sm.add_constant(x_train) \n",
        "result = sm.OLS(y_train, x_train).fit()"
      ],
      "execution_count": 0,
      "outputs": []
    },
    {
      "metadata": {
        "id": "Idr5-uv1UFSi",
        "colab_type": "code",
        "colab": {}
      },
      "cell_type": "code",
      "source": [
        "x_test = test7.values[:,1:38]\n",
        "x_test = sm.add_constant(x_test)\n",
        "\n",
        "y_pred = result.predict(x_test)"
      ],
      "execution_count": 0,
      "outputs": []
    },
    {
      "metadata": {
        "colab_type": "code",
        "id": "tbjvmpWDWbhl",
        "colab": {}
      },
      "cell_type": "code",
      "source": [
        "submission = pd.read_csv('/content/gdrive/My Drive/lab1/sample_submission.csv', sep=',', decimal='.')\n",
        "submission[['revenue']]=y_pred\n",
        "df = pd.DataFrame(data=submission)\n",
        "df.to_csv('/content/gdrive/My Drive/lab1/out7.csv',index = False)\n",
        "\n",
        "# RMSE :1945645"
      ],
      "execution_count": 0,
      "outputs": []
    },
    {
      "metadata": {
        "colab_type": "text",
        "id": "YMBwv0i3Wbhm"
      },
      "cell_type": "markdown",
      "source": [
        "My RMSE is: 2608944.19"
      ]
    },
    {
      "metadata": {
        "colab_type": "text",
        "id": "PqiC5ZskWbho"
      },
      "cell_type": "markdown",
      "source": [
        "### b."
      ]
    },
    {
      "metadata": {
        "colab_type": "code",
        "id": "1jb2A0i8Wbhp",
        "scrolled": true,
        "outputId": "a3f4851a-5b08-4132-8f80-99f91a0fc94d",
        "colab": {
          "base_uri": "https://localhost:8080/",
          "height": 1075
        }
      },
      "cell_type": "code",
      "source": [
        "print(result.summary())\n"
      ],
      "execution_count": 0,
      "outputs": [
        {
          "output_type": "stream",
          "text": [
            "                            OLS Regression Results                            \n",
            "==============================================================================\n",
            "Dep. Variable:                      y   R-squared:                       0.461\n",
            "Model:                            OLS   Adj. R-squared:                  0.139\n",
            "Method:                 Least Squares   F-statistic:                     1.430\n",
            "Date:                Wed, 23 Jan 2019   Prob (F-statistic):              0.105\n",
            "Time:                        02:07:31   Log-Likelihood:                -1578.5\n",
            "No. Observations:                 100   AIC:                             3233.\n",
            "Df Residuals:                      62   BIC:                             3332.\n",
            "Df Model:                          37                                         \n",
            "Covariance Type:            nonrobust                                         \n",
            "==============================================================================\n",
            "                 coef    std err          t      P>|t|      [0.025      0.975]\n",
            "------------------------------------------------------------------------------\n",
            "const       6.195e+06   4.39e+06      1.411      0.163   -2.58e+06     1.5e+07\n",
            "x1          2.633e+05   4.19e+05      0.629      0.532   -5.74e+05     1.1e+06\n",
            "x2         -2.587e+04   4.13e+05     -0.063      0.950   -8.52e+05       8e+05\n",
            "x3         -4.254e+05   4.46e+05     -0.954      0.344   -1.32e+06    4.66e+05\n",
            "x4         -4.245e+05   7.02e+05     -0.605      0.548   -1.83e+06    9.79e+05\n",
            "x5         -1.362e+05   4.91e+05     -0.277      0.782   -1.12e+06    8.45e+05\n",
            "x6          9.113e+04   2.41e+05      0.378      0.706    -3.9e+05    5.72e+05\n",
            "x7          1.734e+05   2.87e+05      0.603      0.548   -4.01e+05    7.48e+05\n",
            "x8         -7.392e+05   5.99e+05     -1.234      0.222   -1.94e+06    4.58e+05\n",
            "x9          7.294e+05    1.2e+06      0.608      0.545   -1.67e+06    3.13e+06\n",
            "x10        -1.148e+06   1.82e+06     -0.632      0.530   -4.78e+06    2.48e+06\n",
            "x11         1.901e+05   3.48e+05      0.546      0.587   -5.06e+05    8.87e+05\n",
            "x12         5.666e+04   8.41e+05      0.067      0.947   -1.63e+06    1.74e+06\n",
            "x13         2.067e+05   1.63e+06      0.127      0.899   -3.05e+06    3.46e+06\n",
            "x14        -5.603e+05   4.91e+05     -1.142      0.258   -1.54e+06    4.21e+05\n",
            "x15         1.583e+05   5.79e+05      0.273      0.785   -9.99e+05    1.32e+06\n",
            "x16        -8.443e+05   5.97e+05     -1.414      0.162   -2.04e+06    3.49e+05\n",
            "x17         6.989e+05   4.79e+05      1.458      0.150   -2.59e+05    1.66e+06\n",
            "x18         1.064e+06   5.48e+05      1.943      0.057   -3.07e+04    2.16e+06\n",
            "x19        -1.773e+05   2.09e+05     -0.849      0.399   -5.95e+05     2.4e+05\n",
            "x20        -4.783e+05   1.93e+05     -2.481      0.016   -8.64e+05    -9.3e+04\n",
            "x21         8.166e+05   3.95e+05      2.069      0.043    2.77e+04    1.61e+06\n",
            "x22        -6178.4742   3.25e+05     -0.019      0.985   -6.56e+05    6.44e+05\n",
            "x23         3.923e+04   1.48e+05      0.266      0.791   -2.56e+05    3.34e+05\n",
            "x24         2.601e+05   6.39e+05      0.407      0.685   -1.02e+06    1.54e+06\n",
            "x25         8.806e+05   7.11e+05      1.239      0.220    -5.4e+05     2.3e+06\n",
            "x26        -1.355e+06   7.56e+05     -1.792      0.078   -2.87e+06    1.56e+05\n",
            "x27         -2.72e+05   2.97e+05     -0.916      0.363   -8.65e+05    3.21e+05\n",
            "x28         9.618e+05   3.47e+05      2.775      0.007    2.69e+05    1.65e+06\n",
            "x29         7.537e+05   4.47e+05      1.687      0.097   -1.39e+05    1.65e+06\n",
            "x30         5.258e+05   2.82e+05      1.861      0.067   -3.89e+04    1.09e+06\n",
            "x31         8.969e+04   4.73e+05      0.190      0.850   -8.55e+05    1.03e+06\n",
            "x32         -4.49e+05   5.25e+05     -0.856      0.395    -1.5e+06       6e+05\n",
            "x33        -7.459e+05   5.56e+05     -1.340      0.185   -1.86e+06    3.67e+05\n",
            "x34         6.401e+05   5.06e+05      1.266      0.210   -3.71e+05    1.65e+06\n",
            "x35        -1.715e+05   4.45e+05     -0.386      0.701   -1.06e+06    7.18e+05\n",
            "x36        -8.498e+05   1.14e+06     -0.746      0.459   -3.13e+06    1.43e+06\n",
            "x37         9.788e+05    5.2e+05      1.884      0.064   -5.97e+04    2.02e+06\n",
            "==============================================================================\n",
            "Omnibus:                       38.010   Durbin-Watson:                   1.674\n",
            "Prob(Omnibus):                  0.000   Jarque-Bera (JB):               93.314\n",
            "Skew:                           1.395   Prob(JB):                     5.46e-21\n",
            "Kurtosis:                       6.823   Cond. No.                         528.\n",
            "==============================================================================\n",
            "\n",
            "Warnings:\n",
            "[1] Standard Errors assume that the covariance matrix of the errors is correctly specified.\n"
          ],
          "name": "stdout"
        }
      ]
    }
  ]
}