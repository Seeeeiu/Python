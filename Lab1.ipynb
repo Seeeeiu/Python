{
  "nbformat": 4,
  "nbformat_minor": 0,
  "metadata": {
    "colab": {
      "name": "Lab1.ipynb",
      "version": "0.3.2",
      "provenance": [],
      "collapsed_sections": [],
      "include_colab_link": true
    },
    "kernelspec": {
      "display_name": "Python 3",
      "language": "python",
      "name": "python3"
    }
  },
  "cells": [
    {
      "cell_type": "markdown",
      "metadata": {
        "id": "view-in-github",
        "colab_type": "text"
      },
      "source": [
        "<a href=\"https://colab.research.google.com/github/Seeeeiu/Python/blob/master/Lab1.ipynb\" target=\"_parent\"><img src=\"https://colab.research.google.com/assets/colab-badge.svg\" alt=\"Open In Colab\"/></a>"
      ]
    },
    {
      "metadata": {
        "colab_type": "text",
        "collapsed": true,
        "id": "8eteRKNyWbhG"
      },
      "cell_type": "markdown",
      "source": [
        "# Lab 1"
      ]
    },
    {
      "metadata": {
        "colab_type": "text",
        "id": "nHRxS7w7XhGs"
      },
      "cell_type": "markdown",
      "source": [
        "# **Note: You will find importing data sets much easier if you have a google drive account.**"
      ]
    },
    {
      "metadata": {
        "colab_type": "text",
        "id": "KgALLGo9WbhH"
      },
      "cell_type": "markdown",
      "source": [
        "## Problem 5"
      ]
    },
    {
      "metadata": {
        "colab_type": "code",
        "id": "wPKeX4LSWbhI",
        "colab": {
          "base_uri": "https://localhost:8080/",
          "height": 69
        },
        "outputId": "f91c369b-8e92-4f25-f2e7-2f6349573210"
      },
      "cell_type": "code",
      "source": [
        "from keras.datasets import mnist\n",
        "\n",
        "(train_images, y_train), (test_images, y_test) = mnist.load_data()\n",
        "\n",
        "nsamples, nx, ny = train_images.shape\n",
        "X_train = train_images.reshape((nsamples,nx*ny))\n",
        "\n",
        "nsamples, nx, ny = test_images.shape\n",
        "X_test = test_images.reshape((nsamples,nx*ny))"
      ],
      "execution_count": 8,
      "outputs": [
        {
          "output_type": "stream",
          "text": [
            "Using TensorFlow backend.\n"
          ],
          "name": "stderr"
        },
        {
          "output_type": "stream",
          "text": [
            "Downloading data from https://s3.amazonaws.com/img-datasets/mnist.npz\n",
            "11493376/11490434 [==============================] - 0s 0us/step\n"
          ],
          "name": "stdout"
        }
      ]
    },
    {
      "metadata": {
        "colab_type": "text",
        "id": "xCmeb3tqWbhM"
      },
      "cell_type": "markdown",
      "source": [
        "###a. "
      ]
    },
    {
      "metadata": {
        "id": "yZC-Fgzib9rL",
        "colab_type": "text"
      },
      "cell_type": "markdown",
      "source": [
        "Using a training data set of 42000 observations, transform and fit the training data with 90% of the variance retained. Transform the remaining testing data (do not refit for the second transform)"
      ]
    },
    {
      "metadata": {
        "colab_type": "code",
        "id": "xqBLbxjwWbhN",
        "outputId": "5b706f1e-0eff-4120-b6b9-2eba043d36ec",
        "colab": {
          "base_uri": "https://localhost:8080/",
          "height": 69
        }
      },
      "cell_type": "code",
      "source": [
        ""
      ],
      "execution_count": 9,
      "outputs": [
        {
          "output_type": "execute_result",
          "data": {
            "text/plain": [
              "KNeighborsClassifier(algorithm='auto', leaf_size=30, metric='minkowski',\n",
              "           metric_params=None, n_jobs=None, n_neighbors=5, p=2,\n",
              "           weights='uniform')"
            ]
          },
          "metadata": {
            "tags": []
          },
          "execution_count": 9
        }
      ]
    },
    {
      "metadata": {
        "id": "3RgnrTmudg-L",
        "colab_type": "code",
        "colab": {}
      },
      "cell_type": "code",
      "source": [
        "from sklearn.decomposition import PCA\n",
        "pca = PCA(n_components=0.90)"
      ],
      "execution_count": 0,
      "outputs": []
    },
    {
      "metadata": {
        "id": "iyzLR0m2e5az",
        "colab_type": "code",
        "colab": {}
      },
      "cell_type": "code",
      "source": [
        "X_train_pca = pca.fit_transform(X_train)\n",
        "X_test_pca = pca.transform(X_test)"
      ],
      "execution_count": 0,
      "outputs": []
    },
    {
      "metadata": {
        "colab_type": "text",
        "id": "0o2UBjs4WbhP"
      },
      "cell_type": "markdown",
      "source": [
        "### b."
      ]
    },
    {
      "metadata": {
        "colab_type": "code",
        "id": "m_3st-rVWbhP",
        "colab": {
          "base_uri": "https://localhost:8080/",
          "height": 35
        },
        "outputId": "89896b89-e08a-4250-9b55-beeff6108a52"
      },
      "cell_type": "code",
      "source": [
        "pca.explained_variance_ratio_.size"
      ],
      "execution_count": 16,
      "outputs": [
        {
          "output_type": "execute_result",
          "data": {
            "text/plain": [
              "87"
            ]
          },
          "metadata": {
            "tags": []
          },
          "execution_count": 16
        }
      ]
    },
    {
      "metadata": {
        "colab_type": "code",
        "id": "UPIrXy-PWbhR",
        "colab": {
          "base_uri": "https://localhost:8080/",
          "height": 35
        },
        "outputId": "348235dd-1a22-4106-f0c9-a9119a3517be"
      },
      "cell_type": "code",
      "source": [
        "sum(pca.explained_variance_ratio_)"
      ],
      "execution_count": 17,
      "outputs": [
        {
          "output_type": "execute_result",
          "data": {
            "text/plain": [
              "0.9001062226425085"
            ]
          },
          "metadata": {
            "tags": []
          },
          "execution_count": 17
        }
      ]
    },
    {
      "metadata": {
        "colab_type": "text",
        "id": "uxnYXmAyWbhS"
      },
      "cell_type": "markdown",
      "source": [
        "### c."
      ]
    },
    {
      "metadata": {
        "colab_type": "code",
        "id": "wjYzNaroWbhT",
        "colab": {}
      },
      "cell_type": "code",
      "source": [
        "from sklearn.neighbors import KNeighborsClassifier\n",
        "knn=KNeighborsClassifier()"
      ],
      "execution_count": 0,
      "outputs": []
    },
    {
      "metadata": {
        "colab_type": "code",
        "id": "CKORTPC8WbhV",
        "colab": {}
      },
      "cell_type": "code",
      "source": [
        "knn.fit(X_train,y_train)"
      ],
      "execution_count": 0,
      "outputs": []
    },
    {
      "metadata": {
        "colab_type": "text",
        "id": "rjOyhtOHWbhX"
      },
      "cell_type": "markdown",
      "source": [
        "### d."
      ]
    },
    {
      "metadata": {
        "colab_type": "code",
        "id": "kEskaLNYWbhY",
        "colab": {}
      },
      "cell_type": "code",
      "source": [
        "\n"
      ],
      "execution_count": 0,
      "outputs": []
    },
    {
      "metadata": {
        "colab_type": "text",
        "id": "SAIspfESWbha"
      },
      "cell_type": "markdown",
      "source": [
        "## Problem 6"
      ]
    },
    {
      "metadata": {
        "colab_type": "code",
        "id": "VY7tCQUkWbhb",
        "outputId": "5367b03d-3ea9-483b-c51c-c1fb6bb45dae",
        "colab": {
          "base_uri": "https://localhost:8080/",
          "height": 124
        }
      },
      "cell_type": "code",
      "source": [
        "import pandas as pd\n",
        "import numpy as np\n",
        "import io\n",
        "\n",
        "from google.colab import drive\n",
        "drive.mount('/content/gdrive')"
      ],
      "execution_count": 0,
      "outputs": [
        {
          "output_type": "stream",
          "text": [
            "Go to this URL in a browser: https://accounts.google.com/o/oauth2/auth?client_id=947318989803-6bn6qk8qdgf4n4g3pfee6491hc0brc4i.apps.googleusercontent.com&redirect_uri=urn%3Aietf%3Awg%3Aoauth%3A2.0%3Aoob&scope=email%20https%3A%2F%2Fwww.googleapis.com%2Fauth%2Fdocs.test%20https%3A%2F%2Fwww.googleapis.com%2Fauth%2Fdrive%20https%3A%2F%2Fwww.googleapis.com%2Fauth%2Fdrive.photos.readonly%20https%3A%2F%2Fwww.googleapis.com%2Fauth%2Fpeopleapi.readonly&response_type=code\n",
            "\n",
            "Enter your authorization code:\n",
            "··········\n",
            "Mounted at /content/gdrive\n"
          ],
          "name": "stdout"
        }
      ]
    },
    {
      "metadata": {
        "colab_type": "code",
        "id": "g27rEueRWbhe",
        "colab": {}
      },
      "cell_type": "code",
      "source": [
        "train6 = pd.read_csv('/content/gdrive/My Drive/Colab Notebooks/lab1-train6.csv', sep=',', decimal='.')\n",
        "test6 = pd.read_csv('/content/gdrive/My Drive/Colab Notebooks/lab1-test6.csv', sep=',', decimal='.')"
      ],
      "execution_count": 0,
      "outputs": []
    },
    {
      "metadata": {
        "colab_type": "code",
        "id": "LCq70I0oXICL",
        "colab": {}
      },
      "cell_type": "code",
      "source": [
        ""
      ],
      "execution_count": 0,
      "outputs": []
    },
    {
      "metadata": {
        "colab_type": "code",
        "id": "g6eJa33WWbhf",
        "colab": {}
      },
      "cell_type": "code",
      "source": [
        "df = pd.DataFrame(data=y_pred)\n",
        "df.to_csv('/content/gdrive/My Drive/Colab Notebooks/out6.csv')"
      ],
      "execution_count": 0,
      "outputs": []
    },
    {
      "metadata": {
        "colab_type": "text",
        "id": "KLfgeW9pWbhg"
      },
      "cell_type": "markdown",
      "source": [
        "My RMSE is:"
      ]
    },
    {
      "metadata": {
        "colab_type": "text",
        "id": "116LGSM9Wbhh"
      },
      "cell_type": "markdown",
      "source": [
        "## Problem 7"
      ]
    },
    {
      "metadata": {
        "colab_type": "text",
        "id": "6I4rbc3UWbhi"
      },
      "cell_type": "markdown",
      "source": [
        "### a."
      ]
    },
    {
      "metadata": {
        "colab_type": "code",
        "id": "fmbWJ8beWbhj",
        "colab": {}
      },
      "cell_type": "code",
      "source": [
        "train7 = pd.read_csv('/content/gdrive/My Drive/Colab Notebooks/lab1-train7.csv', sep=',', decimal='.')\n",
        "test7 = pd.read_csv('/content/gdrive/My Drive/Colab Notebooks/lab1-test7.csv', sep=',', decimal='.')"
      ],
      "execution_count": 0,
      "outputs": []
    },
    {
      "metadata": {
        "colab_type": "code",
        "id": "AYoe-IQyWbhk",
        "colab": {}
      },
      "cell_type": "code",
      "source": [
        "import statsmodels.api as sm\n",
        "y_train =train7.values[:,-1] # take revenue column\n",
        "x_train =train7.values[:,0:37] # \n",
        "\n",
        "x_train = sm.add_constant(x_train) \n",
        "result = sm.OLS(y_train, x_train).fit()\n",
        "\n",
        "x_test = test7.valuesp[:,1:38]\n",
        "x_test = sm.add_constant(x_test)\n",
        "\n",
        "y_pred = result.predict(x_test)\n",
        "                                   \n"
      ],
      "execution_count": 0,
      "outputs": []
    },
    {
      "metadata": {
        "colab_type": "code",
        "id": "tbjvmpWDWbhl",
        "colab": {}
      },
      "cell_type": "code",
      "source": [
        "df = pd.DataFrame(data=y_pred)\n",
        "df.to_csv('/content/gdrive/My Drive/Colab Notebooks/out7.csv')\n",
        "\n",
        "# RMSE :1945645"
      ],
      "execution_count": 0,
      "outputs": []
    },
    {
      "metadata": {
        "colab_type": "text",
        "id": "YMBwv0i3Wbhm"
      },
      "cell_type": "markdown",
      "source": [
        "My RMSE is:"
      ]
    },
    {
      "metadata": {
        "colab_type": "text",
        "id": "PqiC5ZskWbho"
      },
      "cell_type": "markdown",
      "source": [
        "### b."
      ]
    },
    {
      "metadata": {
        "colab_type": "code",
        "id": "1jb2A0i8Wbhp",
        "scrolled": true,
        "colab": {}
      },
      "cell_type": "code",
      "source": [
        ""
      ],
      "execution_count": 0,
      "outputs": []
    }
  ]
}