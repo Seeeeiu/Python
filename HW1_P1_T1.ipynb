{
  "nbformat": 4,
  "nbformat_minor": 0,
  "metadata": {
    "colab": {
      "name": "HW1_P1_T1.ipynb",
      "version": "0.3.2",
      "provenance": [],
      "include_colab_link": true
    },
    "kernelspec": {
      "display_name": "Python 3",
      "language": "python",
      "name": "python3"
    }
  },
  "cells": [
    {
      "cell_type": "markdown",
      "metadata": {
        "id": "view-in-github",
        "colab_type": "text"
      },
      "source": [
        "<a href=\"https://colab.research.google.com/github/Seeeeiu/Python/blob/master/HW1_P1_T1.ipynb\" target=\"_parent\"><img src=\"https://colab.research.google.com/assets/colab-badge.svg\" alt=\"Open In Colab\"/></a>"
      ]
    },
    {
      "metadata": {
        "id": "Y3ttrj0n8j80",
        "colab_type": "text"
      },
      "cell_type": "markdown",
      "source": [
        "### Homework 1 - Part 1 - Task 1\n",
        "You will use k-means to perform image compression. <br>\n",
        "There is an image for testing your code: beach.bmp <br>"
      ]
    },
    {
      "metadata": {
        "id": "PrRKekhV8j82",
        "colab_type": "code",
        "colab": {}
      },
      "cell_type": "code",
      "source": [
        "%matplotlib inline\n",
        "from IPython import display\n",
        "import numpy as np\n",
        "import matplotlib.pyplot as plt\n",
        "import seaborn as sn\n",
        "sn.set(style='whitegrid')"
      ],
      "execution_count": 0,
      "outputs": []
    },
    {
      "metadata": {
        "id": "inv_9Ggz8j86",
        "colab_type": "text"
      },
      "cell_type": "markdown",
      "source": [
        "### Step-0: read an image from a bmp file"
      ]
    },
    {
      "metadata": {
        "id": "6raZsKE38j88",
        "colab_type": "code",
        "outputId": "64287b47-2544-47e1-b940-7d1c2b620030",
        "colab": {
          "base_uri": "https://localhost:8080/",
          "height": 599
        }
      },
      "cell_type": "code",
      "source": [
        "#read but not modify\n",
        "from skimage import io, img_as_float\n",
        "I = io.imread('beach.bmp')\n",
        "I = img_as_float(I)\n",
        "#show\n",
        "fig, ax = plt.subplots(figsize=(6, 6))\n",
        "ax.imshow(I)\n",
        "ax.set_title('beach', fontsize=16)\n",
        "ax.axis('off')"
      ],
      "execution_count": 0,
      "outputs": [
        {
          "output_type": "error",
          "ename": "FileNotFoundError",
          "evalue": "ignored",
          "traceback": [
            "\u001b[0;31m---------------------------------------------------------------------------\u001b[0m",
            "\u001b[0;31mFileNotFoundError\u001b[0m                         Traceback (most recent call last)",
            "\u001b[0;32m<ipython-input-2-5b8e6453fa40>\u001b[0m in \u001b[0;36m<module>\u001b[0;34m()\u001b[0m\n\u001b[1;32m      1\u001b[0m \u001b[0;32mfrom\u001b[0m \u001b[0mskimage\u001b[0m \u001b[0;32mimport\u001b[0m \u001b[0mio\u001b[0m\u001b[0;34m,\u001b[0m \u001b[0mimg_as_float\u001b[0m\u001b[0;34m\u001b[0m\u001b[0;34m\u001b[0m\u001b[0m\n\u001b[0;32m----> 2\u001b[0;31m \u001b[0mI\u001b[0m \u001b[0;34m=\u001b[0m \u001b[0mio\u001b[0m\u001b[0;34m.\u001b[0m\u001b[0mimread\u001b[0m\u001b[0;34m(\u001b[0m\u001b[0;34m'beach.bmp'\u001b[0m\u001b[0;34m)\u001b[0m\u001b[0;34m\u001b[0m\u001b[0;34m\u001b[0m\u001b[0m\n\u001b[0m\u001b[1;32m      3\u001b[0m \u001b[0mI\u001b[0m \u001b[0;34m=\u001b[0m \u001b[0mimg_as_float\u001b[0m\u001b[0;34m(\u001b[0m\u001b[0mI\u001b[0m\u001b[0;34m)\u001b[0m\u001b[0;34m\u001b[0m\u001b[0;34m\u001b[0m\u001b[0m\n\u001b[1;32m      4\u001b[0m \u001b[0;31m#show\u001b[0m\u001b[0;34m\u001b[0m\u001b[0;34m\u001b[0m\u001b[0;34m\u001b[0m\u001b[0m\n\u001b[1;32m      5\u001b[0m \u001b[0mfig\u001b[0m\u001b[0;34m,\u001b[0m \u001b[0max\u001b[0m \u001b[0;34m=\u001b[0m \u001b[0mplt\u001b[0m\u001b[0;34m.\u001b[0m\u001b[0msubplots\u001b[0m\u001b[0;34m(\u001b[0m\u001b[0mfigsize\u001b[0m\u001b[0;34m=\u001b[0m\u001b[0;34m(\u001b[0m\u001b[0;36m6\u001b[0m\u001b[0;34m,\u001b[0m \u001b[0;36m6\u001b[0m\u001b[0;34m)\u001b[0m\u001b[0;34m)\u001b[0m\u001b[0;34m\u001b[0m\u001b[0;34m\u001b[0m\u001b[0m\n",
            "\u001b[0;32m/usr/local/lib/python3.6/dist-packages/skimage/io/_io.py\u001b[0m in \u001b[0;36mimread\u001b[0;34m(fname, as_grey, plugin, flatten, **plugin_args)\u001b[0m\n\u001b[1;32m     59\u001b[0m \u001b[0;34m\u001b[0m\u001b[0m\n\u001b[1;32m     60\u001b[0m     \u001b[0;32mwith\u001b[0m \u001b[0mfile_or_url_context\u001b[0m\u001b[0;34m(\u001b[0m\u001b[0mfname\u001b[0m\u001b[0;34m)\u001b[0m \u001b[0;32mas\u001b[0m \u001b[0mfname\u001b[0m\u001b[0;34m:\u001b[0m\u001b[0;34m\u001b[0m\u001b[0;34m\u001b[0m\u001b[0m\n\u001b[0;32m---> 61\u001b[0;31m         \u001b[0mimg\u001b[0m \u001b[0;34m=\u001b[0m \u001b[0mcall_plugin\u001b[0m\u001b[0;34m(\u001b[0m\u001b[0;34m'imread'\u001b[0m\u001b[0;34m,\u001b[0m \u001b[0mfname\u001b[0m\u001b[0;34m,\u001b[0m \u001b[0mplugin\u001b[0m\u001b[0;34m=\u001b[0m\u001b[0mplugin\u001b[0m\u001b[0;34m,\u001b[0m \u001b[0;34m**\u001b[0m\u001b[0mplugin_args\u001b[0m\u001b[0;34m)\u001b[0m\u001b[0;34m\u001b[0m\u001b[0;34m\u001b[0m\u001b[0m\n\u001b[0m\u001b[1;32m     62\u001b[0m \u001b[0;34m\u001b[0m\u001b[0m\n\u001b[1;32m     63\u001b[0m     \u001b[0;32mif\u001b[0m \u001b[0;32mnot\u001b[0m \u001b[0mhasattr\u001b[0m\u001b[0;34m(\u001b[0m\u001b[0mimg\u001b[0m\u001b[0;34m,\u001b[0m \u001b[0;34m'ndim'\u001b[0m\u001b[0;34m)\u001b[0m\u001b[0;34m:\u001b[0m\u001b[0;34m\u001b[0m\u001b[0;34m\u001b[0m\u001b[0m\n",
            "\u001b[0;32m/usr/local/lib/python3.6/dist-packages/skimage/io/manage_plugins.py\u001b[0m in \u001b[0;36mcall_plugin\u001b[0;34m(kind, *args, **kwargs)\u001b[0m\n\u001b[1;32m    209\u001b[0m                                (plugin, kind))\n\u001b[1;32m    210\u001b[0m \u001b[0;34m\u001b[0m\u001b[0m\n\u001b[0;32m--> 211\u001b[0;31m     \u001b[0;32mreturn\u001b[0m \u001b[0mfunc\u001b[0m\u001b[0;34m(\u001b[0m\u001b[0;34m*\u001b[0m\u001b[0margs\u001b[0m\u001b[0;34m,\u001b[0m \u001b[0;34m**\u001b[0m\u001b[0mkwargs\u001b[0m\u001b[0;34m)\u001b[0m\u001b[0;34m\u001b[0m\u001b[0;34m\u001b[0m\u001b[0m\n\u001b[0m\u001b[1;32m    212\u001b[0m \u001b[0;34m\u001b[0m\u001b[0m\n\u001b[1;32m    213\u001b[0m \u001b[0;34m\u001b[0m\u001b[0m\n",
            "\u001b[0;32m/usr/local/lib/python3.6/dist-packages/skimage/io/_plugins/pil_plugin.py\u001b[0m in \u001b[0;36mimread\u001b[0;34m(fname, dtype, img_num, **kwargs)\u001b[0m\n\u001b[1;32m     33\u001b[0m     \"\"\"\n\u001b[1;32m     34\u001b[0m     \u001b[0;32mif\u001b[0m \u001b[0misinstance\u001b[0m\u001b[0;34m(\u001b[0m\u001b[0mfname\u001b[0m\u001b[0;34m,\u001b[0m \u001b[0mstring_types\u001b[0m\u001b[0;34m)\u001b[0m\u001b[0;34m:\u001b[0m\u001b[0;34m\u001b[0m\u001b[0;34m\u001b[0m\u001b[0m\n\u001b[0;32m---> 35\u001b[0;31m         \u001b[0;32mwith\u001b[0m \u001b[0mopen\u001b[0m\u001b[0;34m(\u001b[0m\u001b[0mfname\u001b[0m\u001b[0;34m,\u001b[0m \u001b[0;34m'rb'\u001b[0m\u001b[0;34m)\u001b[0m \u001b[0;32mas\u001b[0m \u001b[0mf\u001b[0m\u001b[0;34m:\u001b[0m\u001b[0;34m\u001b[0m\u001b[0;34m\u001b[0m\u001b[0m\n\u001b[0m\u001b[1;32m     36\u001b[0m             \u001b[0mim\u001b[0m \u001b[0;34m=\u001b[0m \u001b[0mImage\u001b[0m\u001b[0;34m.\u001b[0m\u001b[0mopen\u001b[0m\u001b[0;34m(\u001b[0m\u001b[0mf\u001b[0m\u001b[0;34m)\u001b[0m\u001b[0;34m\u001b[0m\u001b[0;34m\u001b[0m\u001b[0m\n\u001b[1;32m     37\u001b[0m             \u001b[0;32mreturn\u001b[0m \u001b[0mpil_to_ndarray\u001b[0m\u001b[0;34m(\u001b[0m\u001b[0mim\u001b[0m\u001b[0;34m,\u001b[0m \u001b[0mdtype\u001b[0m\u001b[0;34m=\u001b[0m\u001b[0mdtype\u001b[0m\u001b[0;34m,\u001b[0m \u001b[0mimg_num\u001b[0m\u001b[0;34m=\u001b[0m\u001b[0mimg_num\u001b[0m\u001b[0;34m)\u001b[0m\u001b[0;34m\u001b[0m\u001b[0;34m\u001b[0m\u001b[0m\n",
            "\u001b[0;31mFileNotFoundError\u001b[0m: [Errno 2] No such file or directory: 'beach.bmp'"
          ]
        }
      ]
    },
    {
      "metadata": {
        "id": "jy_xmfF38j9D",
        "colab_type": "text"
      },
      "cell_type": "markdown",
      "source": [
        "The image I is a 3D numpy array <br>\n",
        "I[i,j,k]: i is row index, j is column index, and k is channel (color) index <br>\n",
        "I[0,0] is the pixel at row-0 and col-0, and it has three values r,g,b"
      ]
    },
    {
      "metadata": {
        "id": "D2U9Uchl8j9E",
        "colab_type": "code",
        "outputId": "28c317c5-d1ce-48fe-b282-121c003bf504",
        "colab": {}
      },
      "cell_type": "code",
      "source": [
        "I.shape"
      ],
      "execution_count": 0,
      "outputs": [
        {
          "output_type": "execute_result",
          "data": {
            "text/plain": [
              "(214, 320, 3)"
            ]
          },
          "metadata": {
            "tags": []
          },
          "execution_count": 3
        }
      ]
    },
    {
      "metadata": {
        "id": "NOgu0x0C8j9J",
        "colab_type": "code",
        "outputId": "4fc29f2d-dc8f-430f-93d4-2570867e3160",
        "colab": {}
      },
      "cell_type": "code",
      "source": [
        "I[0,0]"
      ],
      "execution_count": 0,
      "outputs": [
        {
          "output_type": "execute_result",
          "data": {
            "text/plain": [
              "array([0.43137255, 0.60392157, 0.78823529])"
            ]
          },
          "metadata": {
            "tags": []
          },
          "execution_count": 4
        }
      ]
    },
    {
      "metadata": {
        "id": "xRlEm7DR8j9N",
        "colab_type": "text"
      },
      "cell_type": "markdown",
      "source": [
        "### Step-1: prepare the data matrix X\n",
        "each row of X should be a data point - a pixel with three values <br>\n",
        "X should have many rows and 3 columns <br>\n",
        "X is converted from `I`, you may try the function `reshape` <br>\n",
        "The data type of the matrix `X` should be float32"
      ]
    },
    {
      "metadata": {
        "id": "gj_myz3p8j9O",
        "colab_type": "code",
        "colab": {}
      },
      "cell_type": "code",
      "source": [
        "#your code"
      ],
      "execution_count": 0,
      "outputs": []
    },
    {
      "metadata": {
        "id": "CKM7gmkS8j9S",
        "colab_type": "text"
      },
      "cell_type": "markdown",
      "source": [
        "### Step-2: perform k-means on data matrix X\n",
        "try different number of clusters, e.g., 5"
      ]
    },
    {
      "metadata": {
        "id": "IinH_Hfx8j9T",
        "colab_type": "code",
        "colab": {}
      },
      "cell_type": "code",
      "source": [
        "#your code"
      ],
      "execution_count": 0,
      "outputs": []
    },
    {
      "metadata": {
        "id": "1_5BBbiq8j9W",
        "colab_type": "text"
      },
      "cell_type": "markdown",
      "source": [
        "### Step-3: compress the image using the cluster centers\n",
        "Assume you have obtained some cluster centers, e.g., c1, c2, c3 <br>\n",
        "Every data point (i.e. every pixel of the image) is assigned to one of the clusters. <br>\n",
        "To compress the image, you can follow the steps below:<br>\n",
        "    - Make a copy of the the data matrix X, call it Y\n",
        "    - Then, modify the data matrix Y, such that every data point is replaced by the corresponding cluster center\n",
        "    - Convert the data matrix Y back to an image Ic\n",
        "in fact, one line of code is enough, you do not need to create Y at all...  <br>"
      ]
    },
    {
      "metadata": {
        "id": "NPQrNqIY8j9Y",
        "colab_type": "code",
        "colab": {}
      },
      "cell_type": "code",
      "source": [
        "#your code"
      ],
      "execution_count": 0,
      "outputs": []
    },
    {
      "metadata": {
        "id": "mIwJhjYW8j9d",
        "colab_type": "code",
        "outputId": "d63dd3a9-5b5e-4c76-8e5e-565543a9eabe",
        "colab": {}
      },
      "cell_type": "code",
      "source": [
        "Ic.shape"
      ],
      "execution_count": 0,
      "outputs": [
        {
          "output_type": "execute_result",
          "data": {
            "text/plain": [
              "(214, 320, 3)"
            ]
          },
          "metadata": {
            "tags": []
          },
          "execution_count": 9
        }
      ]
    },
    {
      "metadata": {
        "id": "v-NOv2nA8j9j",
        "colab_type": "text"
      },
      "cell_type": "markdown",
      "source": [
        "### Step-4: visualize the compressed the image `Ic`"
      ]
    },
    {
      "metadata": {
        "id": "ILCn1S2l8j9k",
        "colab_type": "code",
        "outputId": "0f52bf07-d778-4427-d1bb-95f684f7a5df",
        "colab": {}
      },
      "cell_type": "code",
      "source": [
        "#read but not modify\n",
        "fig, ax = plt.subplots(figsize=(6, 6))\n",
        "ax.imshow(Ic)\n",
        "ax.set_title('beach - compressed', fontsize=16)\n",
        "ax.axis('off')"
      ],
      "execution_count": 0,
      "outputs": [
        {
          "output_type": "execute_result",
          "data": {
            "text/plain": [
              "(-0.5, 319.5, 213.5, -0.5)"
            ]
          },
          "metadata": {
            "tags": []
          },
          "execution_count": 10
        },
        {
          "output_type": "display_data",
          "data": {
            "image/png": "[encoded data removed]",
            "text/plain": [
              "<Figure size 432x432 with 1 Axes>"
            ]
          },
          "metadata": {
            "tags": [],
            "needs_background": "light"
          }
        }
      ]
    },
    {
      "metadata": {
        "id": "7kSUgV5D8j9p",
        "colab_type": "text"
      },
      "cell_type": "markdown",
      "source": [
        "### Step-5: save the compressed image to a bmp file"
      ]
    },
    {
      "metadata": {
        "id": "4OiqdaOz8j9q",
        "colab_type": "code",
        "colab": {}
      },
      "cell_type": "code",
      "source": [
        "#read but not modify\n",
        "# normalize the pixel values in the range of 0 ~ 255\n",
        "Is=255*(Ic- Ic.min())/(Ic.max()-Ic.min())\n",
        "# chagne datay type to unit8\n",
        "Is=Is.astype('uint8')\n",
        "io.imsave('beach_compressed_k' + str(k) + '.bmp', Is)"
      ],
      "execution_count": 0,
      "outputs": []
    },
    {
      "metadata": {
        "id": "ntkg2mh-8j9t",
        "colab_type": "text"
      },
      "cell_type": "markdown",
      "source": [
        "You may find out that the two files, beach.bmp and beach_compressed.bmp, have the same size. <br>\n",
        "So, it seems nothing is compressed.  <br>\n",
        "Now, zip the two files: beach.bmp and beach_compressed.bmp <br>\n",
        "Compare the sizes of the zipped files : beach.zip and beach_compressed.zip <br>\n",
        "Then, you will know it.  <br>"
      ]
    }
  ]
}